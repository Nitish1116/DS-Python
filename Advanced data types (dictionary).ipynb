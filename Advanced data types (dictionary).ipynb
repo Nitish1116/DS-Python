{
 "cells": [
  {
   "cell_type": "markdown",
   "id": "d2ccfa8b-0db3-4bff-8895-19346ff381d9",
   "metadata": {},
   "source": [
    "# Python Dictionaries"
   ]
  },
  {
   "cell_type": "markdown",
   "id": "0f649de9-c089-4ec8-84a0-bef64be17668",
   "metadata": {},
   "source": [
    "A dictionary is a data structure that allows you to store data and retrive data ia a key-valuepair format."
   ]
  },
  {
   "cell_type": "markdown",
   "id": "fe65a1db-6cbd-4459-ac51-f75417b04db1",
   "metadata": {},
   "source": [
    "Dictionaries are also known as associaitve array or hash maps in other programming languages."
   ]
  },
  {
   "cell_type": "markdown",
   "id": "385a4ad7-e9db-4b39-854c-5f26e17ea61c",
   "metadata": {},
   "source": [
    "They are defined using curly braces{} and consist of key-value pairs seperated by colons."
   ]
  },
  {
   "cell_type": "markdown",
   "id": "264eb26d-19b2-4849-aa77-d9d6ef3f18ad",
   "metadata": {},
   "source": [
    "This data structure is mutable"
   ]
  },
  {
   "cell_type": "markdown",
   "id": "329ef3a7-f88d-4822-bc83-dda450e64108",
   "metadata": {},
   "source": [
    "The components of dictionary were made using keys and values."
   ]
  },
  {
   "cell_type": "markdown",
   "id": "63113f80-421c-492d-bab8-3260c3e5adcd",
   "metadata": {},
   "source": [
    "Keys must only have one component."
   ]
  },
  {
   "cell_type": "markdown",
   "id": "42396295-ed33-49c6-9da2-d46cfd96038c",
   "metadata": {},
   "source": [
    "Values can be of any type, including integer, list, and tuple."
   ]
  },
  {
   "cell_type": "markdown",
   "id": "5ad6125b-17fa-4320-ac18-3a89744727ff",
   "metadata": {},
   "source": [
    "## Creating dictionaries"
   ]
  },
  {
   "cell_type": "code",
   "execution_count": 186,
   "id": "17f64b55-8185-41c9-8bc8-8fd84901833a",
   "metadata": {},
   "outputs": [
    {
     "name": "stdout",
     "output_type": "stream",
     "text": [
      "{'name': 'nitish', 'age': 22, 'grade': 'A'}\n",
      "{'name': 'nitish', 'age': 22, 'grades': [85, 90, 95]}\n"
     ]
    }
   ],
   "source": [
    "# empty dictionary\n",
    "empty_dict={}\n",
    "\n",
    "#dictionary with key value pairs\n",
    "student={'name':'nitish','age':22,'grade':'A'}\n",
    "print (student)\n",
    "\n",
    "#dictionary with mixed data types\n",
    "mixed_dict={\n",
    "            'name':'nitish',\n",
    "            'age':22,\n",
    "            'grades':[85,90,95]\n",
    "            }\n",
    "print(mixed_dict)"
   ]
  },
  {
   "cell_type": "markdown",
   "id": "24714440-f34e-4411-89e3-5ef60e08ce1e",
   "metadata": {},
   "source": [
    "## Accessing values"
   ]
  },
  {
   "cell_type": "markdown",
   "id": "e97622d5-91c5-4535-8584-8df125d93db5",
   "metadata": {},
   "source": [
    "you can access the values in a dictionary using the keys."
   ]
  },
  {
   "cell_type": "code",
   "execution_count": 81,
   "id": "60903c6c-e5dc-4f58-9124-5dd0bd78c04a",
   "metadata": {},
   "outputs": [
    {
     "name": "stdout",
     "output_type": "stream",
     "text": [
      "nitish\n",
      "[85, 90, 95]\n"
     ]
    }
   ],
   "source": [
    "#accessing elements\n",
    "print(student['name'])\n",
    "print(mixed_dict['grades'])"
   ]
  },
  {
   "cell_type": "markdown",
   "id": "8d9caf5c-a839-45c1-8739-8491d5ca50ab",
   "metadata": {},
   "source": [
    "## Modifing and adding entries"
   ]
  },
  {
   "cell_type": "markdown",
   "id": "63ac5245-c8bb-4c5f-b48c-ddcd431ee314",
   "metadata": {},
   "source": [
    "Dictionaries are mutable, so you can modify existing entries or add new one."
   ]
  },
  {
   "cell_type": "code",
   "execution_count": 83,
   "id": "0aaeb5ed-945a-4f5d-9548-f4afb9773eb2",
   "metadata": {},
   "outputs": [
    {
     "name": "stdout",
     "output_type": "stream",
     "text": [
      "{'name': 'nitish', 'age': 24, 'grades': [85, 90, 95]}\n"
     ]
    }
   ],
   "source": [
    "#modifying an entry\n",
    "student={\n",
    "        'name':'nitish',\n",
    "        'age':22,\n",
    "        'grades':[85,90,95]\n",
    "        }\n",
    "student['age']=24\n",
    "print(student)"
   ]
  },
  {
   "cell_type": "code",
   "execution_count": 87,
   "id": "22da4990-acd9-4f8e-8e90-bfa0f14cedb6",
   "metadata": {},
   "outputs": [
    {
     "data": {
      "text/plain": [
       "{'name': 'nitish',\n",
       " 'age': 24,\n",
       " 'grades': [85, 90, 95],\n",
       " 'gender': 'male',\n",
       " 'qualification': 'B.Tech'}"
      ]
     },
     "execution_count": 87,
     "metadata": {},
     "output_type": "execute_result"
    }
   ],
   "source": [
    "## Adding a new entry\n",
    "\n",
    "student['gender']='male'\n",
    "student['qualification']='B.Tech'\n",
    "student"
   ]
  },
  {
   "cell_type": "markdown",
   "id": "a88f0fb8-4745-4b11-9839-5c2ce771e419",
   "metadata": {},
   "source": [
    "## Dictionary methods"
   ]
  },
  {
   "cell_type": "markdown",
   "id": "42a502b2-2988-413e-a846-b76ceefa3af5",
   "metadata": {},
   "source": [
    "### 1.get()\n",
    "            Returns the value for a specified key.It allows you to provide a default value if key is not found."
   ]
  },
  {
   "cell_type": "code",
   "execution_count": 105,
   "id": "8f5b3580-e42d-46a3-ba0b-f1cd28121435",
   "metadata": {},
   "outputs": [
    {
     "name": "stdout",
     "output_type": "stream",
     "text": [
      "no grade\n",
      "male\n",
      "location not found\n"
     ]
    }
   ],
   "source": [
    "g=student.get('grade','no grade')\n",
    "gender=student.get('gender','not specified')\n",
    "h=student.get('location','location not found')\n",
    "print(g)\n",
    "print(gender)\n",
    "print(h)"
   ]
  },
  {
   "cell_type": "markdown",
   "id": "cb03fa2e-5860-4d7d-8b98-3e14c802d02f",
   "metadata": {},
   "source": [
    "### 2.keys()\n",
    "            returns a view of all the keys in the dictionary."
   ]
  },
  {
   "cell_type": "code",
   "execution_count": 118,
   "id": "52430567-21bf-421e-8f63-831b31b7b3ee",
   "metadata": {},
   "outputs": [
    {
     "name": "stdout",
     "output_type": "stream",
     "text": [
      "dict_keys(['name', 'age', 'grades', 'gender', 'qualification'])\n"
     ]
    }
   ],
   "source": [
    "keys=student.keys()\n",
    "print(keys)"
   ]
  },
  {
   "cell_type": "markdown",
   "id": "07f81b9b-1a2c-42a4-9382-bf34e707061c",
   "metadata": {},
   "source": [
    "### 3.values()\n",
    "                returns a view of all the values in the dictionary."
   ]
  },
  {
   "cell_type": "code",
   "execution_count": 123,
   "id": "926ebb87-8272-46d4-ab08-213ad60836e2",
   "metadata": {},
   "outputs": [
    {
     "name": "stdout",
     "output_type": "stream",
     "text": [
      "dict_values(['nitish', 24, [85, 90, 95], 'male', 'B.Tech'])\n"
     ]
    }
   ],
   "source": [
    "values=student.values()\n",
    "print(values)"
   ]
  },
  {
   "cell_type": "markdown",
   "id": "ec7c5d3f-ec30-4654-9d2b-943ae7e63ccd",
   "metadata": {},
   "source": [
    "### 4.items()\n",
    "                returns a view of all keys-value pairs as tuples."
   ]
  },
  {
   "cell_type": "code",
   "execution_count": 127,
   "id": "52570767-c01e-46f5-80ba-87e3f314e9dc",
   "metadata": {},
   "outputs": [
    {
     "name": "stdout",
     "output_type": "stream",
     "text": [
      "dict_items([('name', 'nitish'), ('age', 24), ('grades', [85, 90, 95]), ('gender', 'male'), ('qualification', 'B.Tech')])\n"
     ]
    }
   ],
   "source": [
    "items=student.items()\n",
    "print(items)"
   ]
  },
  {
   "cell_type": "markdown",
   "id": "ceb6129f-4a54-43f8-979a-97dc6b6ba931",
   "metadata": {},
   "source": [
    "### 5.pop()\n",
    "            removes and returns the value for specified key."
   ]
  },
  {
   "cell_type": "code",
   "execution_count": 134,
   "id": "245b53bb-c424-4918-b55a-58651fcec0d5",
   "metadata": {},
   "outputs": [
    {
     "name": "stdout",
     "output_type": "stream",
     "text": [
      "22\n"
     ]
    }
   ],
   "source": [
    "mixed_dict={\n",
    "            'name':'nitish',\n",
    "            'age':22,\n",
    "            'grades':[85,90,95]\n",
    "            }\n",
    "age=mixed_dict.pop('age')\n",
    "print(age)"
   ]
  },
  {
   "cell_type": "markdown",
   "id": "0e09a5c1-559a-4cbb-b4ed-555f4b2e1d97",
   "metadata": {},
   "source": [
    "### 6.popitem()\n",
    "               removes and returns the last inserted key-value pair as a tuple. "
   ]
  },
  {
   "cell_type": "code",
   "execution_count": 139,
   "id": "aea8e706-9856-4ca5-a334-67321bff3159",
   "metadata": {},
   "outputs": [
    {
     "name": "stdout",
     "output_type": "stream",
     "text": [
      "('qualification', 'B.Tech')\n"
     ]
    }
   ],
   "source": [
    "last_item=student.popitem()\n",
    "print(last_item)"
   ]
  },
  {
   "cell_type": "markdown",
   "id": "dab86c31-a603-47d2-8953-5a760add6e55",
   "metadata": {},
   "source": [
    "### 7.update()\n",
    "                updates the dictionary with elements from another dictionary or from an iterable of key-value pairs."
   ]
  },
  {
   "cell_type": "code",
   "execution_count": 168,
   "id": "e2b97a52-494e-413e-9c6c-cdb28ed6f6a6",
   "metadata": {},
   "outputs": [
    {
     "name": "stdout",
     "output_type": "stream",
     "text": [
      "{'name': 'nitish', 'age': 24, 'grades': 'A+'}\n"
     ]
    }
   ],
   "source": [
    "student={'name':'nitish','age':22,'grades':[85,90,95]}\n",
    "new_data={'age':24,'grades':'A+'}\n",
    "student.update(new_data)\n",
    "print(student)\n"
   ]
  },
  {
   "cell_type": "markdown",
   "id": "92012314-2dc5-4c41-ad0c-24d9c33d18ee",
   "metadata": {},
   "source": [
    "### 8.clear()\n",
    "                Removes all items from the dictionary."
   ]
  },
  {
   "cell_type": "code",
   "execution_count": 175,
   "id": "9dcd9327-04ff-4e03-8eb2-d8522effedc7",
   "metadata": {},
   "outputs": [
    {
     "name": "stdout",
     "output_type": "stream",
     "text": [
      "None\n"
     ]
    }
   ],
   "source": [
    "clear=student.clear()\n",
    "print(clear)"
   ]
  },
  {
   "cell_type": "markdown",
   "id": "b72ce03d-51ee-4b46-a295-a3906ad3abe9",
   "metadata": {},
   "source": [
    "### 9.copy()\n",
    "            Returns a shallow copy of the dictionary.\n",
    "\n"
   ]
  },
  {
   "cell_type": "code",
   "execution_count": 183,
   "id": "a7276d83-fd08-4dde-bd5c-824cb6b18d69",
   "metadata": {},
   "outputs": [
    {
     "name": "stdout",
     "output_type": "stream",
     "text": [
      "{'name': 'nitish', 'age': 22, 'grades': [85, 90, 95]}\n"
     ]
    }
   ],
   "source": [
    "student={'name':'nitish','age':22,'grades':[85,90,95]}\n",
    "copy=student.copy()\n",
    "print(copy)"
   ]
  },
  {
   "cell_type": "markdown",
   "id": "4a01cfb1-161a-445f-942e-88edb15005a9",
   "metadata": {},
   "source": [
    "### 10.fromkeys()\n",
    "                Creates a dictionary from the given sequence."
   ]
  },
  {
   "cell_type": "code",
   "execution_count": 194,
   "id": "2adb05e2-6868-4b83-b494-db11d15f5334",
   "metadata": {},
   "outputs": [
    {
     "name": "stdout",
     "output_type": "stream",
     "text": [
      "{'b': None, 'c': None, 'a': None, 'e': None, 'd': None}\n",
      "{'b': 1, 'c': 1, 'a': 1, 'e': 1, 'd': 1}\n"
     ]
    }
   ],
   "source": [
    "seq = {'a', 'b', 'c', 'd', 'e'}\n",
    "res_dict = dict.fromkeys(seq)\n",
    "res_dict1 = dict.fromkeys(seq,1)\n",
    "print(res_dict)\n",
    "print(res_dict1)"
   ]
  },
  {
   "cell_type": "markdown",
   "id": "83b8de8b-37e6-4593-90a6-c787ef8c4827",
   "metadata": {},
   "source": [
    "### 11.setdefault()\n",
    "                    Returns the value of a key if the key is in the dictionary else inserts the key with a value to the dictionary."
   ]
  },
  {
   "cell_type": "code",
   "execution_count": 1,
   "id": "8f6429fa-ac41-4069-a02a-6bb7156a3aec",
   "metadata": {},
   "outputs": [
    {
     "name": "stdout",
     "output_type": "stream",
     "text": [
      "visakhapatnam\n",
      "nitish\n"
     ]
    }
   ],
   "source": [
    "student={'name':'nitish','age':22,'grades':[85,90,95]}\n",
    "x=student.setdefault('city','visakhapatnam')\n",
    "y=student.setdefault('name','nitish')\n",
    "print(x)\n",
    "print(y)"
   ]
  },
  {
   "cell_type": "code",
   "execution_count": null,
   "id": "3e9ec780-5c82-4c09-a19f-f8fb819bd1dc",
   "metadata": {},
   "outputs": [],
   "source": []
  }
 ],
 "metadata": {
  "kernelspec": {
   "display_name": "Python 3 (ipykernel)",
   "language": "python",
   "name": "python3"
  },
  "language_info": {
   "codemirror_mode": {
    "name": "ipython",
    "version": 3
   },
   "file_extension": ".py",
   "mimetype": "text/x-python",
   "name": "python",
   "nbconvert_exporter": "python",
   "pygments_lexer": "ipython3",
   "version": "3.12.4"
  }
 },
 "nbformat": 4,
 "nbformat_minor": 5
}
