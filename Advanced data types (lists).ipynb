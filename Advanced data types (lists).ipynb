{
 "cells": [
  {
   "cell_type": "markdown",
   "id": "2d587b5e-27b8-498d-8b5c-5260b8310f5a",
   "metadata": {},
   "source": [
    "# Python lists"
   ]
  },
  {
   "cell_type": "markdown",
   "id": "ab1cf77d-9e43-49cb-bbfe-bb6570bf6aab",
   "metadata": {},
   "source": [
    "It is commonly used data type that represents an ordered mutable(modifiable)and iterable sequence of elements."
   ]
  },
  {
   "cell_type": "markdown",
   "id": "2b0200e6-2c28-480f-ab04-06924d544143",
   "metadata": {},
   "source": [
    "list are used to stor, collection of items, and these items can be of any data type, including numbers,strings,or even other lists."
   ]
  },
  {
   "cell_type": "markdown",
   "id": "cacf5194-d87f-4a1e-bb1b-8beba2ae9e07",
   "metadata": {},
   "source": [
    "lists are defined sing square bracket[] and elements are seperated by commas, ."
   ]
  },
  {
   "cell_type": "code",
   "execution_count": 15,
   "id": "c5dee610-f0c5-4afb-b321-e683efcbc12c",
   "metadata": {},
   "outputs": [
    {
     "name": "stdout",
     "output_type": "stream",
     "text": [
      "<class 'list'>\n"
     ]
    }
   ],
   "source": [
    "# creation of list\n",
    "\n",
    "numbers=[1,2,3,4,5,6,7]\n",
    "print(type(numbers))"
   ]
  },
  {
   "cell_type": "markdown",
   "id": "4e0093cf-781b-4b76-bdae-9929d1176d51",
   "metadata": {},
   "source": [
    "## Access list elements"
   ]
  },
  {
   "cell_type": "markdown",
   "id": "7a59ccf9-f482-4d26-ae14-b56a063c7eca",
   "metadata": {},
   "source": [
    "In python lists are ordered and each item in a list is associated with a number.The number is known as a list index."
   ]
  },
  {
   "cell_type": "markdown",
   "id": "c5acb0a8-5b15-4d26-88d8-1beb2059ac60",
   "metadata": {},
   "source": [
    "This index of the first element is 0 ,second element is 1 and so on."
   ]
  },
  {
   "cell_type": "markdown",
   "id": "6b31b421-4385-402e-9390-d9400d6cb638",
   "metadata": {},
   "source": [
    "Python allows negative indexing for its sequences. The index of -1 refers to the item, -2 as the second last item and so on."
   ]
  },
  {
   "cell_type": "code",
   "execution_count": 2,
   "id": "81cdcfdf-7115-4210-87fd-efb7a77a53c5",
   "metadata": {},
   "outputs": [
    {
     "name": "stdout",
     "output_type": "stream",
     "text": [
      "java\n"
     ]
    }
   ],
   "source": [
    "languages=[\"python\",\"java\",\"c++\",\"c\"]\n",
    "print(languages[1])"
   ]
  },
  {
   "cell_type": "code",
   "execution_count": 4,
   "id": "6ba54355-9358-417f-bece-82003bfbb106",
   "metadata": {},
   "outputs": [
    {
     "name": "stdout",
     "output_type": "stream",
     "text": [
      "c++\n"
     ]
    }
   ],
   "source": [
    "languages=[\"python\",\"java\",\"c++\",\"c\"]\n",
    "print(languages[-2])"
   ]
  },
  {
   "cell_type": "markdown",
   "id": "a6165be9-b3da-4367-9d34-78c85234d235",
   "metadata": {},
   "source": [
    "## Sclicing of a list"
   ]
  },
  {
   "cell_type": "markdown",
   "id": "cf551953-b85a-455d-8e73-690e4e6bac71",
   "metadata": {},
   "source": [
    "In python it is possible to access a portion ofa list using a slicing operation."
   ]
  },
  {
   "cell_type": "code",
   "execution_count": 23,
   "id": "eb638d87-d095-4c5e-b807-638aab111f6c",
   "metadata": {},
   "outputs": [
    {
     "name": "stdout",
     "output_type": "stream",
     "text": [
      "['c', 'd', 'f', 'g', 'e']\n",
      "['a', 'b', 'c', 'd', 'f', 'g', 'e', 'g']\n",
      "['g', 'e', 'g', 'j', 'y', 'u', 'i', 'a', 't', 'b', 'n', 'o', 'l']\n",
      "['a', 'b', 'c', 'd', 'f', 'g', 'e', 'g', 'j', 'y', 'u', 'i', 'a', 't', 'b', 'n', 'o', 'l']\n",
      "['j', 'y', 'u', 'i', 'a', 't', 'b']\n"
     ]
    }
   ],
   "source": [
    "my_list=['a','b','c','d','f','g','e','g','j','y','u','i','a','t','b','n','o','l']\n",
    "print(my_list[2:7]) # n-1 =7-1\n",
    "print(my_list[ :8])\n",
    "print(my_list[5: ])\n",
    "print(my_list[ : ])\n",
    "print(my_list[-10:-3])"
   ]
  },
  {
   "cell_type": "markdown",
   "id": "11e25659-9188-4bcc-9513-3955ae77a644",
   "metadata": {},
   "source": [
    "## List Operations:"
   ]
  },
  {
   "cell_type": "markdown",
   "id": "5cce739f-68dc-4fa2-a703-ea81d9de5a18",
   "metadata": {},
   "source": [
    "List contain two type of operations."
   ]
  },
  {
   "cell_type": "code",
   "execution_count": 3,
   "id": "c5774465-66eb-4b6b-9b39-9718ee40c54a",
   "metadata": {},
   "outputs": [
    {
     "name": "stdout",
     "output_type": "stream",
     "text": [
      "[1, 2, 3, 4, 5, 6, 7, 8]\n"
     ]
    }
   ],
   "source": [
    "#1.Concatention\n",
    "a=[1,2,3]\n",
    "b=[4,5,6,7,8]\n",
    "c=a+b\n",
    "print(c)"
   ]
  },
  {
   "cell_type": "code",
   "execution_count": 5,
   "id": "14d3362e-08c8-4943-8182-624a66943a9b",
   "metadata": {},
   "outputs": [
    {
     "name": "stdout",
     "output_type": "stream",
     "text": [
      "[4, 5, 6, 7, 8, 4, 5, 6, 7, 8, 4, 5, 6, 7, 8, 4, 5, 6, 7, 8, 4, 5, 6, 7, 8, 4, 5, 6, 7, 8, 4, 5, 6, 7, 8]\n"
     ]
    }
   ],
   "source": [
    "#2.Repetition\n",
    "a=[4,5,6,7,8]\n",
    "b=a*7\n",
    "print(b)"
   ]
  },
  {
   "cell_type": "markdown",
   "id": "415628dd-59a8-416a-bbf5-28f9d6219bc8",
   "metadata": {},
   "source": [
    "## change list items"
   ]
  },
  {
   "cell_type": "markdown",
   "id": "db9bf686-5074-48e8-8975-fdd0fe7ce886",
   "metadata": {},
   "source": [
    "To change the value of specific item, refer to the index number."
   ]
  },
  {
   "cell_type": "code",
   "execution_count": 15,
   "id": "c6691223-3120-48ab-89cc-8fd73b9acffe",
   "metadata": {},
   "outputs": [
    {
     "name": "stdout",
     "output_type": "stream",
     "text": [
      "['apple', 'banana', 'cherry']\n",
      "['apple', 'mango', 'cherry']\n"
     ]
    }
   ],
   "source": [
    "list=['apple','banana','cherry']\n",
    "print(list)\n",
    "list[1]='mango'\n",
    "print(list)"
   ]
  },
  {
   "cell_type": "code",
   "execution_count": 17,
   "id": "4bdc99bf-ee92-4305-b2b0-da1f254223e2",
   "metadata": {},
   "outputs": [
    {
     "name": "stdout",
     "output_type": "stream",
     "text": [
      "['apple', 'grape', 'pineapple', 'strawberry', 'coconut', 'mango']\n"
     ]
    }
   ],
   "source": [
    "list=['apple','banana','cherry','kiwi','coconut','mango']\n",
    "list[1:4]=['grape','pineapple','strawberry']\n",
    "print(list)\n"
   ]
  },
  {
   "cell_type": "code",
   "execution_count": 19,
   "id": "3e435828-e2d5-4c9f-942b-6d6b65835c54",
   "metadata": {},
   "outputs": [
    {
     "name": "stdout",
     "output_type": "stream",
     "text": [
      "['apple', 'banana', 'grape', 'pineapple', 'strawberry', 'mango']\n"
     ]
    }
   ],
   "source": [
    "list=['apple','banana','cherry','kiwi','coconut','mango']\n",
    "list[-4:-1]=['grape','pineapple','strawberry']\n",
    "print(list)\n"
   ]
  },
  {
   "cell_type": "markdown",
   "id": "42875c92-b490-4326-93fb-43c032365d46",
   "metadata": {},
   "source": [
    "## List Methods"
   ]
  },
  {
   "cell_type": "markdown",
   "id": "47920610-dd54-478e-857e-4fea9b43ceff",
   "metadata": {},
   "source": [
    "### 1.Append()\n",
    "     Adds an elememt to the end of the list."
   ]
  },
  {
   "cell_type": "code",
   "execution_count": 32,
   "id": "60954f7f-802b-4c41-930a-747725e55b49",
   "metadata": {},
   "outputs": [
    {
     "name": "stdout",
     "output_type": "stream",
     "text": [
      "[1, 2, 3, 5]\n"
     ]
    }
   ],
   "source": [
    "numbers=[1,2,3]\n",
    "numbers.append(5)\n",
    "print(numbers)"
   ]
  },
  {
   "cell_type": "markdown",
   "id": "820c33d1-10ed-4762-9acc-4cbc77408626",
   "metadata": {},
   "source": [
    "### 2.Extend()\n",
    "              Appends element from another iterable to end."
   ]
  },
  {
   "cell_type": "code",
   "execution_count": 36,
   "id": "cf609b59-edcb-4775-8582-342cb23cdee9",
   "metadata": {},
   "outputs": [
    {
     "name": "stdout",
     "output_type": "stream",
     "text": [
      "[1, 2, 3, 5, 3, 9]\n"
     ]
    }
   ],
   "source": [
    "numbers=[1,2,3]\n",
    "more_numbers=[5,3,9]\n",
    "numbers.extend(more_numbers)\n",
    "print(numbers)"
   ]
  },
  {
   "cell_type": "code",
   "execution_count": 40,
   "id": "effd2325-a1d9-41f9-bed4-185e9f06e39e",
   "metadata": {},
   "outputs": [
    {
     "name": "stdout",
     "output_type": "stream",
     "text": [
      "['apple', 'banana', 'cherry', 'kiwi', 'coconut', 'mango', 'grape', 'pineapple', 'strawberry']\n"
     ]
    }
   ],
   "source": [
    "fruits=['apple','banana','cherry','kiwi','coconut','mango']\n",
    "more_fruits=['grape','pineapple','strawberry']\n",
    "fruits.extend(more_fruits)\n",
    "print(fruits)"
   ]
  },
  {
   "cell_type": "markdown",
   "id": "c807d25b-8301-4f29-8aa6-d3d3f312a423",
   "metadata": {},
   "source": [
    "### 3.insert()"
   ]
  },
  {
   "cell_type": "markdown",
   "id": "0c1c3bc1-7d00-4ba2-87bc-37081b6ec567",
   "metadata": {},
   "source": [
    "       insert an element at specified position."
   ]
  },
  {
   "cell_type": "code",
   "execution_count": 46,
   "id": "73fbfc9d-36b7-4abc-b633-caeed7a5214e",
   "metadata": {},
   "outputs": [
    {
     "name": "stdout",
     "output_type": "stream",
     "text": [
      "[1, 2, 9, 3]\n"
     ]
    }
   ],
   "source": [
    "numbers=[1,2,3]\n",
    "numbers.insert(2,9)\n",
    "print(numbers)"
   ]
  },
  {
   "cell_type": "code",
   "execution_count": 54,
   "id": "4f970f5b-a9bb-4344-adb8-4f3576cdb7d5",
   "metadata": {},
   "outputs": [
    {
     "name": "stdout",
     "output_type": "stream",
     "text": [
      "['apple', 'pineapple', 'banana', 'cherry', 'kiwi', 'coconut', 'mango']\n"
     ]
    }
   ],
   "source": [
    "fruits=['apple','banana','cherry','kiwi','coconut','mango']\n",
    "fruits.insert(1,'pineapple')\n",
    "print(fruits)"
   ]
  },
  {
   "cell_type": "code",
   "execution_count": 56,
   "id": "cf564142-c902-46fa-8f4a-f53aea2454ed",
   "metadata": {},
   "outputs": [
    {
     "name": "stdout",
     "output_type": "stream",
     "text": [
      "['apple', ['grape', 'pineapple', 'strawberry'], 'banana', 'cherry', 'kiwi', 'coconut', 'mango']\n"
     ]
    }
   ],
   "source": [
    "fruits=['apple','banana','cherry','kiwi','coconut','mango']\n",
    "more_fruits=['grape','pineapple','strawberry']\n",
    "fruits.insert(1,more_fruits)\n",
    "print(fruits)"
   ]
  },
  {
   "cell_type": "markdown",
   "id": "7aa3be89-d8aa-47a2-b11b-fab1ff0f2edf",
   "metadata": {},
   "source": [
    "### 4.remove()\n",
    "             removes the first occurrence of a value."
   ]
  },
  {
   "cell_type": "code",
   "execution_count": 59,
   "id": "8c6c84a1-df55-4712-8761-de19c79ba89e",
   "metadata": {},
   "outputs": [
    {
     "name": "stdout",
     "output_type": "stream",
     "text": [
      "[1, 3]\n"
     ]
    }
   ],
   "source": [
    "numbers=[1,2,3]\n",
    "numbers.remove(2)\n",
    "print(numbers)"
   ]
  },
  {
   "cell_type": "code",
   "execution_count": 71,
   "id": "a3a391b1-d84e-41d2-9eb1-786ea3696e13",
   "metadata": {},
   "outputs": [
    {
     "name": "stdout",
     "output_type": "stream",
     "text": [
      "['banana', 'cherry', 'kiwi', 'coconut', 'mango']\n"
     ]
    }
   ],
   "source": [
    "fruits=['apple','banana','cherry','kiwi','coconut','mango']\n",
    "fruits.remove('apple')\n",
    "print(fruits)"
   ]
  },
  {
   "cell_type": "markdown",
   "id": "1e67458e-7426-4b5c-9d6a-64616b471bfd",
   "metadata": {},
   "source": [
    "### 5.Pop()\n",
    "           removes and returns an element at a specified index."
   ]
  },
  {
   "cell_type": "code",
   "execution_count": 77,
   "id": "3ff281bf-e2fd-473b-a6dd-4270534de750",
   "metadata": {},
   "outputs": [
    {
     "name": "stdout",
     "output_type": "stream",
     "text": [
      "[1, 2, 3, 4, 5, 6, 7, 9, 2, 3, 4, 5, 6, 8, 3, 4, 5, 8, 3, 4, 8, 1, 2, 4]\n",
      "8\n"
     ]
    }
   ],
   "source": [
    "numbers=[1,2,3,4,5,6,7,9,2,3,4,5,6,8,3,4,5,8,3,4,8,1,2,4,8]\n",
    "popped_element=numbers.pop()\n",
    "print(numbers)\n",
    "print(popped_element)"
   ]
  },
  {
   "cell_type": "code",
   "execution_count": 127,
   "id": "c719c927-c446-444f-879f-7c72ab47ac14",
   "metadata": {},
   "outputs": [
    {
     "name": "stdout",
     "output_type": "stream",
     "text": [
      "kiwi\n"
     ]
    }
   ],
   "source": [
    "fruits=['apple','banana','cherry','kiwi','cherry','coconut','mango']\n",
    "popped_fruits=fruits.pop(3)\n",
    "print(popped_fruits)"
   ]
  },
  {
   "cell_type": "markdown",
   "id": "844f5895-4ce9-4ee0-9844-3fd2b725182b",
   "metadata": {},
   "source": [
    "### 6.index()\n",
    "            returns the index of the occurrence of a value."
   ]
  },
  {
   "cell_type": "code",
   "execution_count": 92,
   "id": "d98a46d8-7691-4731-95ba-940adcbeae60",
   "metadata": {},
   "outputs": [
    {
     "name": "stdout",
     "output_type": "stream",
     "text": [
      "3\n"
     ]
    }
   ],
   "source": [
    "numbers=[23,56,64,98,12,53,87,68,56]\n",
    "index=numbers.index(98)\n",
    "print(index)"
   ]
  },
  {
   "cell_type": "code",
   "execution_count": 125,
   "id": "df82f059-79fe-4ab6-91fa-98bc719dc841",
   "metadata": {},
   "outputs": [
    {
     "name": "stdout",
     "output_type": "stream",
     "text": [
      "3\n"
     ]
    }
   ],
   "source": [
    "fruits=['apple','banana','cherry','kiwi','cherry','coconut','mango']\n",
    "index_fruits=fruits.index('kiwi')\n",
    "print(index_fruits)"
   ]
  },
  {
   "cell_type": "markdown",
   "id": "cd668d2b-84a4-44ba-82ea-3227a6cc5427",
   "metadata": {},
   "source": [
    "### 7.count()\n",
    "             return the number of occurrences of a value.            "
   ]
  },
  {
   "cell_type": "code",
   "execution_count": 123,
   "id": "ef27563f-9fc6-43d2-a607-1cb41d45904b",
   "metadata": {},
   "outputs": [
    {
     "name": "stdout",
     "output_type": "stream",
     "text": [
      "2\n"
     ]
    }
   ],
   "source": [
    "numbers=[23,56,64,98,12,53,87,68,56]\n",
    "count=numbers.count(56)\n",
    "print(count)"
   ]
  },
  {
   "cell_type": "code",
   "execution_count": 140,
   "id": "93703aaa-1cd3-4517-8b93-c654a26e0211",
   "metadata": {},
   "outputs": [
    {
     "name": "stdout",
     "output_type": "stream",
     "text": [
      "3\n"
     ]
    }
   ],
   "source": [
    "fruits=['apple','kiwi','banana','cherry','kiwi','cherry','kiwi','coconut','mango']\n",
    "count=fruits.count('kiwi')\n",
    "print(count)"
   ]
  },
  {
   "cell_type": "markdown",
   "id": "7cccdf3a-dc46-46fa-ba34-f7b5cf4f9db2",
   "metadata": {},
   "source": [
    "### 8.sort()\n",
    "            sort the list in ascending order."
   ]
  },
  {
   "cell_type": "code",
   "execution_count": 100,
   "id": "ef5b758a-0cbb-46a4-8265-cb60b22c89f1",
   "metadata": {},
   "outputs": [
    {
     "name": "stdout",
     "output_type": "stream",
     "text": [
      "[12, 23, 53, 56, 56, 64, 68, 87, 98]\n"
     ]
    }
   ],
   "source": [
    "numbers=[23,56,64,98,12,53,87,68,56]\n",
    "numbers.sort()\n",
    "print(numbers)"
   ]
  },
  {
   "cell_type": "code",
   "execution_count": 129,
   "id": "c55c8ceb-510c-475e-add1-65a34f8bb134",
   "metadata": {},
   "outputs": [
    {
     "name": "stdout",
     "output_type": "stream",
     "text": [
      "['apple', 'banana', 'cherry', 'cherry', 'coconut', 'kiwi', 'mango']\n"
     ]
    }
   ],
   "source": [
    "fruits=['apple','banana','cherry','kiwi','cherry','coconut','mango']\n",
    "fruits.sort()\n",
    "print(fruits)"
   ]
  },
  {
   "cell_type": "code",
   "execution_count": 110,
   "id": "4c38d24c-e7ed-4ec0-8894-44e431eb9695",
   "metadata": {},
   "outputs": [
    {
     "name": "stdout",
     "output_type": "stream",
     "text": [
      "[98, 87, 68, 64, 56, 56, 53, 23, 12]\n"
     ]
    }
   ],
   "source": [
    "# sort list for descending order\n",
    "\n",
    "numbers=[23,56,64,98,12,53,87,68,56]\n",
    "numbers.sort(reverse=True)\n",
    "print(numbers)"
   ]
  },
  {
   "cell_type": "code",
   "execution_count": 131,
   "id": "8ba580aa-a0e7-4b2b-b068-25b364bad009",
   "metadata": {},
   "outputs": [
    {
     "name": "stdout",
     "output_type": "stream",
     "text": [
      "['mango', 'kiwi', 'coconut', 'cherry', 'cherry', 'banana', 'apple']\n"
     ]
    }
   ],
   "source": [
    "fruits=['apple','banana','cherry','kiwi','cherry','coconut','mango']\n",
    "fruits.sort(reverse=True)\n",
    "print(fruits)"
   ]
  },
  {
   "cell_type": "markdown",
   "id": "f6bd619e-eb86-45ce-8476-ae2e6c75fd0b",
   "metadata": {},
   "source": [
    "### 9.reverse()\n",
    "               reverse the order of elements in the list."
   ]
  },
  {
   "cell_type": "code",
   "execution_count": 112,
   "id": "006e87a8-1f1f-44f9-986f-49c4fdb51ce3",
   "metadata": {},
   "outputs": [
    {
     "name": "stdout",
     "output_type": "stream",
     "text": [
      "[56, 68, 87, 53, 12, 98, 64, 56, 23]\n"
     ]
    }
   ],
   "source": [
    "numbers=[23,56,64,98,12,53,87,68,56]\n",
    "numbers.reverse()\n",
    "print(numbers)"
   ]
  },
  {
   "cell_type": "code",
   "execution_count": 133,
   "id": "f7b2a49d-369f-48a0-ba4b-1522b0edf6c4",
   "metadata": {},
   "outputs": [
    {
     "name": "stdout",
     "output_type": "stream",
     "text": [
      "['mango', 'coconut', 'cherry', 'kiwi', 'cherry', 'banana', 'apple']\n"
     ]
    }
   ],
   "source": [
    "fruits=['apple','banana','cherry','kiwi','cherry','coconut','mango']\n",
    "fruits.reverse()\n",
    "print(fruits)"
   ]
  },
  {
   "cell_type": "markdown",
   "id": "af310e9b-6eda-4353-ace6-e1f739eca86e",
   "metadata": {},
   "source": [
    "### Other methods"
   ]
  },
  {
   "cell_type": "markdown",
   "id": "a6795e94-a70f-4ca7-81fe-219269ffb32b",
   "metadata": {},
   "source": [
    "### min()\n",
    "         calculates the min of all the elements of the list."
   ]
  },
  {
   "cell_type": "code",
   "execution_count": 147,
   "id": "7a517a82-d399-40bb-be22-872f84a71287",
   "metadata": {},
   "outputs": [
    {
     "name": "stdout",
     "output_type": "stream",
     "text": [
      "12\n"
     ]
    }
   ],
   "source": [
    "numbers=[23,56,64,98,12,53,87,68,56]\n",
    "print(min(numbers))"
   ]
  },
  {
   "cell_type": "code",
   "execution_count": 151,
   "id": "ba52cb15-cf7f-49e0-a272-db7ecd376304",
   "metadata": {},
   "outputs": [
    {
     "name": "stdout",
     "output_type": "stream",
     "text": [
      "apple\n"
     ]
    }
   ],
   "source": [
    "fruits=['apple','banana','cherry','kiwi','cherry','coconut','mango']\n",
    "print(min(fruits))"
   ]
  },
  {
   "cell_type": "markdown",
   "id": "2de7ed87-604f-43da-aab6-bb85a7b3dac4",
   "metadata": {},
   "source": [
    "### max()\n",
    "         calculates the max of all the elements of the list."
   ]
  },
  {
   "cell_type": "code",
   "execution_count": 158,
   "id": "4361051b-66a1-44cb-9043-8321b2c943ef",
   "metadata": {},
   "outputs": [
    {
     "name": "stdout",
     "output_type": "stream",
     "text": [
      "98\n"
     ]
    }
   ],
   "source": [
    "numbers=[23,56,64,98,12,53,87,68,56]\n",
    "print(max(numbers))"
   ]
  },
  {
   "cell_type": "code",
   "execution_count": 160,
   "id": "cedbebf5-d74d-44ee-92ea-629457578d88",
   "metadata": {},
   "outputs": [
    {
     "name": "stdout",
     "output_type": "stream",
     "text": [
      "mango\n"
     ]
    }
   ],
   "source": [
    "fruits=['apple','banana','cherry','kiwi','cherry','coconut','mango']\n",
    "print(max(fruits))"
   ]
  },
  {
   "cell_type": "markdown",
   "id": "65856a78-d5bf-4480-944d-bd16ec150c8a",
   "metadata": {},
   "source": [
    "### len()\n",
    "         calculates the total length of the list."
   ]
  },
  {
   "cell_type": "code",
   "execution_count": 163,
   "id": "b8298d84-139e-4329-b636-d51571d18058",
   "metadata": {},
   "outputs": [
    {
     "name": "stdout",
     "output_type": "stream",
     "text": [
      "9\n"
     ]
    }
   ],
   "source": [
    "numbers=[23,56,64,98,12,53,87,68,56]\n",
    "print(len(numbers))"
   ]
  },
  {
   "cell_type": "code",
   "execution_count": 171,
   "id": "d535e694-d5f7-461f-8aef-ae5746b7bd3c",
   "metadata": {},
   "outputs": [
    {
     "name": "stdout",
     "output_type": "stream",
     "text": [
      "7\n"
     ]
    }
   ],
   "source": [
    "fruits=['apple','banana','cherry','kiwi','cherry','coconut','mango']\n",
    "print(len(fruits))"
   ]
  },
  {
   "cell_type": "code",
   "execution_count": null,
   "id": "69d279eb-64d1-4a97-8f37-3bd9d328e529",
   "metadata": {},
   "outputs": [],
   "source": []
  }
 ],
 "metadata": {
  "kernelspec": {
   "display_name": "Python 3 (ipykernel)",
   "language": "python",
   "name": "python3"
  },
  "language_info": {
   "codemirror_mode": {
    "name": "ipython",
    "version": 3
   },
   "file_extension": ".py",
   "mimetype": "text/x-python",
   "name": "python",
   "nbconvert_exporter": "python",
   "pygments_lexer": "ipython3",
   "version": "3.12.4"
  }
 },
 "nbformat": 4,
 "nbformat_minor": 5
}
