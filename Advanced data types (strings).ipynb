{
 "cells": [
  {
   "cell_type": "markdown",
   "id": "878d3316-49b0-4577-8dae-06256aa4946b",
   "metadata": {},
   "source": [
    "# Python Strings"
   ]
  },
  {
   "cell_type": "markdown",
   "id": "379b074a-f35d-41b3-b2dd-6c0ac98bb56e",
   "metadata": {},
   "source": [
    "In python string is a sequence of characters."
   ]
  },
  {
   "cell_type": "markdown",
   "id": "9a1a10b5-39cc-4bb7-b9d0-81c1e3c112ac",
   "metadata": {},
   "source": [
    "we use single quotes or double to represent a string in python."
   ]
  },
  {
   "cell_type": "markdown",
   "id": "80255a4b-5105-4d83-9545-94c9f79020b3",
   "metadata": {},
   "source": [
    "strings are one of the most commonly used data types and they are used to represent text."
   ]
  },
  {
   "cell_type": "markdown",
   "id": "c7192e77-65eb-414e-bd6a-1248749d7f23",
   "metadata": {},
   "source": [
    "However you can perform various and use methods to manpulate and work with the strings."
   ]
  },
  {
   "cell_type": "markdown",
   "id": "c83beb3d-d4a7-419f-939e-4e6da3b84324",
   "metadata": {},
   "source": [
    "A String is a data structure in Python Programming that represents a sequence of characters. It is an immutable data type, meaning that once you have created a string, you cannot change it."
   ]
  },
  {
   "cell_type": "markdown",
   "id": "9016fa62-3c8d-42ce-8e3c-dcbba6306c39",
   "metadata": {},
   "source": [
    "Python String are used widely in many different applications, such as storing and manipulating text data, representing names, addresses, and other types of data that can be represented as text."
   ]
  },
  {
   "cell_type": "code",
   "execution_count": 15,
   "id": "7d8aea72-4ed6-4df7-8a5b-87152e6c5cca",
   "metadata": {},
   "outputs": [],
   "source": [
    "#create string using double quotes\n",
    "str1=\"python\"\n",
    "\n",
    "#creating string using single quotes\n",
    "str2='python'"
   ]
  },
  {
   "cell_type": "code",
   "execution_count": 17,
   "id": "06b63602-a70f-4abd-8e4d-c2520d9e8fb1",
   "metadata": {},
   "outputs": [
    {
     "name": "stdout",
     "output_type": "stream",
     "text": [
      "This is a multi-line string.\n"
     ]
    }
   ],
   "source": [
    "# If need any multi-line strings using \"\"\"     \"\"\"\n",
    "str3=\"\"\"This is a multi-line string.\"\"\"\n",
    "print(str3)"
   ]
  },
  {
   "cell_type": "code",
   "execution_count": 23,
   "id": "0c05accd-b20a-4ceb-b239-e2b56cce34a3",
   "metadata": {},
   "outputs": [
    {
     "name": "stdout",
     "output_type": "stream",
     "text": [
      "<class 'str'>\n",
      "<class 'str'>\n",
      "<class 'str'>\n"
     ]
    }
   ],
   "source": [
    "print(type(str1))\n",
    "print(type(str2))\n",
    "print(type(str3))"
   ]
  },
  {
   "cell_type": "markdown",
   "id": "94be74fd-66ae-4d62-9470-e8e5079fb0b8",
   "metadata": {},
   "source": [
    "## string operations"
   ]
  },
  {
   "cell_type": "code",
   "execution_count": 54,
   "id": "878ee2ee-6fa9-463f-b695-23ecfc86ef19",
   "metadata": {},
   "outputs": [
    {
     "name": "stdout",
     "output_type": "stream",
     "text": [
      "helloworld\n"
     ]
    }
   ],
   "source": [
    "# 1.concentation\n",
    "\n",
    "str1=\"hello\"\n",
    "str2=\"world\"\n",
    "result=str1+str2\n",
    "print(result)"
   ]
  },
  {
   "cell_type": "code",
   "execution_count": 56,
   "id": "9d1d87bc-ef50-4a63-bdeb-48fcc7f07b2c",
   "metadata": {},
   "outputs": [
    {
     "name": "stdout",
     "output_type": "stream",
     "text": [
      "python python python python python python \n"
     ]
    }
   ],
   "source": [
    "# 2.Repetition\n",
    "\n",
    "str1=\"python \"\n",
    "result=str1*6\n",
    "print(result)"
   ]
  },
  {
   "cell_type": "code",
   "execution_count": 58,
   "id": "335663c1-45af-4288-a36f-d436168a149f",
   "metadata": {},
   "outputs": [
    {
     "name": "stdout",
     "output_type": "stream",
     "text": [
      "o\n",
      "f\n"
     ]
    }
   ],
   "source": [
    "# 3.Indexing\n",
    "\n",
    "my_string=\"python is so fun. \"\n",
    "print(my_string[4])\n",
    "print(my_string[-5])\n"
   ]
  },
  {
   "cell_type": "code",
   "execution_count": 60,
   "id": "b9826278-2744-4879-a778-3764174d4726",
   "metadata": {},
   "outputs": [
    {
     "name": "stdout",
     "output_type": "stream",
     "text": [
      "w wor\n"
     ]
    }
   ],
   "source": [
    "# 4.slicing\n",
    "\n",
    "my_string=\"hellow world\"\n",
    "\n",
    "print(my_string[5:10])"
   ]
  },
  {
   "cell_type": "code",
   "execution_count": null,
   "id": "8fc82291-8dd0-4982-8d10-08d4aa4f90e3",
   "metadata": {},
   "outputs": [],
   "source": []
  },
  {
   "cell_type": "markdown",
   "id": "6e0bb626-76e4-4df5-8c87-faf38e19cfd5",
   "metadata": {},
   "source": [
    "## python format string"
   ]
  },
  {
   "cell_type": "code",
   "execution_count": 89,
   "id": "43939e5e-a363-4207-b82c-cca379e0137e",
   "metadata": {},
   "outputs": [
    {
     "name": "stdout",
     "output_type": "stream",
     "text": [
      " My name is Nitish kumar . I am 22 years old, I am from visakhapatnam. I have completed my B.TECH in Mechanical Engineering and my weight is 54.500000 in kg.\n"
     ]
    }
   ],
   "source": [
    "# 1.old style formatting (% operator)\n",
    "\n",
    "# uses the percentage operator and placeholders\n",
    "name=\"Nitish kumar\"\n",
    "age=22\n",
    "place=\"visakhapatnam\"\n",
    "qualification=\"B.TECH\"\n",
    "Branch=\"Mechanical\"\n",
    "weight=54.5\n",
    "\n",
    "formatted_string= \" My name is %s . I am %d years old, I am from %s. I have completed my %s in %s Engineering and my weight is %f in kg.\" %(name,age,place,qualification,Branch,weight)\n",
    "print(formatted_string)\n"
   ]
  },
  {
   "cell_type": "code",
   "execution_count": 93,
   "id": "fc8c1c17-a42a-4b27-b363-90566d452d7e",
   "metadata": {},
   "outputs": [
    {
     "name": "stdout",
     "output_type": "stream",
     "text": [
      " My name is Nitish kumar . I am 22 years old, I am from visakhapatnam. I have completed my B.TECH in Mechanical Engineering and my weight is 54.5 in kg.\n"
     ]
    }
   ],
   "source": [
    "# 2.format method\n",
    "\n",
    "# uses the format() method withplaceholders\n",
    "name=\"Nitish kumar\"\n",
    "age=22\n",
    "place=\"visakhapatnam\"\n",
    "qualification=\"B.TECH\"\n",
    "Branch=\"Mechanical\"\n",
    "weight=54.5\n",
    "\n",
    "formatted_string= \" My name is {} . I am {} years old, I am from {}. I have completed my {} in {} Engineering and my weight is {} in kg.\" .format(name,age,place,qualification,Branch,weight)\n",
    "print(formatted_string)\n"
   ]
  },
  {
   "cell_type": "code",
   "execution_count": 97,
   "id": "8c0545bc-a6d5-4aab-88e5-cbfceb86f2ec",
   "metadata": {},
   "outputs": [
    {
     "name": "stdout",
     "output_type": "stream",
     "text": [
      " My name is Nitish kumar . I am 22 years old, I am from visakhapatnam. I have completed my B.TECH in Mechanical Engineering and my weight is 54.5 in kg.\n"
     ]
    }
   ],
   "source": [
    "# 3.string interpolation(f-string-python3.6 or later):\n",
    "# usesf-strings, where expressions iside curly braces{} are evaluated and replaced\n",
    "\n",
    "name=\"Nitish kumar\"\n",
    "age=22\n",
    "place=\"visakhapatnam\"\n",
    "qualification=\"B.TECH\"\n",
    "Branch=\"Mechanical\"\n",
    "weight=54.5\n",
    "\n",
    "formatted_string= f\" My name is {name} . I am {age} years old, I am from {place}. I have completed my {qualification} in {Branch} Engineering and my weight is {weight} in kg.\"\n",
    "print(formatted_string)\n"
   ]
  },
  {
   "cell_type": "markdown",
   "id": "f57c9adf-dbb3-4f97-a927-2d666cdd4c94",
   "metadata": {},
   "source": [
    "## String methods"
   ]
  },
  {
   "cell_type": "markdown",
   "id": "13475b9e-2964-4252-b988-641bc8217f4d",
   "metadata": {},
   "source": [
    "### 1.len()\n",
    "       returns th length of the string."
   ]
  },
  {
   "cell_type": "code",
   "execution_count": 143,
   "id": "c0a36a2e-57af-431d-a574-ec45af574ed8",
   "metadata": {},
   "outputs": [
    {
     "name": "stdout",
     "output_type": "stream",
     "text": [
      "13\n"
     ]
    }
   ],
   "source": [
    "my_string=\"Python is fun\"\n",
    "length=len(my_string)\n",
    "print(length)"
   ]
  },
  {
   "cell_type": "markdown",
   "id": "15665efc-1482-4838-99c7-a341fff954c5",
   "metadata": {},
   "source": [
    "### 2.lower/upper()\n",
    "                   converts the string to lowercase / uppercase."
   ]
  },
  {
   "cell_type": "code",
   "execution_count": 120,
   "id": "a9b829e9-b6b4-4fe6-87d1-6871f166bb6f",
   "metadata": {},
   "outputs": [
    {
     "name": "stdout",
     "output_type": "stream",
     "text": [
      "HELLOW\n",
      "hellow\n"
     ]
    }
   ],
   "source": [
    "my_string=\"hellow\"\n",
    "string=\"HELLOW\"\n",
    "print(my_string.upper())\n",
    "print(string.lower())"
   ]
  },
  {
   "cell_type": "markdown",
   "id": "3ee3711e-7b05-46e3-b0c8-0e171c271df6",
   "metadata": {},
   "source": [
    "### 3.strip()\n",
    "             removes leading and trailing white spaces."
   ]
  },
  {
   "cell_type": "code",
   "execution_count": 56,
   "id": "eaee23b0-42d6-4bfb-85d8-bd046dc2bb4d",
   "metadata": {},
   "outputs": [
    {
     "name": "stdout",
     "output_type": "stream",
     "text": [
      "python\n"
     ]
    }
   ],
   "source": [
    "my_string=\"  python  \"\n",
    "stripped_string=my_string.strip()\n",
    "print(stripped_string)"
   ]
  },
  {
   "cell_type": "markdown",
   "id": "dad18d59-61e9-4b11-a59c-c5eea9a862c5",
   "metadata": {},
   "source": [
    "### 4.replace()\n",
    "               replaces a substring with another substring."
   ]
  },
  {
   "cell_type": "code",
   "execution_count": 133,
   "id": "6e2413b9-382d-42d2-848d-dead52577d4a",
   "metadata": {},
   "outputs": [
    {
     "name": "stdout",
     "output_type": "stream",
     "text": [
      "hellow python\n"
     ]
    }
   ],
   "source": [
    "my_string=\"hellow world\"\n",
    "new_string=my_string.replace(\"world\", \"python\")\n",
    "print(new_string)"
   ]
  },
  {
   "cell_type": "markdown",
   "id": "dc7bb590-63ac-4dc0-af22-89b8f395d374",
   "metadata": {},
   "source": [
    "### 5.split()\n",
    "             split the string into a list of substring."
   ]
  },
  {
   "cell_type": "code",
   "execution_count": 145,
   "id": "d26bf2ed-3eda-4fcc-aad2-21cc7e97f301",
   "metadata": {},
   "outputs": [
    {
     "name": "stdout",
     "output_type": "stream",
     "text": [
      "['python', 'is', 'fun', 'and', 'python', 'is', 'good', 'to', 'learn.']\n"
     ]
    }
   ],
   "source": [
    "my_string=\"python is fun and python is good to learn.\"\n",
    "words=my_string.split()\n",
    "print(words)"
   ]
  },
  {
   "cell_type": "markdown",
   "id": "b94da9f8-f57d-46f4-ac8d-dd9b7f316d5a",
   "metadata": {},
   "source": [
    "### 6.join()\n",
    "            joins a list of string into a single string."
   ]
  },
  {
   "cell_type": "code",
   "execution_count": 158,
   "id": "23a16e6d-2eb1-433f-853b-760ee46c5c50",
   "metadata": {},
   "outputs": [
    {
     "name": "stdout",
     "output_type": "stream",
     "text": [
      "python is fun and python is good to learn.\n"
     ]
    }
   ],
   "source": [
    "words=['python', 'is', 'fun', 'and', 'python', 'is', 'good', 'to', 'learn.']\n",
    "my_string=\" \".join(words)\n",
    "print(my_string)"
   ]
  },
  {
   "cell_type": "markdown",
   "id": "f1d80216-3d7b-4b9f-9f2b-d8dfabf3e9c6",
   "metadata": {},
   "source": [
    "### 7.Capitaize()\n",
    "               converts the first character of the string to a capital(uppercase)letter."
   ]
  },
  {
   "cell_type": "code",
   "execution_count": 3,
   "id": "7109ece4-3dee-483c-9c93-24d88325ff57",
   "metadata": {},
   "outputs": [
    {
     "name": "stdout",
     "output_type": "stream",
     "text": [
      "Nitish kumar\n"
     ]
    }
   ],
   "source": [
    "name=\"nitish kumar\"\n",
    "capital_name=name.capitalize()\n",
    "print(capital_name)"
   ]
  },
  {
   "cell_type": "markdown",
   "id": "156ef2e2-a663-427b-930b-dba9d7e87818",
   "metadata": {},
   "source": [
    "### 8.find()\n",
    "            Returns the lowest index of the substring if it is found."
   ]
  },
  {
   "cell_type": "code",
   "execution_count": 6,
   "id": "c3fb0dac-3d67-4089-82cc-eff15ecfc16d",
   "metadata": {},
   "outputs": [
    {
     "name": "stdout",
     "output_type": "stream",
     "text": [
      "5\n"
     ]
    }
   ],
   "source": [
    "word = 'find me if you can'\n",
    "print(word.find('me'))"
   ]
  },
  {
   "cell_type": "markdown",
   "id": "fdfa39ee-3174-48b0-a200-07d210f172a3",
   "metadata": {},
   "source": [
    "### 9.index()\n",
    "              Returns the position of the first occurrence of a substring in a string."
   ]
  },
  {
   "cell_type": "code",
   "execution_count": 15,
   "id": "fcb9b544-e250-4da4-be6f-30d52df2124f",
   "metadata": {},
   "outputs": [
    {
     "name": "stdout",
     "output_type": "stream",
     "text": [
      "1\n"
     ]
    }
   ],
   "source": [
    "string = 'random'\n",
    "print(string.index('a'))\n"
   ]
  },
  {
   "cell_type": "markdown",
   "id": "c90c4c95-d23a-40b8-8dcf-2a41d9284107",
   "metadata": {},
   "source": [
    "### 10.islower()\n",
    "                Checks if all characters in the string are lowercase."
   ]
  },
  {
   "cell_type": "code",
   "execution_count": 25,
   "id": "dbf4e82c-26fb-45c5-8153-2a417734135a",
   "metadata": {},
   "outputs": [
    {
     "name": "stdout",
     "output_type": "stream",
     "text": [
      "True\n",
      "False\n"
     ]
    }
   ],
   "source": [
    "string=\"apple\"\n",
    "name=\"Mahesh\"\n",
    "print(string.islower())\n",
    "print(name.islower())"
   ]
  },
  {
   "cell_type": "markdown",
   "id": "4c14c7cc-0461-4dd2-83c5-97378e35f6a2",
   "metadata": {},
   "source": [
    "### 11.isupper()\n",
    "               Checks if all characters in the string are uppercase."
   ]
  },
  {
   "cell_type": "code",
   "execution_count": 30,
   "id": "d70e4731-a481-48ed-bf51-f8c60bfbcfd6",
   "metadata": {},
   "outputs": [
    {
     "name": "stdout",
     "output_type": "stream",
     "text": [
      "False\n",
      "True\n"
     ]
    }
   ],
   "source": [
    "string=\"Apple\"\n",
    "name=\"MAHESH\"\n",
    "print(string.isupper())\n",
    "print(name.isupper())"
   ]
  },
  {
   "cell_type": "markdown",
   "id": "72022c5e-3e42-4fc3-99b9-e8d36ba985f6",
   "metadata": {},
   "source": [
    "### 12.rfind()\n",
    "              Right aligns the string according to the width specified."
   ]
  },
  {
   "cell_type": "code",
   "execution_count": 75,
   "id": "141347d9-9d2b-4303-b3c3-8901148ea0d5",
   "metadata": {},
   "outputs": [
    {
     "name": "stdout",
     "output_type": "stream",
     "text": [
      "13\n"
     ]
    }
   ],
   "source": [
    "word = 'find me if you can'\n",
    "print(word.rfind('u'))"
   ]
  },
  {
   "cell_type": "markdown",
   "id": "5731d985-6758-4cd9-addc-e75e0c4b5da9",
   "metadata": {},
   "source": [
    "### 13.rsplit()\n",
    "              Split the string from the right by the specified separator."
   ]
  },
  {
   "cell_type": "code",
   "execution_count": 40,
   "id": "062d4686-ff0b-4670-a847-44e9d2e976d9",
   "metadata": {},
   "outputs": [
    {
     "name": "stdout",
     "output_type": "stream",
     "text": [
      "['python', 'is', 'fun', 'and', 'python', 'is', 'good', 'to', 'learn.']\n"
     ]
    }
   ],
   "source": [
    "my_string=\"python is fun and python is good to learn.\"\n",
    "words=my_string.rsplit()\n",
    "print(words)"
   ]
  },
  {
   "cell_type": "markdown",
   "id": "48773dec-949c-4bc0-89eb-d017683ce18f",
   "metadata": {},
   "source": [
    "### 14.swapcase()\n",
    "                 Converts all uppercase characters to lowercase and vice versa.\n",
    "               "
   ]
  },
  {
   "cell_type": "code",
   "execution_count": 65,
   "id": "d345b9ac-49ac-4d9c-adbd-f601d8ff39b3",
   "metadata": {},
   "outputs": [
    {
     "name": "stdout",
     "output_type": "stream",
     "text": [
      "aPpLe\n",
      "APPLE\n",
      "apple\n"
     ]
    }
   ],
   "source": [
    "string=\"ApPlE\"\n",
    "print(string.swapcase())   \n",
    " \n",
    "string = \"apple\"\n",
    "print(string.swapcase())  \n",
    " \n",
    "string = \"APPLE\"\n",
    "print(string.swapcase())"
   ]
  },
  {
   "cell_type": "markdown",
   "id": "11dc78b6-ed37-4605-bd5b-6b560b013323",
   "metadata": {},
   "source": [
    "### 15.title()\t\n",
    "              Convert string to title case."
   ]
  },
  {
   "cell_type": "code",
   "execution_count": 68,
   "id": "e2e8bc8d-672b-4933-925e-5407dc68d8d7",
   "metadata": {},
   "outputs": [
    {
     "name": "stdout",
     "output_type": "stream",
     "text": [
      "Python Is Good\n"
     ]
    }
   ],
   "source": [
    "string=\"python is good\"\n",
    "print(string.title())"
   ]
  },
  {
   "cell_type": "markdown",
   "id": "e790271d-684f-4f99-af26-bba0dbd7f12c",
   "metadata": {},
   "source": [
    "### 16.zfill()\n",
    "              Returns a copy of the string with ‘0’ characters padded to the left side of the string."
   ]
  },
  {
   "cell_type": "code",
   "execution_count": 73,
   "id": "de5879f1-5369-4b39-9ce3-5e570d3cb95a",
   "metadata": {},
   "outputs": [
    {
     "name": "stdout",
     "output_type": "stream",
     "text": [
      "000000python is good\n"
     ]
    }
   ],
   "source": [
    "string=\"python is good\"\n",
    "print(string.zfill(20))"
   ]
  },
  {
   "cell_type": "markdown",
   "id": "2aa95d4d-1e21-4a84-aa64-ec848bd04731",
   "metadata": {},
   "source": [
    "### 17.endswith()\n",
    "                 Returns “True” if a string ends with the given suffix."
   ]
  },
  {
   "cell_type": "code",
   "execution_count": 82,
   "id": "e2b7932e-5c50-4979-a581-6f645636bed0",
   "metadata": {},
   "outputs": [
    {
     "name": "stdout",
     "output_type": "stream",
     "text": [
      "True\n"
     ]
    }
   ],
   "source": [
    "string=\"python is good\"\n",
    "print(string.endswith(\"good\"))"
   ]
  },
  {
   "cell_type": "markdown",
   "id": "bde9c24a-d5d1-4c46-90f9-c379ab31feb6",
   "metadata": {},
   "source": [
    "### 18.center()\n",
    "               Pad the string with the specified character."
   ]
  },
  {
   "cell_type": "code",
   "execution_count": 132,
   "id": "6d0b1d5e-133f-42d3-8a81-ffc85682ea70",
   "metadata": {},
   "outputs": [
    {
     "name": "stdout",
     "output_type": "stream",
     "text": [
      "                  python is good                  \n",
      "                  python is good                  \n",
      "########################################################python is good#######################################################\n"
     ]
    }
   ],
   "source": [
    "string=\"python is good\"\n",
    "print(string.center(50))\n",
    "print(string.center(50))\n",
    "print(string.center(125,'#'))"
   ]
  },
  {
   "cell_type": "markdown",
   "id": "56da8d9f-dbe5-4f86-b7ed-d72104e9b4bf",
   "metadata": {},
   "source": [
    "### 19.casefold()\n",
    "                Implements caseless string matching."
   ]
  },
  {
   "cell_type": "code",
   "execution_count": 136,
   "id": "acc7fe5a-b646-4be0-afe3-cdcfb415ece2",
   "metadata": {},
   "outputs": [
    {
     "name": "stdout",
     "output_type": "stream",
     "text": [
      "python is good\n"
     ]
    }
   ],
   "source": [
    "string=\"PYthOn Is GOoD\"\n",
    "print(string.casefold())"
   ]
  },
  {
   "cell_type": "markdown",
   "id": "2701a6d8-1459-4f83-be25-2e1ced450e11",
   "metadata": {},
   "source": [
    "### 20.count()\n",
    "             Returns the number of occurrences of a substring in the string."
   ]
  },
  {
   "cell_type": "code",
   "execution_count": 146,
   "id": "b7486d7e-8d2b-4f47-8e32-662698e8fe18",
   "metadata": {},
   "outputs": [
    {
     "name": "stdout",
     "output_type": "stream",
     "text": [
      "2\n"
     ]
    }
   ],
   "source": [
    "string=\"PYthOn Is GOoD\"\n",
    "print(string.count(\"O\"))"
   ]
  },
  {
   "cell_type": "markdown",
   "id": "7536bc6f-ff56-49ef-b757-2be036029cce",
   "metadata": {},
   "source": [
    "### 21.expandtabs()\n",
    "                   Specifies the amount of space to be substituted with the “\\t” symbol in the string."
   ]
  },
  {
   "cell_type": "code",
   "execution_count": 157,
   "id": "00cd73d2-3c5b-4a6f-8485-621238b035fb",
   "metadata": {},
   "outputs": [
    {
     "name": "stdout",
     "output_type": "stream",
     "text": [
      "python  is      good\n"
     ]
    }
   ],
   "source": [
    "string=\"python\\tis\\tgood\"\n",
    "print(string.expandtabs())"
   ]
  },
  {
   "cell_type": "markdown",
   "id": "aa5fc002-172b-477d-9e47-6d09f1dd7191",
   "metadata": {},
   "source": [
    "### 22.format()\n",
    "               Formats the string for printing it to console."
   ]
  },
  {
   "cell_type": "code",
   "execution_count": 162,
   "id": "9e177230-8588-4e25-ba3d-65b5b036a893",
   "metadata": {},
   "outputs": [
    {
     "name": "stdout",
     "output_type": "stream",
     "text": [
      "My name is Ram and I am 22 years old. 7 is my favorite number.\n"
     ]
    }
   ],
   "source": [
    "name = \"Ram\"\n",
    "age = 22\n",
    "number=7\n",
    "message = \"My name is {} and I am {} years old. {} is my favorite number.\".format(name, age,number)\n",
    "print(message)\n"
   ]
  },
  {
   "cell_type": "markdown",
   "id": "7a308688-7848-49e2-b3dd-e5b629c2ad12",
   "metadata": {},
   "source": [
    "### 23.format_map()\n",
    "                   Formats specified values in a string using a dictionary."
   ]
  },
  {
   "cell_type": "code",
   "execution_count": 165,
   "id": "6c0a7545-48f1-4f8e-a720-72fd92ce8c87",
   "metadata": {},
   "outputs": [
    {
     "name": "stdout",
     "output_type": "stream",
     "text": [
      "Nitish's last name is Kumar\n"
     ]
    }
   ],
   "source": [
    "string= {'x':'Nitish', 'y':'Kumar'} \n",
    "print(\"{x}'s last name is {y}\".format_map(string))\n"
   ]
  },
  {
   "cell_type": "markdown",
   "id": "71de0637-5e89-4908-901a-31833ffb5f54",
   "metadata": {},
   "source": [
    "### 24.isalnum()\n",
    "                Checks whether all the characters in a given string is alphanumeric or not."
   ]
  },
  {
   "cell_type": "code",
   "execution_count": 168,
   "id": "2139a1f8-6cbb-4d97-9fd1-b9909444f83a",
   "metadata": {},
   "outputs": [
    {
     "name": "stdout",
     "output_type": "stream",
     "text": [
      "True\n"
     ]
    }
   ],
   "source": [
    "string = \"apple123\"\n",
    "print(string.isalnum())"
   ]
  },
  {
   "cell_type": "markdown",
   "id": "e2804722-b425-4962-861e-d1b7f472717b",
   "metadata": {},
   "source": [
    "### 25.isalpha()\n",
    "                Returns “True” if all characters in the string are alphabets."
   ]
  },
  {
   "cell_type": "code",
   "execution_count": 175,
   "id": "5007950b-9278-436b-8e4d-e888de806633",
   "metadata": {},
   "outputs": [
    {
     "name": "stdout",
     "output_type": "stream",
     "text": [
      "True\n"
     ]
    }
   ],
   "source": [
    "string = \"apple\"\n",
    "print(string.isalpha())\n"
   ]
  },
  {
   "cell_type": "markdown",
   "id": "671450ab-dc8d-4bcd-bbea-d99f76eaf82b",
   "metadata": {},
   "source": [
    "### 26.isdecimal()\n",
    "                  Returns true if all characters in a string are decimal."
   ]
  },
  {
   "cell_type": "code",
   "execution_count": 182,
   "id": "85c705f0-ae5b-4264-8b22-1a573e9b4e5b",
   "metadata": {},
   "outputs": [
    {
     "name": "stdout",
     "output_type": "stream",
     "text": [
      "True\n"
     ]
    }
   ],
   "source": [
    "number= \"105\"\n",
    "print(string.isdecimal())\n"
   ]
  },
  {
   "cell_type": "markdown",
   "id": "c50941da-3ae6-4a78-806a-5c97a08c106a",
   "metadata": {},
   "source": [
    "### 27.isdigit()\n",
    "                Returns “True” if all characters in the string are digits."
   ]
  },
  {
   "cell_type": "code",
   "execution_count": 187,
   "id": "5b53294b-0af4-4c55-bc8f-7cb41538fb49",
   "metadata": {},
   "outputs": [
    {
     "name": "stdout",
     "output_type": "stream",
     "text": [
      "True\n"
     ]
    }
   ],
   "source": [
    "string = '15460'\n",
    "print(string.isdigit())"
   ]
  },
  {
   "cell_type": "markdown",
   "id": "2ca7c9a9-2cd1-4dd8-9ac4-479e1b0924e6",
   "metadata": {},
   "source": [
    "### 28.isidentifier()\n",
    "                     Check whether a string is a valid identifier or not."
   ]
  },
  {
   "cell_type": "code",
   "execution_count": 190,
   "id": "05af6d8d-554e-477b-9f9c-f12c7c3136be",
   "metadata": {},
   "outputs": [
    {
     "name": "stdout",
     "output_type": "stream",
     "text": [
      "True\n"
     ]
    }
   ],
   "source": [
    "string = \"variable_456\"\n",
    "print(string.isidentifier())\n"
   ]
  },
  {
   "cell_type": "markdown",
   "id": "1adc9fe8-99b5-4c97-b6d8-c673001fd024",
   "metadata": {},
   "source": [
    "### 29.isnumeric()\n",
    "                  Returns “True” if all characters in the string are numeric characters."
   ]
  },
  {
   "cell_type": "code",
   "execution_count": 193,
   "id": "14c5dbc6-b8d3-4daf-9720-9b5a6c0e87fc",
   "metadata": {},
   "outputs": [
    {
     "name": "stdout",
     "output_type": "stream",
     "text": [
      "True\n"
     ]
    }
   ],
   "source": [
    "string = \"123456789\"\n",
    "result = string.isnumeric()\n",
    "print(result)\n"
   ]
  },
  {
   "cell_type": "markdown",
   "id": "49b72e9c-c6a8-4c15-b54e-aefa73d44c5a",
   "metadata": {},
   "source": [
    "### 30.startswith()\n",
    "                   Returns “True” if a string starts with the given prefix."
   ]
  },
  {
   "cell_type": "code",
   "execution_count": 204,
   "id": "86f29d1e-4a75-41ef-95b3-917ea6db9178",
   "metadata": {},
   "outputs": [
    {
     "name": "stdout",
     "output_type": "stream",
     "text": [
      "True\n"
     ]
    }
   ],
   "source": [
    "string=\"python is good\"\n",
    "print(string.startswith(\"python\"))"
   ]
  },
  {
   "cell_type": "code",
   "execution_count": null,
   "id": "612414ed-182b-4fc9-9fc7-6ca9e74acd0e",
   "metadata": {},
   "outputs": [],
   "source": []
  }
 ],
 "metadata": {
  "kernelspec": {
   "display_name": "Python 3 (ipykernel)",
   "language": "python",
   "name": "python3"
  },
  "language_info": {
   "codemirror_mode": {
    "name": "ipython",
    "version": 3
   },
   "file_extension": ".py",
   "mimetype": "text/x-python",
   "name": "python",
   "nbconvert_exporter": "python",
   "pygments_lexer": "ipython3",
   "version": "3.12.4"
  }
 },
 "nbformat": 4,
 "nbformat_minor": 5
}
