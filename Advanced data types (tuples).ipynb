{
 "cells": [
  {
   "cell_type": "markdown",
   "id": "65c75cb7-66bb-4969-bae6-5a0d5952080d",
   "metadata": {},
   "source": [
    "# Python Tuples"
   ]
  },
  {
   "cell_type": "markdown",
   "id": "a804a980-d152-439c-ab70-6f91789f0f61",
   "metadata": {},
   "source": [
    " A tuple is a data type that represent an ordered, immutable (unchangeable) sequence of elements.\n",
    " "
   ]
  },
  {
   "cell_type": "markdown",
   "id": "bdb28b55-e77c-42e7-8272-e1d422446388",
   "metadata": {},
   "source": [
    " Tuples are similar to lists, but the key difference is that tuples cannot be modified once they are created."
   ]
  },
  {
   "cell_type": "markdown",
   "id": "63eaf46d-c3f6-453a-bd84-3d057d5ff75a",
   "metadata": {},
   "source": [
    "They are defined using parenthesis () and elements are seperate by commas."
   ]
  },
  {
   "cell_type": "markdown",
   "id": "8c054468-e2c8-405a-a926-e07247efedc3",
   "metadata": {},
   "source": [
    "## Features of python tuple"
   ]
  },
  {
   "cell_type": "markdown",
   "id": "9632bd0b-24ba-4e37-9d1e-71a7fff13c82",
   "metadata": {},
   "source": [
    "Tuples are an immutable dta type , meaning their elements cannot be changed after they are generated."
   ]
  },
  {
   "cell_type": "markdown",
   "id": "0ac7bd6c-cb42-45cb-a2ff-eba7263cfc6c",
   "metadata": {},
   "source": [
    "Each element in a tuple has a specific order that wiil never changes because tuples are ordered sequence."
   ]
  },
  {
   "cell_type": "markdown",
   "id": "262694db-9df3-40ba-86fa-c330325ace7b",
   "metadata": {},
   "source": [
    "### creating a tuple"
   ]
  },
  {
   "cell_type": "code",
   "execution_count": null,
   "id": "cd620ba2-c655-4870-bc3c-675de7175a2a",
   "metadata": {},
   "outputs": [],
   "source": [
    "empty_tuple = ()"
   ]
  },
  {
   "cell_type": "code",
   "execution_count": 31,
   "id": "44d26202-fae2-43b1-a5c9-b178a6e59fdf",
   "metadata": {},
   "outputs": [
    {
     "name": "stdout",
     "output_type": "stream",
     "text": [
      "('apple', 'banana', 'orange')\n",
      "<class 'tuple'>\n",
      "(1, 'apple', 5.4, 'true')\n",
      "<class 'tuple'>\n"
     ]
    }
   ],
   "source": [
    "# tuple with elemnts\n",
    "fruits= (\"apple\",\"banana\",\"orange\")\n",
    "print(fruits)\n",
    "print(type(fruits))\n",
    "\n",
    "# mixed tuples\n",
    "mixed_tuple= (1,\"apple\",5.4,\"true\")\n",
    "print(mixed_tuple)\n",
    "\n",
    "# single element tuple\n",
    "single_element_tuple= (25,)\n",
    "print (type(single_element_tuple))"
   ]
  },
  {
   "cell_type": "markdown",
   "id": "b77393b6-84b6-431f-af80-8c0390089ebb",
   "metadata": {},
   "source": [
    "### Accessing of tuples\n",
    "                       Tuples support indexing and slicing,just like lists."
   ]
  },
  {
   "cell_type": "code",
   "execution_count": 36,
   "id": "7d86b023-b75e-4040-9b7e-54f7c7e4b69d",
   "metadata": {},
   "outputs": [
    {
     "name": "stdout",
     "output_type": "stream",
     "text": [
      "banana\n",
      "('banana', 'apple', 'orange')\n"
     ]
    }
   ],
   "source": [
    "fruits= (\"banana\",\"apple\",\"orange\")\n",
    "print(fruits[0])\n",
    "print(fruits[0:7])"
   ]
  },
  {
   "cell_type": "markdown",
   "id": "81b66e92-bfed-4874-a35d-ef59036279c9",
   "metadata": {},
   "source": [
    "### Immutability:"
   ]
  },
  {
   "cell_type": "markdown",
   "id": "9066a611-3527-4800-b3d3-72ad2307e600",
   "metadata": {},
   "source": [
    "Once a tuple is created you cannot change its elements or add/remove elements."
   ]
  },
  {
   "cell_type": "code",
   "execution_count": 40,
   "id": "6b8e16eb-01f2-4d90-842b-7a3a45bfd051",
   "metadata": {},
   "outputs": [
    {
     "ename": "TypeError",
     "evalue": "'tuple' object does not support item assignment",
     "output_type": "error",
     "traceback": [
      "\u001b[0;31m---------------------------------------------------------------------------\u001b[0m",
      "\u001b[0;31mTypeError\u001b[0m                                 Traceback (most recent call last)",
      "Cell \u001b[0;32mIn[40], line 2\u001b[0m\n\u001b[1;32m      1\u001b[0m fruits\u001b[38;5;241m=\u001b[39m(\u001b[38;5;124m\"\u001b[39m\u001b[38;5;124mapple\u001b[39m\u001b[38;5;124m\"\u001b[39m, \u001b[38;5;124m\"\u001b[39m\u001b[38;5;124mpineapple\u001b[39m\u001b[38;5;124m\"\u001b[39m,\u001b[38;5;124m\"\u001b[39m\u001b[38;5;124mbanana\u001b[39m\u001b[38;5;124m\"\u001b[39m)\n\u001b[0;32m----> 2\u001b[0m fruits[\u001b[38;5;241m2\u001b[39m]\u001b[38;5;241m=\u001b[39m\u001b[38;5;124m\"\u001b[39m\u001b[38;5;124mwater\u001b[39m\u001b[38;5;124m\"\u001b[39m\n\u001b[1;32m      3\u001b[0m \u001b[38;5;28mprint\u001b[39m(fruits)\n",
      "\u001b[0;31mTypeError\u001b[0m: 'tuple' object does not support item assignment"
     ]
    }
   ],
   "source": [
    "fruits=(\"apple\", \"pineapple\",\"banana\")\n",
    "fruits[2]=\"water\"\n",
    "print(fruits)"
   ]
  },
  {
   "cell_type": "markdown",
   "id": "95ea2044-bbbd-4096-b7e9-ed708f2cad29",
   "metadata": {},
   "source": [
    "### Tuple Operations:"
   ]
  },
  {
   "cell_type": "code",
   "execution_count": 45,
   "id": "4124d01f-aa03-44e6-96f6-0d010c2735cd",
   "metadata": {},
   "outputs": [
    {
     "name": "stdout",
     "output_type": "stream",
     "text": [
      "(1, 2, 3, 'a', 'b', 'c')\n"
     ]
    }
   ],
   "source": [
    "#1.concentation:\n",
    "\n",
    "# combinng two tuples\n",
    "tuple1=(1,2,3)\n",
    "tuple2=(\"a\",\"b\",\"c\")\n",
    "result= tuple1+tuple2\n",
    "print(result)"
   ]
  },
  {
   "cell_type": "code",
   "execution_count": 49,
   "id": "b77a9440-78a5-451a-8350-1d7aae2605bd",
   "metadata": {},
   "outputs": [
    {
     "name": "stdout",
     "output_type": "stream",
     "text": [
      "(1, 2, 3, 1, 2, 3, 1, 2, 3, 1, 2, 3, 1, 2, 3, 1, 2, 3, 1, 2, 3, 1, 2, 3, 1, 2, 3, 1, 2, 3, 1, 2, 3, 1, 2, 3, 1, 2, 3, 1, 2, 3, 1, 2, 3, 1, 2, 3, 1, 2, 3, 1, 2, 3, 1, 2, 3, 1, 2, 3)\n"
     ]
    }
   ],
   "source": [
    "#2.Repetition:\n",
    "\n",
    "#repeating a tuple\n",
    "tuple1=(1,2,3)\n",
    "result= tuple1*20\n",
    "print(result)"
   ]
  },
  {
   "cell_type": "markdown",
   "id": "948d65c6-2a58-4a02-adae-b7c7bfcf1ba8",
   "metadata": {},
   "source": [
    "### Tuple methods:\n",
    "                  Tuples have limited methods compare to lists due to their immutability."
   ]
  },
  {
   "cell_type": "markdown",
   "id": "2848b688-16a7-4635-a84f-2366dec6c3ba",
   "metadata": {},
   "source": [
    "#### 1.Count()"
   ]
  },
  {
   "cell_type": "code",
   "execution_count": 103,
   "id": "5af31edb-a2b7-4502-8230-a609779cc812",
   "metadata": {},
   "outputs": [
    {
     "name": "stdout",
     "output_type": "stream",
     "text": [
      "2\n"
     ]
    }
   ],
   "source": [
    "\n",
    "# returns the number of occurrences of a specidied value\n",
    "numbers=(2,4,5,1,3,2,5,3,7,8,9,5,2,4,5,2,6)\n",
    "count = numbers.count(4)\n",
    "print(count)"
   ]
  },
  {
   "cell_type": "code",
   "execution_count": 87,
   "id": "44a11381-f740-4c5f-a36c-8dbff5457e09",
   "metadata": {},
   "outputs": [
    {
     "name": "stdout",
     "output_type": "stream",
     "text": [
      "3\n"
     ]
    }
   ],
   "source": [
    "strings=(\"banana\",\"cherry\",\"apple\",\"cherry\",\"pineappple\",\"cherry\")\n",
    "count = strings.count(\"cherry\")\n",
    "print(count)"
   ]
  },
  {
   "cell_type": "code",
   "execution_count": 97,
   "id": "8281c5df-6d3a-4ae0-bd8a-3d4c98983729",
   "metadata": {},
   "outputs": [
    {
     "name": "stdout",
     "output_type": "stream",
     "text": [
      "2\n"
     ]
    }
   ],
   "source": [
    "games= (\"cricket\",\"football\",\"chess\",\"hockey\",\"chess\")\n",
    "count= games.count(\"chess\")\n",
    "print(count)"
   ]
  },
  {
   "cell_type": "markdown",
   "id": "7187fab5-ca16-4889-b3e1-b800e37714b1",
   "metadata": {},
   "source": [
    "#### 2.Index()"
   ]
  },
  {
   "cell_type": "code",
   "execution_count": 105,
   "id": "e0d9b8b3-1856-447b-8cda-4affe24d6254",
   "metadata": {},
   "outputs": [
    {
     "name": "stdout",
     "output_type": "stream",
     "text": [
      "1\n"
     ]
    }
   ],
   "source": [
    "#returns the index of the first occurrence of a specified value\n",
    "numbers=(2,4,5,1,3,2,5,3,7,8,9,5,2,4,5,2,6)\n",
    "index = numbers.index(4)\n",
    "print(index)"
   ]
  },
  {
   "cell_type": "code",
   "execution_count": 121,
   "id": "4ac90d07-8906-4df5-bbc2-c6d4e2966bdc",
   "metadata": {},
   "outputs": [
    {
     "name": "stdout",
     "output_type": "stream",
     "text": [
      "4\n"
     ]
    }
   ],
   "source": [
    "strings=(\"banana\",\"cherry\",\"apple\",\"cherry\",\"pineapple\",\"cherry\")\n",
    "index = strings.index(\"pineapple\")\n",
    "print(index)"
   ]
  },
  {
   "cell_type": "code",
   "execution_count": 123,
   "id": "e4d53e36-af61-438b-b793-81562291bf2e",
   "metadata": {},
   "outputs": [
    {
     "name": "stdout",
     "output_type": "stream",
     "text": [
      "3\n"
     ]
    }
   ],
   "source": [
    "games= (\"cricket\",\"football\",\"chess\",\"hockey\",\"chess\")\n",
    "index= games.index(\"hockey\")\n",
    "print(index)"
   ]
  },
  {
   "cell_type": "code",
   "execution_count": null,
   "id": "62c6a25b-5244-4718-86ba-85f81b9313dc",
   "metadata": {},
   "outputs": [],
   "source": []
  }
 ],
 "metadata": {
  "kernelspec": {
   "display_name": "Python 3 (ipykernel)",
   "language": "python",
   "name": "python3"
  },
  "language_info": {
   "codemirror_mode": {
    "name": "ipython",
    "version": 3
   },
   "file_extension": ".py",
   "mimetype": "text/x-python",
   "name": "python",
   "nbconvert_exporter": "python",
   "pygments_lexer": "ipython3",
   "version": "3.12.4"
  }
 },
 "nbformat": 4,
 "nbformat_minor": 5
}
