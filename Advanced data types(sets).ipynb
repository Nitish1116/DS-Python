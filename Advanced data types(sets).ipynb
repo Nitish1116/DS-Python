{
 "cells": [
  {
   "cell_type": "markdown",
   "id": "74e6698e-fa1a-4093-90d2-a646e14ed384",
   "metadata": {},
   "source": [
    "# Python Sets"
   ]
  },
  {
   "cell_type": "markdown",
   "id": "296eed8a-99b9-41a1-bf27-8595a049246b",
   "metadata": {},
   "source": [
    "In python a set is a collection of unique element,and it is defined using curly braces{} and seperated by commas."
   ]
  },
  {
   "cell_type": "markdown",
   "id": "6046c3d8-250b-42bf-a364-a1e6254e91f1",
   "metadata": {},
   "source": [
    "sets are used to to store multiple items in a ssingle variable."
   ]
  },
  {
   "cell_type": "markdown",
   "id": "86430613-de6d-4099-982a-30c5ddecda3a",
   "metadata": {},
   "source": [
    "sets are unordered, mutable,and not allow duplicate elements."
   ]
  },
  {
   "cell_type": "markdown",
   "id": "914f89ff-d8f8-4646-aa05-a43bb512d005",
   "metadata": {},
   "source": [
    "sets provide a variety of methods for performing common set operations like union, intersection,difference and more"
   ]
  },
  {
   "cell_type": "markdown",
   "id": "2e8761e3-28fe-4426-82f2-7ef3ab7dfe91",
   "metadata": {},
   "source": [
    "## Creating sets:"
   ]
  },
  {
   "cell_type": "code",
   "execution_count": 7,
   "id": "ca9db601-d4e1-49fe-b649-d22d93ddd9fb",
   "metadata": {},
   "outputs": [
    {
     "name": "stdout",
     "output_type": "stream",
     "text": [
      "{1, 2, 3, 4, 5, 6}\n",
      "{65, 34, 98, 9, 74, 73, 22, 28}\n"
     ]
    }
   ],
   "source": [
    "fruits={'apple','banana','orange'}\n",
    "\n",
    "#converting a list ta a set\n",
    "numbers=set([1,2,3,4,5,6])\n",
    "print(numbers)\n",
    "\n",
    "# duplicate items in a set\n",
    "\n",
    "numbers={9,34,22,98,74,65,73,9,74,28}\n",
    "print(numbers)"
   ]
  },
  {
   "cell_type": "markdown",
   "id": "b29fe027-0372-4845-af12-bd5fc08abf59",
   "metadata": {},
   "source": [
    "## Python set operations"
   ]
  },
  {
   "cell_type": "markdown",
   "id": "798b8b22-8d24-4499-9e85-15dc3379ed18",
   "metadata": {},
   "source": [
    "Python set provide different built-in methods to perform mathematical set operations like union,intersection,subtraction and symetric difference."
   ]
  },
  {
   "cell_type": "markdown",
   "id": "ec1bc418-607d-483f-b1a4-a6b734201202",
   "metadata": {},
   "source": [
    "### 1.union of two sets"
   ]
  },
  {
   "cell_type": "markdown",
   "id": "98b1c457-8b22-4862-b09f-e7ada9f0a389",
   "metadata": {},
   "source": [
    "The union of two sets A and B include all the elements of set A and B."
   ]
  },
  {
   "cell_type": "markdown",
   "id": "85401b1d-78cc-4b78-a070-33c7717fee6d",
   "metadata": {},
   "source": [
    "combines elements from two sets ,removing duplicates.="
   ]
  },
  {
   "cell_type": "code",
   "execution_count": 18,
   "id": "b6ed22f7-11d1-4214-abd1-441ff10fd1ca",
   "metadata": {},
   "outputs": [
    {
     "name": "stdout",
     "output_type": "stream",
     "text": [
      "{0, 1, 2, 3, 4, 5}\n",
      "{0, 1, 2, 3, 4, 5}\n"
     ]
    }
   ],
   "source": [
    "A={1,3,5}\n",
    "B={0,2,4}\n",
    "\n",
    "#using |\n",
    "print(A|B)\n",
    "\n",
    "#using union()\n",
    "print(A.union(B))"
   ]
  },
  {
   "cell_type": "markdown",
   "id": "8bf7bcec-d438-4cac-9ffd-ea23a665620c",
   "metadata": {},
   "source": [
    "## 2.set intersection"
   ]
  },
  {
   "cell_type": "markdown",
   "id": "73c3374b-7e4b-4bf1-b4ee-24b8f8e42faf",
   "metadata": {},
   "source": [
    "The intersection of two sets A and B include the common elements between set A and B."
   ]
  },
  {
   "cell_type": "markdown",
   "id": "645bb142-f60e-4f0a-90d2-7c93705cfa99",
   "metadata": {},
   "source": [
    "Return common elements between two sets."
   ]
  },
  {
   "cell_type": "code",
   "execution_count": 29,
   "id": "34f3ed26-97c3-4452-8440-ec2130c8ea59",
   "metadata": {},
   "outputs": [
    {
     "name": "stdout",
     "output_type": "stream",
     "text": [
      "{0, 1, 3, 4, 5}\n",
      "{0, 1, 3, 4, 5}\n"
     ]
    }
   ],
   "source": [
    "A={1,3,5,8,4,0}\n",
    "B={1,2,3,0,5,4}\n",
    "\n",
    "#using &\n",
    "print(A&B)\n",
    "\n",
    "#using intersection()\n",
    "print(A.intersection(B))"
   ]
  },
  {
   "cell_type": "markdown",
   "id": "ae73655a-2627-4b22-acb4-d9a254f26193",
   "metadata": {},
   "source": [
    "## 3.Difference between Two sets"
   ]
  },
  {
   "cell_type": "markdown",
   "id": "41d30827-8dd2-48f5-988e-d5f8d968a231",
   "metadata": {},
   "source": [
    "The difference between two sets A and B include elements of set A that are not present on set B."
   ]
  },
  {
   "cell_type": "markdown",
   "id": "190f9f84-47f2-4c69-a971-b094f9b6799d",
   "metadata": {},
   "source": [
    "Returns element that are in either of the set,but not in both."
   ]
  },
  {
   "cell_type": "code",
   "execution_count": 189,
   "id": "9e262b3d-ef87-4711-8610-d5d96593dfb2",
   "metadata": {},
   "outputs": [
    {
     "name": "stdout",
     "output_type": "stream",
     "text": [
      "{0, 9, 3, 5}\n",
      "{1, 6, 7}\n",
      "{0, 9, 3, 5}\n",
      "{1, 6, 7}\n"
     ]
    }
   ],
   "source": [
    "A={2,3,5,9,0,4}\n",
    "B={1,2,6,4,7}\n",
    "\n",
    "#using -\n",
    "print(A-B)\n",
    "print(B-A)\n",
    "\n",
    "#using difference()\n",
    "print(A.difference(B))\n",
    "print(B.difference(A))"
   ]
  },
  {
   "cell_type": "markdown",
   "id": "f09b5fc1-f875-40ed-b6c7-06906f85cea0",
   "metadata": {},
   "source": [
    "## 4.set symmetric difference"
   ]
  },
  {
   "cell_type": "markdown",
   "id": "b3bdf396-f41b-4ae9-9342-735bac1d28b5",
   "metadata": {},
   "source": [
    "The symmetric difference two sets A and B includes all elements of A and B without the common elements."
   ]
  },
  {
   "cell_type": "markdown",
   "id": "fffaed15-814e-4ac4-9e98-a39eba7730fc",
   "metadata": {},
   "source": [
    "Returns elements that are in either of the sets ,but not in both."
   ]
  },
  {
   "cell_type": "code",
   "execution_count": 157,
   "id": "388b446f-50cd-4b3c-bd39-5760c38a8591",
   "metadata": {},
   "outputs": [
    {
     "name": "stdout",
     "output_type": "stream",
     "text": [
      "{1, 3, 5, 6, 7, 8, 9}\n",
      "{1, 3, 5, 6, 7, 8, 9}\n"
     ]
    }
   ],
   "source": [
    "A={2,3,5,7,8,4}\n",
    "B={1,2,6,4,9}\n",
    "\n",
    "#using A^B\n",
    "print(A^B)\n",
    "\n",
    "#using symmetric_difference()\n",
    "print(A.symmetric_difference(B))\n"
   ]
  },
  {
   "cell_type": "markdown",
   "id": "23d3d3d6-e6a3-4b93-aef4-c4e53eed52a4",
   "metadata": {},
   "source": [
    "## Methods of sets"
   ]
  },
  {
   "cell_type": "markdown",
   "id": "eb02b515-241c-4340-8265-4aaee2fa5e39",
   "metadata": {},
   "source": [
    "### 1.add()\n",
    "           add an item to a set"
   ]
  },
  {
   "cell_type": "code",
   "execution_count": 8,
   "id": "6a9801ed-c402-49e7-8ed4-51a70354bbb8",
   "metadata": {},
   "outputs": [
    {
     "name": "stdout",
     "output_type": "stream",
     "text": [
      "{2, 35, 5, 7, 8, 9}\n"
     ]
    }
   ],
   "source": [
    "numbers={9,5,7,2,7,7,8}\n",
    "numbers.add(35)\n",
    "print(numbers)"
   ]
  },
  {
   "cell_type": "markdown",
   "id": "6c296ead-8a4b-42b1-a54c-fb3ab44fc158",
   "metadata": {},
   "source": [
    "### 2.update()\n",
    "              It is used to update the set with items other collction types(lists, tuples, sets, etc)"
   ]
  },
  {
   "cell_type": "code",
   "execution_count": 120,
   "id": "02f9af45-528f-4a23-b29f-4de03e2b881f",
   "metadata": {},
   "outputs": [
    {
     "name": "stdout",
     "output_type": "stream",
     "text": [
      "{'mon', 'technologies', 'google', 'apple', 'microsoft'}\n"
     ]
    }
   ],
   "source": [
    "companies={'microsoft','technologies'}\n",
    "tech_companies={'apple','google','apple','mon','technologies'}\n",
    "updated_companies=companies.update(tech_companies)\n",
    "print(companies)"
   ]
  },
  {
   "cell_type": "markdown",
   "id": "ff81d695-1e03-442c-8c81-87c9993f1c75",
   "metadata": {},
   "source": [
    "### 3.remove() or discard()\n",
    "                           removes the specified element from a set."
   ]
  },
  {
   "cell_type": "code",
   "execution_count": 24,
   "id": "b9171289-58cb-4177-8c42-661aad16dcfa",
   "metadata": {},
   "outputs": [
    {
     "name": "stdout",
     "output_type": "stream",
     "text": [
      "{'swift', 'python'}\n",
      "{'swift', 'python'}\n"
     ]
    }
   ],
   "source": [
    "languages={'swift','java','python'}\n",
    "languages.remove('java')\n",
    "languages.discard('java')\n",
    "print(languages)\n",
    "print(languages)"
   ]
  },
  {
   "cell_type": "markdown",
   "id": "083efa5e-741a-4537-875e-c70d1d95b8bc",
   "metadata": {},
   "source": [
    "### 4.clear()\t\n",
    "             Removes all elements from the set."
   ]
  },
  {
   "cell_type": "code",
   "execution_count": 183,
   "id": "6660e096-dc8a-4da2-9305-3a2df17e5503",
   "metadata": {},
   "outputs": [
    {
     "name": "stdout",
     "output_type": "stream",
     "text": [
      "set()\n"
     ]
    }
   ],
   "source": [
    "languages={'swift','java','python'}\n",
    "languages.clear()\n",
    "print(languages)"
   ]
  },
  {
   "cell_type": "markdown",
   "id": "d891385b-de44-45b9-afde-27432670990f",
   "metadata": {},
   "source": [
    "### 5.copy()\n",
    "            Returns a shallow copy of the set.           "
   ]
  },
  {
   "cell_type": "code",
   "execution_count": 48,
   "id": "7b95bf5b-64a7-46e5-802d-d3f272254786",
   "metadata": {},
   "outputs": [
    {
     "name": "stdout",
     "output_type": "stream",
     "text": [
      "{'swift', 'python', 'java'}\n"
     ]
    }
   ],
   "source": [
    "languages={'swift','java','python'}\n",
    "languages2=languages.copy()\n",
    "print(languages2)"
   ]
  },
  {
   "cell_type": "markdown",
   "id": "3c3e6143-d98b-4916-a3bd-fc0930468a2d",
   "metadata": {},
   "source": [
    "### 6.frozenset()\t\n",
    "                 Return an immutable frozenset object."
   ]
  },
  {
   "cell_type": "code",
   "execution_count": 61,
   "id": "4e5cb63f-3d9a-4a90-8cac-9ac80704ab24",
   "metadata": {},
   "outputs": [
    {
     "name": "stdout",
     "output_type": "stream",
     "text": [
      "True\n",
      "False\n"
     ]
    }
   ],
   "source": [
    "languages=frozenset(['swift','java','python'])\n",
    "print('java'in languages)\n",
    "print('c++'in languages)"
   ]
  },
  {
   "cell_type": "markdown",
   "id": "c9c1ee15-18c0-45b1-ae97-6dcf4e028385",
   "metadata": {},
   "source": [
    "### 7.isdisjoint()\t\n",
    "                  Checks whether the sets are disjoint or not."
   ]
  },
  {
   "cell_type": "code",
   "execution_count": 90,
   "id": "04c65044-525e-468b-ab9f-20e151bc0187",
   "metadata": {},
   "outputs": [
    {
     "name": "stdout",
     "output_type": "stream",
     "text": [
      "True\n",
      "False\n"
     ]
    }
   ],
   "source": [
    "A={4,6,8,9}\n",
    "B={1,2,3}\n",
    "C={1,4,5,7}\n",
    "print(A.isdisjoint(B))\n",
    "print(A.isdisjoint(C))\n"
   ]
  },
  {
   "cell_type": "markdown",
   "id": "2ac7de8d-f617-4a50-8639-1f2c989a488a",
   "metadata": {},
   "source": [
    "### 8.issubset()\t\n",
    "                Returns True if all elements of a set A are present in another set B."
   ]
  },
  {
   "cell_type": "code",
   "execution_count": 73,
   "id": "c3ebea20-deb6-4d4c-9596-86ee7e048aa0",
   "metadata": {},
   "outputs": [
    {
     "name": "stdout",
     "output_type": "stream",
     "text": [
      "True\n",
      "False\n"
     ]
    }
   ],
   "source": [
    "A={1,2,3,4,5,6}\n",
    "B={1,2,3}\n",
    "C={1,4,5,7}\n",
    "print(B.issubset(A))\n",
    "print(C.issubset(A))"
   ]
  },
  {
   "cell_type": "markdown",
   "id": "31f6b459-b3e7-4615-ab49-259d6cbbc76f",
   "metadata": {},
   "source": [
    "### 9.issuperset()\t\n",
    "                 Returns True if all elements of a set A occupies set B."
   ]
  },
  {
   "cell_type": "code",
   "execution_count": 85,
   "id": "a408cadd-7894-45aa-915a-33257f898153",
   "metadata": {},
   "outputs": [
    {
     "name": "stdout",
     "output_type": "stream",
     "text": [
      "True\n",
      "False\n"
     ]
    }
   ],
   "source": [
    "A={1,2,3,4,5,6}\n",
    "B={1,2,3}\n",
    "C={1,4,5,7}\n",
    "print(A.issuperset(B))\n",
    "print(C.issuperset(A))"
   ]
  },
  {
   "cell_type": "markdown",
   "id": "630dd72c-be6a-4e3b-9a16-b93599c59152",
   "metadata": {},
   "source": [
    "### 10.pop()\t\n",
    "             Returns and removes a random element from the set."
   ]
  },
  {
   "cell_type": "code",
   "execution_count": 96,
   "id": "63f5a669-05ee-48ae-81d5-3bd968f60773",
   "metadata": {},
   "outputs": [
    {
     "name": "stdout",
     "output_type": "stream",
     "text": [
      "1\n"
     ]
    }
   ],
   "source": [
    "A={1,2,3,4,5,6}\n",
    "print(A.pop())"
   ]
  },
  {
   "cell_type": "markdown",
   "id": "cf82c339-4b64-4c0d-8db0-62e0ad497c4c",
   "metadata": {},
   "source": [
    "### 11.difference_update()\t\n",
    "                         Updates the existing caller set with the difference between two sets."
   ]
  },
  {
   "cell_type": "code",
   "execution_count": 181,
   "id": "816138fa-1e5d-41ab-b0c2-50996dd5b5e4",
   "metadata": {},
   "outputs": [
    {
     "name": "stdout",
     "output_type": "stream",
     "text": [
      "{0, 3, 5, 9}\n",
      "{0, 3, 5, 9}\n"
     ]
    }
   ],
   "source": [
    "A={2,3,5,9,0,4}\n",
    "B={1,2,6,4,7}\n",
    "\n",
    "#using -=\n",
    "A -= B\n",
    "print(A)\n",
    "\n",
    "#using difference_update()\n",
    "A.difference_update(B)\n",
    "print(A)"
   ]
  },
  {
   "cell_type": "code",
   "execution_count": 179,
   "id": "9093ba96-de0b-48f8-8929-6486dc592ab1",
   "metadata": {},
   "outputs": [
    {
     "name": "stdout",
     "output_type": "stream",
     "text": [
      "{1, 6, 7}\n",
      "{1, 6, 7}\n"
     ]
    }
   ],
   "source": [
    "A={2,3,5,9,0,4}\n",
    "B={1,2,6,4,7}\n",
    "\n",
    "#using -=\n",
    "B -= A\n",
    "print(B)\n",
    "#using difference_update()\n",
    "B.difference_update(A)\n",
    "print(B)"
   ]
  },
  {
   "cell_type": "markdown",
   "id": "d8a8bd21-14b7-488d-8398-181aab89a688",
   "metadata": {},
   "source": [
    "### 13.intersection_update()\t\n",
    "                          Updates the existing caller set with the intersection of sets."
   ]
  },
  {
   "cell_type": "code",
   "execution_count": 177,
   "id": "3ff85867-8458-47fa-bb15-45b6ad2e2059",
   "metadata": {},
   "outputs": [
    {
     "name": "stdout",
     "output_type": "stream",
     "text": [
      "{0, 1, 3, 4, 5}\n",
      "{0, 1, 3, 4, 5}\n"
     ]
    }
   ],
   "source": [
    "A={1,3,5,8,4,0}\n",
    "B={1,2,3,0,5,4}\n",
    "\n",
    "#using &=\n",
    "A &= B\n",
    "print(A)\n",
    "\n",
    "#using intersection()\n",
    "A.intersection(B)\n",
    "print(A)"
   ]
  },
  {
   "cell_type": "markdown",
   "id": "46cda462-edb4-4b89-9420-36e2ea400eb0",
   "metadata": {},
   "source": [
    "### 14.symmetric_difference_update()\t\n",
    "                                   Updates the existing caller set with the symmetric difference of sets."
   ]
  },
  {
   "cell_type": "code",
   "execution_count": 185,
   "id": "59bc73d5-956e-4683-a945-c4cb6763c532",
   "metadata": {},
   "outputs": [
    {
     "name": "stdout",
     "output_type": "stream",
     "text": [
      "{1, 3, 5, 6, 7, 8, 9}\n"
     ]
    }
   ],
   "source": [
    "A={2,3,5,7,8,4}\n",
    "B={1,2,6,4,9}\n",
    "\n",
    "#using A^=B\n",
    "A^=B\n",
    "print(A)\n"
   ]
  },
  {
   "cell_type": "code",
   "execution_count": 175,
   "id": "843fdb00-1fe2-411e-ab13-f9e0c28bc086",
   "metadata": {},
   "outputs": [
    {
     "name": "stdout",
     "output_type": "stream",
     "text": [
      "{1, 3, 5, 6, 7, 8, 9}\n"
     ]
    }
   ],
   "source": [
    "#using symmetric_difference_update()\n",
    "A={2,3,5,7,8,4}\n",
    "B={1,2,6,4,9}\n",
    "A.symmetric_difference_update(B)\n",
    "print(A)"
   ]
  },
  {
   "cell_type": "code",
   "execution_count": null,
   "id": "1f4915e8-fe55-4987-bd2f-64d254bd5329",
   "metadata": {},
   "outputs": [],
   "source": []
  }
 ],
 "metadata": {
  "kernelspec": {
   "display_name": "Python 3 (ipykernel)",
   "language": "python",
   "name": "python3"
  },
  "language_info": {
   "codemirror_mode": {
    "name": "ipython",
    "version": 3
   },
   "file_extension": ".py",
   "mimetype": "text/x-python",
   "name": "python",
   "nbconvert_exporter": "python",
   "pygments_lexer": "ipython3",
   "version": "3.12.4"
  }
 },
 "nbformat": 4,
 "nbformat_minor": 5
}
