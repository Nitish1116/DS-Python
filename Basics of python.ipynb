{
 "cells": [
  {
   "cell_type": "markdown",
   "id": "ee040b55-24c1-4b1b-a0f2-34d92e6982d8",
   "metadata": {},
   "source": [
    "Definition of python:\n",
    "                     Python is a programming language that is interpreted, object-oriented, and considered to be high-level too. What is Python? Python is one of the easiest yet most useful programming languages which is widely used in the software industry. People use Python for Competitive Programming, Web Development, and creating software. Due to its easiest syntax, it is recommended for beginners who are new to the software engineering field. Its demand is growing at a very rapid pace due to its vast use cases in Modern Technological fields like Data Science, Machine learning, and Automation Tasks. For many years now, it has been ranked among the top Programming languages.\n",
    "\n",
    "Features of python:\n",
    "\n",
    "-> Portable Language.It is a cross-platform language.\n",
    "-> Standard Library.\n",
    "-> High-Level Language.\n",
    "-> Easy to learn and use.\n",
    "-> Dynamic Language.\n",
    "-> Extensible Language.\n",
    "-> Interpreted Language.\n",
    "-> Object-Oriented Programming Language.\n"
   ]
  },
  {
   "cell_type": "code",
   "execution_count": 4,
   "id": "be8e54fe-c04c-4dbc-aa16-52e974087ed3",
   "metadata": {},
   "outputs": [
    {
     "name": "stdout",
     "output_type": "stream",
     "text": [
      "Helow World\n"
     ]
    }
   ],
   "source": [
    "print(\"Helow World\")"
   ]
  },
  {
   "cell_type": "code",
   "execution_count": 6,
   "id": "2d7b8940-d92a-4884-9c1d-e198c95d9ad3",
   "metadata": {},
   "outputs": [
    {
     "data": {
      "text/plain": [
       "('Python version:',\n",
       " '3.12.4 | packaged by Anaconda, Inc. | (main, Jun 18 2024, 10:14:12) [Clang 14.0.6 ]')"
      ]
     },
     "execution_count": 6,
     "metadata": {},
     "output_type": "execute_result"
    }
   ],
   "source": [
    "import sys\n",
    "(\"Python version:\",sys.version)"
   ]
  },
  {
   "cell_type": "code",
   "execution_count": null,
   "id": "94549a98-cb91-4d19-884d-4a5faacd06d4",
   "metadata": {},
   "outputs": [],
   "source": []
  }
 ],
 "metadata": {
  "kernelspec": {
   "display_name": "Python 3 (ipykernel)",
   "language": "python",
   "name": "python3"
  },
  "language_info": {
   "codemirror_mode": {
    "name": "ipython",
    "version": 3
   },
   "file_extension": ".py",
   "mimetype": "text/x-python",
   "name": "python",
   "nbconvert_exporter": "python",
   "pygments_lexer": "ipython3",
   "version": "3.12.4"
  }
 },
 "nbformat": 4,
 "nbformat_minor": 5
}
