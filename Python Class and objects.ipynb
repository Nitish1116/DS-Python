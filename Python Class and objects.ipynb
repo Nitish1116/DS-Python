{
 "cells": [
  {
   "cell_type": "markdown",
   "id": "38b6495f-eb74-4c47-a54c-5675966eaca9",
   "metadata": {},
   "source": [
    "# Python Class/Objects"
   ]
  },
  {
   "cell_type": "markdown",
   "id": "1d9b1f88-ddb9-49a6-bd52-4243bbc2c283",
   "metadata": {},
   "source": [
    "## Python Class: A Fundamental Building Block"
   ]
  },
  {
   "cell_type": "markdown",
   "id": "b1dac87b-ccea-4315-9e26-4a070ae7d497",
   "metadata": {},
   "source": [
    "- Python is an object oriented programming language ."
   ]
  },
  {
   "cell_type": "markdown",
   "id": "55d4f6e9-c9f7-44cd-880c-13c87a80e664",
   "metadata": {},
   "source": [
    "- Almost everything in python is an object with its properties and methods."
   ]
  },
  {
   "cell_type": "markdown",
   "id": "c7059697-8320-4fa5-b744-0e6448aa7f49",
   "metadata": {},
   "source": [
    "- A class is like an object constructor, or a 'blueprint' for creating objects."
   ]
  },
  {
   "cell_type": "markdown",
   "id": "b8d50cbb-dde9-415a-9ed6-371a33151159",
   "metadata": {},
   "source": [
    "## Some points on Python class:"
   ]
  },
  {
   "cell_type": "markdown",
   "id": "7005cfc7-ccd2-416d-898d-7637ec1e27b8",
   "metadata": {},
   "source": [
    "- Classes are created by keyword class."
   ]
  },
  {
   "cell_type": "markdown",
   "id": "888147a4-d636-46a3-878b-4d68bc17faf1",
   "metadata": {},
   "source": [
    "- Attributes are the variables that belong to a class."
   ]
  },
  {
   "cell_type": "markdown",
   "id": "9d016bb8-8c86-452e-b959-2711c611e319",
   "metadata": {},
   "source": [
    "- Attributes are always public and can be accessed using the dot (.) operator."
   ]
  },
  {
   "cell_type": "markdown",
   "id": "96223b2a-f291-4c64-b6f6-683dcdc19022",
   "metadata": {},
   "source": [
    "## Create a class"
   ]
  },
  {
   "cell_type": "markdown",
   "id": "069bc0b2-c55e-47f7-9718-3e62345188e2",
   "metadata": {},
   "source": [
    "To create a class use the keyword class."
   ]
  },
  {
   "cell_type": "markdown",
   "id": "1581e05c-d33f-4a99-a2c3-7ec93166eaee",
   "metadata": {},
   "source": [
    "class class_name:\n",
    "      "
   ]
  },
  {
   "cell_type": "markdown",
   "id": "821340c1-acf4-49ad-a4a4-983287e9b9e7",
   "metadata": {},
   "source": [
    "#body of class"
   ]
  },
  {
   "cell_type": "markdown",
   "id": "d7073dd9-7d66-4671-995c-4b30c7e9eb27",
   "metadata": {},
   "source": [
    "Here, the class keyword indicates that you are creating a class followed by the name of the class ."
   ]
  },
  {
   "cell_type": "code",
   "execution_count": 18,
   "id": "b9705449-01a1-4a1f-8c40-6515d1766ec3",
   "metadata": {},
   "outputs": [],
   "source": [
    "class myclass:\n",
    "    x=5"
   ]
  },
  {
   "cell_type": "markdown",
   "id": "9eee694e-682d-4238-b783-42032587b60f",
   "metadata": {},
   "source": [
    "## Objects in Python: The Building Blocks of Programming"
   ]
  },
  {
   "cell_type": "markdown",
   "id": "549af080-0b7a-4753-85ac-ad6439bf7ccc",
   "metadata": {},
   "source": [
    "In Python, objects are the fundamental units of data, representing real-world entities or abstract concepts. They encapsulate data (attributes) and behavior (methods), providing a structured and modular way to organize and manipulate information."
   ]
  },
  {
   "cell_type": "markdown",
   "id": "159de028-39e1-4b2d-a32e-cf9d13ac0de8",
   "metadata": {},
   "source": [
    "## Create Object"
   ]
  },
  {
   "cell_type": "markdown",
   "id": "4b058d09-ee38-4a32-8e0f-1de8ec280138",
   "metadata": {},
   "source": [
    "Now we can use the class named myclass to create objects."
   ]
  },
  {
   "cell_type": "markdown",
   "id": "a9ef2ce5-34c7-4204-a6e1-f04ef1ffbe36",
   "metadata": {},
   "source": [
    "- Object is physical entity."
   ]
  },
  {
   "cell_type": "markdown",
   "id": "ad6824a7-754b-4b9a-9212-48d7f0306699",
   "metadata": {},
   "source": [
    "- we can create any of objects for class."
   ]
  },
  {
   "cell_type": "markdown",
   "id": "ecfe0983-ab4c-40fa-9de7-ea042f3e00ac",
   "metadata": {},
   "source": [
    "- Memory is allocated where we create object for class."
   ]
  },
  {
   "cell_type": "code",
   "execution_count": 27,
   "id": "6aa13b42-aa6b-49fa-8156-91659a57a33a",
   "metadata": {},
   "outputs": [
    {
     "name": "stdout",
     "output_type": "stream",
     "text": [
      "5\n"
     ]
    }
   ],
   "source": [
    "obj1=myclass()\n",
    "print(obj1.x)"
   ]
  },
  {
   "cell_type": "markdown",
   "id": "d37d6e7e-5820-485f-af0c-daaafa2cfb61",
   "metadata": {},
   "source": [
    "Example"
   ]
  },
  {
   "cell_type": "code",
   "execution_count": 48,
   "id": "51d54d11-4498-47ed-8ee0-1d626e000d7d",
   "metadata": {},
   "outputs": [
    {
     "name": "stdout",
     "output_type": "stream",
     "text": [
      "Buddy is 3 years old.\n",
      "Max is 5 years old.\n",
      "woof\n",
      "woof\n"
     ]
    }
   ],
   "source": [
    "class Dog:\n",
    "    def __init__(self,name,age):\n",
    "        self.name=name\n",
    "        self.age=age\n",
    "\n",
    "    def bark(self):\n",
    "        print('woof')\n",
    "\n",
    "# creating objects of the Dog class\n",
    "\n",
    "dog1 = Dog('Buddy',3)\n",
    "dog2 = Dog('Max',5)\n",
    "\n",
    "## Accessing object attributes and caling methods\n",
    "\n",
    "print(f'{dog1.name} is {dog1.age} years old.')\n",
    "print(f'{dog2.name} is {dog2.age} years old.')\n",
    "\n",
    "dog1.bark()\n",
    "dog2.bark()\n",
    "    "
   ]
  },
  {
   "cell_type": "markdown",
   "id": "f160ae88-e1f0-478b-b9c2-1fe5c4ebfc30",
   "metadata": {},
   "source": [
    "## The self Parameter: A Cornerstone of Object-Oriented Programming"
   ]
  },
  {
   "cell_type": "markdown",
   "id": "8cd1ce2f-b5d3-41fe-b253-7c088724334f",
   "metadata": {},
   "source": [
    "In Python, the self parameter is a special reference to the current object that a method is being called on. It's automatically passed as the first argument to any instance method of a class, even if it's not explicitly specified in the method's definition."
   ]
  },
  {
   "cell_type": "markdown",
   "id": "c05cb784-8ab0-43fe-9364-145b22364ef9",
   "metadata": {},
   "source": [
    "## The Self Parameter"
   ]
  },
  {
   "cell_type": "markdown",
   "id": "5eda7cab-5a68-4ad9-b5c3-7395907567e8",
   "metadata": {},
   "source": [
    "The self parameter is a reference to the current instance of the class, and is used to access variable that belongs to the class."
   ]
  },
  {
   "cell_type": "markdown",
   "id": "ef35ea01-22e5-483d-94c1-db026537c3cc",
   "metadata": {},
   "source": [
    "It does not have to be named self, you can call it whatever you like, but it has to be the first parameter of any function in the class."
   ]
  },
  {
   "cell_type": "code",
   "execution_count": 53,
   "id": "768e2703-7484-4d08-a5b7-5fd4f18db61e",
   "metadata": {},
   "outputs": [
    {
     "name": "stdout",
     "output_type": "stream",
     "text": [
      "Hellow World\n"
     ]
    }
   ],
   "source": [
    "class self():\n",
    "    def __init__(self):\n",
    "        print('Hellow World')\n",
    "\n",
    "obj=self()"
   ]
  },
  {
   "cell_type": "markdown",
   "id": "88597067-68fe-41b7-b0f5-458c25093a3a",
   "metadata": {},
   "source": [
    "## The __init__ Function: A Constructor for Python Objects"
   ]
  },
  {
   "cell_type": "markdown",
   "id": "6b05edce-0bf7-4cc0-b8db-e41556ab9ada",
   "metadata": {},
   "source": [
    "The __init__ function is a special method in Python classes that acts as a constructor, responsible for initializing the attributes of an object when it's created. It's automatically called whenever a new instance of a class is created."
   ]
  },
  {
   "cell_type": "markdown",
   "id": "f4193a0a-5a79-4120-873a-f4bd6236dd91",
   "metadata": {},
   "source": [
    "## The init() function"
   ]
  },
  {
   "cell_type": "markdown",
   "id": "95813d1f-f1eb-49d0-b195-c52ad514a022",
   "metadata": {},
   "source": [
    "The self parameter is a reference to the current instance of the class, and is used to access variable that belongs to the class."
   ]
  },
  {
   "cell_type": "markdown",
   "id": "6211453e-20f9-4f57-ac71-8db412a88be5",
   "metadata": {},
   "source": [
    "It is automatically executed when an object is created from a class."
   ]
  },
  {
   "cell_type": "markdown",
   "id": "031c5bae-9217-41df-96f8-cf0c48af549b",
   "metadata": {},
   "source": [
    "Its purpose is to initialize the attributes of the object."
   ]
  },
  {
   "cell_type": "code",
   "execution_count": 73,
   "id": "c923d78a-37fe-4175-97a3-d722940926db",
   "metadata": {},
   "outputs": [
    {
     "name": "stdout",
     "output_type": "stream",
     "text": [
      "Buddy is 3 years old and living in visakhapatnam.\n"
     ]
    }
   ],
   "source": [
    "class Dog:\n",
    "    def __init__(self,name,age,location):\n",
    "        self.name=name\n",
    "        self.age=age\n",
    "        self.location=location\n",
    "# Object\n",
    "my_dog = Dog(name='Buddy',age=3,location='visakhapatnam')\n",
    "#accessing\n",
    "print(f'{my_dog.name} is {my_dog.age} years old and living in {my_dog.location}.')"
   ]
  },
  {
   "cell_type": "markdown",
   "id": "a0b32827-39ef-40e3-a98d-4d68f6f78edc",
   "metadata": {},
   "source": [
    "In this example, when you create a Dog object(my_dog),the init method is automatically called,and it initializes the name and age attributes of the object"
   ]
  },
  {
   "cell_type": "markdown",
   "id": "319c5645-b428-4b2a-88c4-63ab80e603e6",
   "metadata": {},
   "source": [
    "## The str Method: Converting Objects to Strings"
   ]
  },
  {
   "cell_type": "markdown",
   "id": "fff780dd-5cd0-4d29-99ce-1513f6eb9d6f",
   "metadata": {},
   "source": [
    "The str method is a built-in function in Python that is used to convert an object to a string representation. It's a versatile tool that allows you to transform various data types into human-readable text."
   ]
  },
  {
   "cell_type": "markdown",
   "id": "8b425c59-c000-48cf-86b2-fcf8a5668ac9",
   "metadata": {},
   "source": [
    "## str method"
   ]
  },
  {
   "cell_type": "markdown",
   "id": "a96b467c-925c-4b98-90ce-f58bf2dd08aa",
   "metadata": {},
   "source": [
    "The str method is used to provide a human-redable string representation of the object."
   ]
  },
  {
   "cell_type": "markdown",
   "id": "f530e93a-324a-44cd-b1b4-a72682672426",
   "metadata": {},
   "source": [
    "It is called when the str() function is used on an object or when print() is called with an object."
   ]
  },
  {
   "cell_type": "code",
   "execution_count": 82,
   "id": "9334dd1e-54b2-424d-a15e-963e5fef46e2",
   "metadata": {},
   "outputs": [
    {
     "name": "stdout",
     "output_type": "stream",
     "text": [
      "Buddy,3 years old.\n",
      "Buddy,3 years old.\n"
     ]
    }
   ],
   "source": [
    "class Dog:\n",
    "    def __init__(self,name,age):\n",
    "        self.name=name\n",
    "        self.age=age\n",
    "\n",
    "    def __str__(self):\n",
    "        return f'{self.name},{self.age} years old.'\n",
    "\n",
    "#object\n",
    "my_dog= Dog(name='Buddy',age=3)\n",
    "\n",
    "# using str() or print() on the object\n",
    "print(my_dog)\n",
    "# or\n",
    "print(str(my_dog))"
   ]
  },
  {
   "cell_type": "markdown",
   "id": "6b3f1e0b-d359-47e1-9422-5c0b76f4fc88",
   "metadata": {},
   "source": [
    "In this example, the str method is defined to return a formatted string representing the dogs name and age."
   ]
  },
  {
   "cell_type": "markdown",
   "id": "5427e850-c3ad-400e-a41d-6664f7d7c220",
   "metadata": {},
   "source": [
    "When str() or print() is called on the my_dog object, the str method is invoked, providing a redable output."
   ]
  },
  {
   "cell_type": "code",
   "execution_count": 26,
   "id": "4751821c-6496-4b60-aa24-788a8e00a99a",
   "metadata": {},
   "outputs": [
    {
     "name": "stdout",
     "output_type": "stream",
     "text": [
      "Kumar is 22 years old.\n",
      "Kumar is 22 years old.\n"
     ]
    }
   ],
   "source": [
    "class Men:\n",
    "    def __init__(Nitish,name,age):\n",
    "        Nitish.name=name\n",
    "        Nitish.age=age\n",
    "\n",
    "    def __str__(Nitish):\n",
    "        return f'{Nitish.name} is {Nitish.age} years old.'\n",
    "\n",
    "my_men= Men(name='Kumar',age=22)\n",
    "\n",
    "print(my_men)\n",
    "# or\n",
    "print(str(my_men))"
   ]
  },
  {
   "cell_type": "code",
   "execution_count": null,
   "id": "85ebd734-c5bd-4d1b-a861-7ee7807093b0",
   "metadata": {},
   "outputs": [],
   "source": []
  }
 ],
 "metadata": {
  "kernelspec": {
   "display_name": "Python 3 (ipykernel)",
   "language": "python",
   "name": "python3"
  },
  "language_info": {
   "codemirror_mode": {
    "name": "ipython",
    "version": 3
   },
   "file_extension": ".py",
   "mimetype": "text/x-python",
   "name": "python",
   "nbconvert_exporter": "python",
   "pygments_lexer": "ipython3",
   "version": "3.12.4"
  }
 },
 "nbformat": 4,
 "nbformat_minor": 5
}
