{
 "cells": [
  {
   "cell_type": "markdown",
   "id": "9a1d1ba0-63b5-4420-832e-11165f2309c9",
   "metadata": {},
   "source": [
    "# Python File Handling"
   ]
  },
  {
   "cell_type": "markdown",
   "id": "e45e61c7-a9fc-4785-9712-cd82fd1d5b6b",
   "metadata": {},
   "source": [
    "Python supports file handling and allows users to handle files i.e., to read and write files, along with many other file handling options, to operate on files. The concept of file handling has stretched over various other languages, but the implementation is either complicated or lengthy, like other concepts of Python, this concept here is also easy and short."
   ]
  },
  {
   "cell_type": "markdown",
   "id": "a5df4fa1-58a2-4afa-8ff7-38eae6aac517",
   "metadata": {},
   "source": [
    "# Python File I/OPython File Operation"
   ]
  },
  {
   "cell_type": "markdown",
   "id": "a63c0200-8872-426a-8df5-94368d3c7452",
   "metadata": {},
   "source": [
    "A file is a container in computer storage devices used for storing data."
   ]
  },
  {
   "cell_type": "markdown",
   "id": "abcdf397-9a68-49db-b337-be189ec89418",
   "metadata": {},
   "source": [
    "When we want to read from or write to a file, we need to open it first. When we are done, it needs to be closed so that the resources that are tied with the file are freed."
   ]
  },
  {
   "cell_type": "markdown",
   "id": "87906a1d-59e7-4d6b-b138-db01357b83f6",
   "metadata": {},
   "source": [
    "Hence, in Python, a file operation takes place in the following order:"
   ]
  },
  {
   "cell_type": "markdown",
   "id": "078a9405-af6c-41b1-9925-bfc262ec74ae",
   "metadata": {},
   "source": [
    "1.Open a file"
   ]
  },
  {
   "cell_type": "markdown",
   "id": "e87f7ce3-c25e-49d5-971f-8daee1a0b6a0",
   "metadata": {},
   "source": [
    "2.Read or write (perform operation)"
   ]
  },
  {
   "cell_type": "markdown",
   "id": "02518dd8-4734-4c54-8dd9-12ca5ee06dca",
   "metadata": {},
   "source": [
    "3.Close the file"
   ]
  },
  {
   "cell_type": "markdown",
   "id": "60d5d0af-606c-432f-9ec0-e5b8a2154068",
   "metadata": {},
   "source": [
    "# Different modes to open a file in python"
   ]
  },
  {
   "cell_type": "markdown",
   "id": "593cd077-f53c-4f4a-afa2-0459dda224d9",
   "metadata": {},
   "source": [
    "r: open an existing file for a read operation."
   ]
  },
  {
   "cell_type": "markdown",
   "id": "bd9cf59f-4c8e-414d-8bdb-4ef0e3533f20",
   "metadata": {},
   "source": [
    "w: open an existing file for a write operation. If the file already contains some data, then it will be overridden but if the file is not present then it creates the file as well.\n"
   ]
  },
  {
   "cell_type": "markdown",
   "id": "8f988f33-5e90-4f98-b3b4-7be18340df80",
   "metadata": {},
   "source": [
    "a: open an existing file for append operation. It won’t override existing data."
   ]
  },
  {
   "cell_type": "markdown",
   "id": "252176aa-4e21-47ae-99ae-5b2ee412d260",
   "metadata": {},
   "source": [
    "r+: To read and write data into the file. This mode does not override the existing data, but you can modify the data starting from the beginning of the file."
   ]
  },
  {
   "cell_type": "markdown",
   "id": "7f2ba8e9-0943-4982-a7c9-7b5d643caa29",
   "metadata": {},
   "source": [
    "w+: To write and read data. It overwrites the previous file if one exists, it will truncate the file to zero length or create a file if it does not exist."
   ]
  },
  {
   "cell_type": "markdown",
   "id": "a25b0e4e-8c04-41a5-a01a-79ece7d7b8d3",
   "metadata": {},
   "source": [
    "a+: To append and read data from the file. It won’t override existing data."
   ]
  },
  {
   "cell_type": "markdown",
   "id": "b726309b-c960-4771-94ee-43edd2b0562f",
   "metadata": {},
   "source": [
    "## Opening Files in Python"
   ]
  },
  {
   "cell_type": "markdown",
   "id": "b0d10496-339a-43f8-b6d0-085c23ca5eee",
   "metadata": {},
   "source": [
    "A file operation starts with the file opening. At first, open the File then Python will start the operation. File opening is done with the open() function in Python. This function will accepts two arguments, file name and access mode in which the file is accessed. When we use the open() function, that time we must be specified the mode for which the File is opening. The function returns a file object which can be used to perform various operations like reading, writing, etc."
   ]
  },
  {
   "cell_type": "markdown",
   "id": "38c836c3-e930-4ff3-9dcc-3bb3b60b9692",
   "metadata": {},
   "source": [
    "In Python, we use the open() method to open files."
   ]
  },
  {
   "cell_type": "markdown",
   "id": "31844b0f-43c4-4fa7-9371-4ac30fd1b180",
   "metadata": {},
   "source": [
    "To demonstrate how we open files in Python, let's suppose we have a file named test.txt with the following content."
   ]
  },
  {
   "cell_type": "code",
   "execution_count": 25,
   "id": "d9182456-8377-4469-ad60-5545cf1621ec",
   "metadata": {},
   "outputs": [
    {
     "name": "stdout",
     "output_type": "stream",
     "text": [
      "<_io.TextIOWrapper name='/Users/nitishkumar/Nitish/Python/text.txt' mode='r' encoding='UTF-8'>\n"
     ]
    }
   ],
   "source": [
    "# open file in current directory\n",
    "s = open(r\"/Users/nitishkumar/Nitish/Python/text.txt\") #path mention\n",
    "print(s)"
   ]
  },
  {
   "cell_type": "code",
   "execution_count": 27,
   "id": "d47b2f2e-24c5-48f4-927b-8996e79cfef4",
   "metadata": {},
   "outputs": [
    {
     "name": "stdout",
     "output_type": "stream",
     "text": [
      "hi, this is nitish\n"
     ]
    }
   ],
   "source": [
    "#By default, the files are open in read mode (cannot be modified). The code above is equivalent to\n",
    "\n",
    "f= open(r\"/Users/nitishkumar/Nitish/Python/text.txt\", \"r\")\n",
    "print(f.read())"
   ]
  },
  {
   "cell_type": "code",
   "execution_count": 29,
   "id": "b4578375-208e-4ffa-84d5-b635b9583e36",
   "metadata": {},
   "outputs": [
    {
     "name": "stdout",
     "output_type": "stream",
     "text": [
      "hi, this is nitish\n"
     ]
    }
   ],
   "source": [
    "with open('text.txt','r') as file:\n",
    "    h=file.read()\n",
    "\n",
    "print(h)"
   ]
  },
  {
   "cell_type": "markdown",
   "id": "09ff1916-145a-405c-8d30-9b1c495de88d",
   "metadata": {},
   "source": [
    "## Reading Files in Python"
   ]
  },
  {
   "cell_type": "markdown",
   "id": "386a7426-2a5e-4eb4-9d6c-99c708b9c874",
   "metadata": {},
   "source": [
    "After we open a file, we use the read() method to read its contents. For example,"
   ]
  },
  {
   "cell_type": "code",
   "execution_count": 31,
   "id": "55cd48f0-13a9-4a80-a55a-a7894bca536c",
   "metadata": {},
   "outputs": [
    {
     "name": "stdout",
     "output_type": "stream",
     "text": [
      "hi, this is nitish\n"
     ]
    }
   ],
   "source": [
    "# open a file\n",
    "file1 = open(r\"/Users/nitishkumar/Nitish/Python/text.txt\", \"r\")\n",
    "\n",
    "# read the file\n",
    "read_content = file1.read()\n",
    "print(read_content)"
   ]
  },
  {
   "cell_type": "code",
   "execution_count": 33,
   "id": "b0796569-f04c-4f38-bc4d-11daf3029bb2",
   "metadata": {},
   "outputs": [
    {
     "name": "stdout",
     "output_type": "stream",
     "text": [
      "11\n"
     ]
    }
   ],
   "source": [
    "# Write a file \n",
    "file2 = open(\"/Users/nitishkumar/Nitish/Python/text.txt\", \"w\")\n",
    "edit=file2.write(\"Bye friends\") # data will replace with new data\n",
    "print(edit)"
   ]
  },
  {
   "cell_type": "code",
   "execution_count": 35,
   "id": "582f208f-bbae-4e3e-b7a5-beac7f388704",
   "metadata": {},
   "outputs": [],
   "source": [
    "#with open(\"text.txt\", \"w\") as file1:\n",
    "#    edit = file1.write(\"Bye Friends\")\n",
    "#    print(edit)"
   ]
  },
  {
   "cell_type": "code",
   "execution_count": 37,
   "id": "ae6dbf6d-93ef-44a5-95ba-55be3f52d7f6",
   "metadata": {},
   "outputs": [
    {
     "name": "stdout",
     "output_type": "stream",
     "text": [
      "13\n"
     ]
    }
   ],
   "source": [
    "# to over come this problem we use append\n",
    "file3 = open(r\"/Users/nitishkumar/Nitish/Python/text.txt\",\"a\")\n",
    "e=file3.write(\" Hi friends.\\n\")\n",
    "print(e)"
   ]
  },
  {
   "cell_type": "code",
   "execution_count": 17,
   "id": "0d6be87b-9149-4433-ae25-2ea86a116e10",
   "metadata": {},
   "outputs": [],
   "source": [
    "#with open(\"text.txt\", \"a\") as file1:\n",
    "#    edit = file1.write(\"Hi Friends\")\n",
    "#    print(edit)"
   ]
  },
  {
   "cell_type": "code",
   "execution_count": 39,
   "id": "d9599780-77c4-4b98-bebc-8180d56fe4ec",
   "metadata": {},
   "outputs": [
    {
     "name": "stdout",
     "output_type": "stream",
     "text": [
      "How are you friends? s.\n",
      "\n",
      "21\n"
     ]
    }
   ],
   "source": [
    "# for read and write we use r+\n",
    "file4 = open(r\"/Users/nitishkumar/Nitish/Python/text.txt\",\"r+\")\n",
    "print(file4.read())\n",
    "g=file4.write(\"How are you friends? \")\n",
    "print(g)"
   ]
  },
  {
   "cell_type": "code",
   "execution_count": 41,
   "id": "6a50b9c8-7e99-4bb4-b936-1713e13cfe85",
   "metadata": {},
   "outputs": [
    {
     "name": "stdout",
     "output_type": "stream",
     "text": [
      "None\n"
     ]
    }
   ],
   "source": [
    "# example using writelines()\n",
    "lines = [\"First line\\n\", \"Second line\\n\", \"Third line\\n\"]\n",
    "\n",
    "with open(\"text.txt\", \"w\") as file:\n",
    "    print(file.writelines(lines))# write all lines at once\n",
    "    "
   ]
  },
  {
   "cell_type": "markdown",
   "id": "282dae1b-d704-44f3-b52b-f94a2c02f47f",
   "metadata": {},
   "source": [
    "## Closing Files in Python"
   ]
  },
  {
   "cell_type": "markdown",
   "id": "50494414-14dc-4816-9339-755dcadfcd22",
   "metadata": {},
   "source": [
    "The close method used to terminate the program. Once all the operations are done on the file, we must close it through our Python script using the close() method. Any unwritten information gets destroyed once the close() method is called on a file object."
   ]
  },
  {
   "cell_type": "markdown",
   "id": "0b166baf-cb0a-485f-bdb8-098710cb5c0d",
   "metadata": {},
   "source": [
    "We can perform any operation on the file externally using the file system which is the currently opened in Python; hence it is good practice to close the file once all the operations are done. Earlier use of the close() method can cause the of destroyed some information that you want to write in your File."
   ]
  },
  {
   "cell_type": "markdown",
   "id": "ea7fddac-6152-4a18-b742-84ca7e3e6d73",
   "metadata": {},
   "source": [
    "When we are done with performing operations on the file, we need to properly close the file."
   ]
  },
  {
   "cell_type": "markdown",
   "id": "33609b5a-6763-4b23-9bd0-43dfb69475ff",
   "metadata": {},
   "source": [
    "Closing a file will free up the resources that were tied with the file."
   ]
  },
  {
   "cell_type": "markdown",
   "id": "55f7696b-1c07-421f-8ebf-d81bded94406",
   "metadata": {},
   "source": [
    "It is done using the close() method in Python. For example,"
   ]
  },
  {
   "cell_type": "code",
   "execution_count": 43,
   "id": "d1a217cb-93b2-4ae1-b7a1-991a87b4f4f3",
   "metadata": {},
   "outputs": [
    {
     "name": "stdout",
     "output_type": "stream",
     "text": [
      "First line\n",
      "Second line\n",
      "Third line\n",
      "\n"
     ]
    }
   ],
   "source": [
    "# open a file\n",
    "file1 = open(r\"/Users/nitishkumar/Nitish/Python/text.txt\", \"r\")\n",
    "\n",
    "# read the file\n",
    "read_content = file1.read()\n",
    "print(read_content)\n",
    "\n",
    "# close the file\n",
    "file1.close()"
   ]
  },
  {
   "cell_type": "markdown",
   "id": "3ee586e0-5bf9-49f8-a465-deb236009e08",
   "metadata": {},
   "source": [
    "## Exception Handling in Files"
   ]
  },
  {
   "cell_type": "markdown",
   "id": "f3281bc8-a25a-4fd3-820e-1ace00fc0b8c",
   "metadata": {},
   "source": [
    "If an exception occurs when we are performing some operation with the file, the code exits without closing the file."
   ]
  },
  {
   "cell_type": "markdown",
   "id": "11500523-bedb-4955-862f-56cc099726d1",
   "metadata": {},
   "source": [
    "A safer way is to use a try...finally block."
   ]
  },
  {
   "cell_type": "markdown",
   "id": "276d1bdf-64eb-4996-b150-c05d62f4f94b",
   "metadata": {},
   "source": [
    "When a Python program meets an error, it stops the execution of the rest of the program. An error in Python might be either an error in the syntax of an expression or a Python exception. We will see what an exception is. Also, we will see the difference between a syntax error and an exception in this tutorial. Following that, we will learn about trying and except blocks and how to raise exceptions and make assertions. After that, we will see the Python exceptions list."
   ]
  },
  {
   "cell_type": "markdown",
   "id": "2e0be132-5fed-4903-bea1-87f4c236e972",
   "metadata": {},
   "source": [
    "### Try and Except Statement - Catching Exceptions"
   ]
  },
  {
   "cell_type": "markdown",
   "id": "8bcb468a-841c-43fa-bb6d-a06f8adaaa41",
   "metadata": {},
   "source": [
    "In Python, we catch exceptions and handle them using try and except code blocks. The try clause contains the code that can raise an exception, while the except clause contains the code lines that handle the exception. Let's see if we can access the index from the array, which is more than the array's length, and handle the resulting exception."
   ]
  },
  {
   "cell_type": "code",
   "execution_count": 52,
   "id": "efefbfa8-ab1d-4154-a0dc-7a6eedef8b2e",
   "metadata": {},
   "outputs": [
    {
     "name": "stdout",
     "output_type": "stream",
     "text": [
      "First line\n",
      "Second line\n",
      "Third line\n",
      "\n"
     ]
    }
   ],
   "source": [
    "try:\n",
    "    file1 = open(\"text.txt\", \"r\")\n",
    "    read_content = file1.read()\n",
    "    print(read_content)\n",
    "\n",
    "finally:\n",
    "    # close the file\n",
    "    file1.close()"
   ]
  },
  {
   "cell_type": "code",
   "execution_count": 56,
   "id": "841dc28e-19aa-4ab4-a04d-6378af91d820",
   "metadata": {},
   "outputs": [
    {
     "name": "stdout",
     "output_type": "stream",
     "text": [
      "1.0\n"
     ]
    }
   ],
   "source": [
    "try:\n",
    "    numerator = 10\n",
    "    denominator = 10\n",
    "\n",
    "    result = numerator/denominator\n",
    "\n",
    "    print(result)\n",
    "except:\n",
    "    print(\"Error: Denominator cannot be 0.\")\n"
   ]
  },
  {
   "cell_type": "markdown",
   "id": "f074a1de-244a-4a53-8c27-1ca5aef787d4",
   "metadata": {},
   "source": [
    "# Regular expressions"
   ]
  },
  {
   "cell_type": "markdown",
   "id": "a5eb44a1-a0ba-40cc-bc54-e51f4786fcfe",
   "metadata": {},
   "source": [
    "Regular expressions (regex or regexp) are powerful tools for pattern matching and text manipulation in Python."
   ]
  },
  {
   "cell_type": "markdown",
   "id": "57662ff7-8b4b-4696-b8ef-a986c70549be",
   "metadata": {},
   "source": [
    "They provide a concise and flexible way to search, match, and manipulate strings based on specific patterns."
   ]
  },
  {
   "cell_type": "markdown",
   "id": "cbcb4a4a-8b12-48d8-af5d-e00ca2896d00",
   "metadata": {},
   "source": [
    "### Regex Module in Python"
   ]
  },
  {
   "cell_type": "markdown",
   "id": "ae9f42ff-b6b4-46c2-9b2e-83587b9aa8ea",
   "metadata": {},
   "source": [
    "Python has a built-in module named “re” that is used for regular expressions in Python. We can import this module by using the import statement."
   ]
  },
  {
   "cell_type": "markdown",
   "id": "3e7e2e00-d209-4003-8791-6c413bda82cf",
   "metadata": {},
   "source": [
    "### RegEx Functions"
   ]
  },
  {
   "cell_type": "markdown",
   "id": "ea21ce8a-9523-4307-86e2-556677d59f73",
   "metadata": {},
   "source": [
    "The re module offers a set of functions that allows us to search a string for a match:"
   ]
  },
  {
   "cell_type": "markdown",
   "id": "f3462d0b-6021-4f94-8c47-0634dcfcef34",
   "metadata": {},
   "source": [
    "### The findall() Function"
   ]
  },
  {
   "cell_type": "markdown",
   "id": "4f833f6a-832b-4cf7-a664-a65d0b42785a",
   "metadata": {},
   "source": [
    "The findall() function returns a list containing all matches."
   ]
  },
  {
   "cell_type": "code",
   "execution_count": 91,
   "id": "a197dcf9-2292-45bc-9002-3a2944f149f1",
   "metadata": {},
   "outputs": [
    {
     "name": "stdout",
     "output_type": "stream",
     "text": [
      "Matched ['he ']\n"
     ]
    }
   ],
   "source": [
    "#Match pattern\n",
    "import re\n",
    "\n",
    "txt = \"The rain in Spain\"\n",
    "x = re.findall(\"he \", txt)\n",
    "\n",
    "if x:\n",
    "    print(\"Matched\",x)\n",
    "else:\n",
    "    print(\"Not Matched\")"
   ]
  },
  {
   "cell_type": "code",
   "execution_count": 97,
   "id": "b5984b9a-d2cd-4f46-a52d-b55601484dcb",
   "metadata": {},
   "outputs": [
    {
     "name": "stdout",
     "output_type": "stream",
     "text": [
      "[]\n"
     ]
    }
   ],
   "source": [
    "txt ='world'\n",
    "x = re.findall('n', txt)\n",
    "print(x)"
   ]
  },
  {
   "cell_type": "markdown",
   "id": "5dc2b91a-77ed-4641-8497-6a6d90376630",
   "metadata": {},
   "source": [
    "### The search() Function"
   ]
  },
  {
   "cell_type": "markdown",
   "id": "be2358dd-67fe-454e-90e1-8aaf4d5dea6c",
   "metadata": {},
   "source": [
    "The search() function searches the string for a match, and returns a Match object if there is a match."
   ]
  },
  {
   "cell_type": "markdown",
   "id": "03f5ddcc-d298-42e3-8d15-976bb3351dd8",
   "metadata": {},
   "source": [
    "If there is more than one match, only the first occurrence of the match will be returned:"
   ]
  },
  {
   "cell_type": "code",
   "execution_count": 115,
   "id": "9b6e6f6f-d64c-49e2-890f-4a08edf55395",
   "metadata": {},
   "outputs": [
    {
     "name": "stdout",
     "output_type": "stream",
     "text": [
      "The first white-space character is located in position: 3\n"
     ]
    }
   ],
   "source": [
    "import re\n",
    "\n",
    "txt = \"The rain in India\"\n",
    "x = re.search(r\"\\s\", txt)\n",
    "\n",
    "print(\"The first white-space character is located in position:\", x.start())"
   ]
  },
  {
   "cell_type": "markdown",
   "id": "56cd4c0a-37f5-42d0-8109-97e369541e72",
   "metadata": {},
   "source": [
    "### The split() Function"
   ]
  },
  {
   "cell_type": "markdown",
   "id": "2c8b37ae-beb0-47c8-87c8-86f0f9ec9a00",
   "metadata": {},
   "source": [
    "The split() function returns a list where the string has been split at each match:"
   ]
  },
  {
   "cell_type": "code",
   "execution_count": 122,
   "id": "1febdef4-0e49-4172-ac16-9851c9d2c93b",
   "metadata": {},
   "outputs": [
    {
     "name": "stdout",
     "output_type": "stream",
     "text": [
      "['The', 'rain', 'in', 'Spain']\n"
     ]
    }
   ],
   "source": [
    "#Split at each white-space character\n",
    "import re\n",
    "\n",
    "txt = \"The rain in Spain\"\n",
    "x = re.split(r\"\\s\", txt)\n",
    "print(x)"
   ]
  },
  {
   "cell_type": "markdown",
   "id": "304ed0db-2834-4221-b971-666eefdef70e",
   "metadata": {},
   "source": [
    "#Split the string only at the first occurrence:\n",
    "import re\n",
    "\n",
    "txt = \"The rain in Spain\"\n",
    "x = re.split(r\"\\s\", txt, 2)\n",
    "print(x)"
   ]
  },
  {
   "cell_type": "markdown",
   "id": "507a4027-b288-4ed7-aab3-f8376318ffe3",
   "metadata": {},
   "source": [
    "### The sub() Function"
   ]
  },
  {
   "cell_type": "markdown",
   "id": "9c120f96-59ea-4f9d-9a89-9526f7a3a5dd",
   "metadata": {},
   "source": [
    "The sub() function replaces the matches with the text of your choice"
   ]
  },
  {
   "cell_type": "code",
   "execution_count": 134,
   "id": "95fc9f79-b88b-48de-9859-d6f05a3fc8c4",
   "metadata": {},
   "outputs": [
    {
     "name": "stdout",
     "output_type": "stream",
     "text": [
      "The2rain2in2Spain\n"
     ]
    }
   ],
   "source": [
    "#Replace every white-space character with the number 2\n",
    "import re\n",
    "\n",
    "txt = \"The rain in Spain\"\n",
    "x = re.sub(r\"\\s\", \"2\", txt)\n",
    "print(x)"
   ]
  },
  {
   "cell_type": "code",
   "execution_count": 138,
   "id": "8d6e297e-5b50-45a6-902d-4fb9c8b0ad7b",
   "metadata": {},
   "outputs": [
    {
     "name": "stdout",
     "output_type": "stream",
     "text": [
      "The9rain9in Spain\n"
     ]
    }
   ],
   "source": [
    "#Replace the first 2 occurrences\n",
    "\n",
    "txt = \"The rain in Spain\"\n",
    "x = re.sub(r\"\\s\", \"9\", txt, 2)\n",
    "print(x)"
   ]
  },
  {
   "cell_type": "markdown",
   "id": "b64b0f7c-6ce4-4b56-8902-e9c4c5124cd8",
   "metadata": {},
   "source": [
    "### Literal characters: Regular characters match themselves."
   ]
  },
  {
   "cell_type": "markdown",
   "id": "83fb46ed-7352-4eb3-9c57-810472c21485",
   "metadata": {},
   "source": [
    "Literal characters are characters that match themselves in a string. They do not have any special meaning in the context of regular expressions."
   ]
  },
  {
   "cell_type": "markdown",
   "id": "f79eb218-574f-4af7-9dc8-cbc722549655",
   "metadata": {},
   "source": [
    "### Keypoints for Literal Characters in Regular Expressions:"
   ]
  },
  {
   "cell_type": "code",
   "execution_count": null,
   "id": "ff38336e-5a31-46d7-87ff-c29eef433f11",
   "metadata": {},
   "outputs": [],
   "source": [
    "Match themselves: Literal characters represent the exact characters they are in a string."
   ]
  },
  {
   "cell_type": "code",
   "execution_count": null,
   "id": "f251b627-bfa8-4979-8caa-29c16eb65b05",
   "metadata": {},
   "outputs": [],
   "source": [
    "No special meaning: They do not have any predefined interpretations or functions within regular expressions."
   ]
  },
  {
   "cell_type": "code",
   "execution_count": null,
   "id": "80083f39-fa6a-46e4-a330-b47c375001be",
   "metadata": {},
   "outputs": [],
   "source": [
    "Building blocks: Literal characters are the fundamental elements of regular expressions."
   ]
  },
  {
   "cell_type": "code",
   "execution_count": null,
   "id": "3cf31d9c-3669-41c2-8464-4936536cdf6a",
   "metadata": {},
   "outputs": [],
   "source": [
    "Combined with other constructs: They can be combined with metacharacters, character classes, and quantifiers to create more complex patterns."
   ]
  },
  {
   "cell_type": "code",
   "execution_count": null,
   "id": "36ef7ee6-51a5-4d39-b50b-4f08ae5873d6",
   "metadata": {},
   "outputs": [],
   "source": [
    "Escape sequences: Be aware of escape sequences that might have different meanings within regular expressions."
   ]
  },
  {
   "cell_type": "code",
   "execution_count": 153,
   "id": "8b009da3-5599-4213-9c61-b40b8fa1b47a",
   "metadata": {},
   "outputs": [
    {
     "name": "stdout",
     "output_type": "stream",
     "text": [
      "Match found: Say\n"
     ]
    }
   ],
   "source": [
    "import re\n",
    "\n",
    "pattern = re.compile(r'Say')\n",
    "match = pattern.search('Say hello to regex!')\n",
    "if match:\n",
    "    print('Match found:', match.group())\n",
    "else:\n",
    "    print('Not Matched')"
   ]
  },
  {
   "cell_type": "markdown",
   "id": "aa05f2e0-060e-46eb-bdad-f0b91f199293",
   "metadata": {},
   "source": [
    "### Dot (.) wildcard: The dot matches any single character (except for a newline character)."
   ]
  },
  {
   "cell_type": "markdown",
   "id": "693e83f3-4947-435e-be9d-20e25cbc6738",
   "metadata": {},
   "source": [
    "The dot (.) wildcard in regular expressions is a versatile character that matches any single character except for a newline character."
   ]
  },
  {
   "cell_type": "markdown",
   "id": "87c01adc-fbeb-4dce-96d7-5341a1bb4b6e",
   "metadata": {},
   "source": [
    "### Key points for Dot wildcard(.)"
   ]
  },
  {
   "cell_type": "markdown",
   "id": "7b0230f2-78b9-46ab-8fad-5af07d263098",
   "metadata": {},
   "source": [
    "Matches any single character: The dot can represent any character, except for a newline."
   ]
  },
  {
   "cell_type": "markdown",
   "id": "49b84f41-597b-49a2-ba8a-2848118b4814",
   "metadata": {},
   "source": [
    "Versatile: It's a powerful tool for creating flexible patterns."
   ]
  },
  {
   "cell_type": "markdown",
   "id": "fe459095-a038-4c8a-9474-90dc62ebd4b8",
   "metadata": {},
   "source": [
    "Combined with other constructs: The dot can be used in conjunction with other regular expression elements to create more complex patterns."
   ]
  },
  {
   "cell_type": "code",
   "execution_count": 176,
   "id": "ff438a9c-cc1f-4d95-8e33-28335a79bbb8",
   "metadata": {},
   "outputs": [
    {
     "name": "stdout",
     "output_type": "stream",
     "text": [
      "Match found: book\n"
     ]
    }
   ],
   "source": [
    "import re\n",
    "\n",
    "pattern = re.compile(r'b..k')\n",
    "match = pattern.search('cat, cot, cut, good, book, birk, board')\n",
    "if match:\n",
    "    print('Match found:', match.group())"
   ]
  },
  {
   "cell_type": "code",
   "execution_count": 202,
   "id": "b5a5418e-6e1f-427c-9ce1-1018c6f2535b",
   "metadata": {},
   "outputs": [
    {
     "name": "stdout",
     "output_type": "stream",
     "text": [
      "matches found: ['cat', 'cot', 'cut']\n"
     ]
    }
   ],
   "source": [
    "txt=('cat, cot, cut, good, book, birk, board')\n",
    "pattern=r'c.t'\n",
    "matches= re.findall(pattern, txt)\n",
    "print('matches found:',matches)"
   ]
  },
  {
   "cell_type": "markdown",
   "id": "51b73518-01f1-4717-99cc-2a42516dbd1c",
   "metadata": {},
   "source": [
    "### Character classes: Square brackets [] define a character class, and the regex will match any single character within the brackets."
   ]
  },
  {
   "cell_type": "markdown",
   "id": "8efe943c-bf5e-4934-88ba-85229b490bc9",
   "metadata": {},
   "source": [
    " Character classes in regular expressions are defined using square brackets []. The regex will match any single character that is contained within the brackets."
   ]
  },
  {
   "cell_type": "markdown",
   "id": "bb135fe2-df31-4de1-8b50-5a927ae1745f",
   "metadata": {},
   "source": [
    "### Key points for character classes"
   ]
  },
  {
   "cell_type": "markdown",
   "id": "cbec7d33-a6cf-4b37-a734-221e80657b07",
   "metadata": {},
   "source": [
    "Define a set of characters: Character classes specify a group of characters that the regex can match."
   ]
  },
  {
   "cell_type": "markdown",
   "id": "505842b9-2e7c-4b59-904d-fa72fe6143e9",
   "metadata": {},
   "source": [
    "Match any single character: The regex will match any single character within the brackets."
   ]
  },
  {
   "cell_type": "markdown",
   "id": "7348f168-01da-4940-a9a9-49dc5087bae4",
   "metadata": {},
   "source": [
    "Ranges: You can use ranges (e.g., 0-9, A-Z) to specify a continuous set of characters."
   ]
  },
  {
   "cell_type": "markdown",
   "id": "e365ab96-41a9-4b71-8d17-38ce56f1b95c",
   "metadata": {},
   "source": [
    "Negation: The ^ character at the beginning of a character class negates it, matching any character not in the class."
   ]
  },
  {
   "cell_type": "code",
   "execution_count": 190,
   "id": "8cb85aac-039f-4bd2-8099-150315d706d2",
   "metadata": {},
   "outputs": [
    {
     "name": "stdout",
     "output_type": "stream",
     "text": [
      "Match found: l\n"
     ]
    }
   ],
   "source": [
    "pattern = re.compile(r'[l]')\n",
    "match = pattern.search('Hello, regex!')\n",
    "if match:\n",
    "    print('Match found:', match.group())\n",
    "        "
   ]
  },
  {
   "cell_type": "code",
   "execution_count": 192,
   "id": "27f3b762-c6ec-4140-93e9-ef0d6b6ed512",
   "metadata": {},
   "outputs": [
    {
     "name": "stdout",
     "output_type": "stream",
     "text": [
      "Match found: o\n"
     ]
    }
   ],
   "source": [
    "pattern = re.compile(r'[window]')\n",
    "match = pattern.search('Hello, regex!')\n",
    "if match:\n",
    "    print('Match found:', match.group())\n",
    "        "
   ]
  },
  {
   "cell_type": "code",
   "execution_count": 198,
   "id": "ef6437e0-8064-4df3-b561-ff2cd4108ed3",
   "metadata": {},
   "outputs": [
    {
     "name": "stdout",
     "output_type": "stream",
     "text": [
      "matches found: ['c', 't', 't', 't', 't']\n"
     ]
    }
   ],
   "source": [
    "txt='The cat sat on the mat'\n",
    "pattern = r\"[ct]\"\n",
    "\n",
    "matches= re.findall(pattern, txt)\n",
    "print('matches found:',matches)"
   ]
  },
  {
   "cell_type": "code",
   "execution_count": null,
   "id": "385a6a6c-697a-4159-b9f4-0139b97d59b5",
   "metadata": {},
   "outputs": [],
   "source": []
  }
 ],
 "metadata": {
  "kernelspec": {
   "display_name": "Python 3 (ipykernel)",
   "language": "python",
   "name": "python3"
  },
  "language_info": {
   "codemirror_mode": {
    "name": "ipython",
    "version": 3
   },
   "file_extension": ".py",
   "mimetype": "text/x-python",
   "name": "python",
   "nbconvert_exporter": "python",
   "pygments_lexer": "ipython3",
   "version": "3.12.4"
  }
 },
 "nbformat": 4,
 "nbformat_minor": 5
}
