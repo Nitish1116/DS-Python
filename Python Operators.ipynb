{
 "cells": [
  {
   "cell_type": "markdown",
   "id": "bf900daa-22a5-4cd8-bd7b-b5c1e6fa7880",
   "metadata": {},
   "source": [
    "# Python Operators:"
   ]
  },
  {
   "cell_type": "markdown",
   "id": "e86ff77d-2048-45a2-bee7-2bd6fef0d32c",
   "metadata": {},
   "source": [
    "                                In Python programming, Operators in general are used to perform operations on values and variables. "
   ]
  },
  {
   "cell_type": "markdown",
   "id": "b30a5676-2ea0-4d04-bd8b-4ad5ef0d5ea9",
   "metadata": {},
   "source": [
    "## Types of Operators:"
   ]
  },
  {
   "cell_type": "markdown",
   "id": "b424efea-f942-47cf-b236-85ec735fc95e",
   "metadata": {},
   "source": [
    "### Arithmetic Operator:"
   ]
  },
  {
   "cell_type": "markdown",
   "id": "23c22f08-73cc-426c-9b1e-b388dee0f9b4",
   "metadata": {},
   "source": [
    "                            Arithmetic operators are used with numeric values to perform common mathematical operations."
   ]
  },
  {
   "cell_type": "markdown",
   "id": "4b9598f9-d44a-4ffb-8483-5d4de10af8d1",
   "metadata": {},
   "source": [
    "#### Addition Operator:"
   ]
  },
  {
   "cell_type": "code",
   "execution_count": 27,
   "id": "abd7a11b-0fdd-466e-9a8e-abb220194753",
   "metadata": {},
   "outputs": [
    {
     "name": "stdout",
     "output_type": "stream",
     "text": [
      "32\n",
      "127\n",
      "75\n",
      "121\n",
      "109\n"
     ]
    }
   ],
   "source": [
    "a=10\n",
    "b=22\n",
    "c=99\n",
    "d=28 \n",
    "e=65\n",
    "\n",
    "x=a+b\n",
    "y=c+d\n",
    "z=e+a\n",
    "u=c+b\n",
    "v=c+a\n",
    "\n",
    "print(x)\n",
    "print(y)\n",
    "print(z)\n",
    "print(u)\n",
    "print(v)\n"
   ]
  },
  {
   "cell_type": "markdown",
   "id": "5964837d-b0ce-47af-870c-4420ca87cbe6",
   "metadata": {},
   "source": [
    "#### Subtraction Operator:"
   ]
  },
  {
   "cell_type": "code",
   "execution_count": 30,
   "id": "b58a4d92-946a-4c52-ad17-2734d0b92e71",
   "metadata": {},
   "outputs": [
    {
     "name": "stdout",
     "output_type": "stream",
     "text": [
      "78\n",
      "71\n",
      "-35\n",
      "77\n",
      "-1\n"
     ]
    }
   ],
   "source": [
    "a=100\n",
    "b=22\n",
    "c=99\n",
    "d=28 \n",
    "e=65\n",
    "\n",
    "x=a-b\n",
    "y=c-d\n",
    "z=e-a\n",
    "u=c-b\n",
    "v=c-a\n",
    "\n",
    "print(x)\n",
    "print(y)\n",
    "print(z)\n",
    "print(u)\n",
    "print(v)\n"
   ]
  },
  {
   "cell_type": "markdown",
   "id": "54766f77-8d3b-4676-beb3-19dd0411b0b8",
   "metadata": {},
   "source": [
    "#### Multiplication Operator:"
   ]
  },
  {
   "cell_type": "code",
   "execution_count": 33,
   "id": "b4da5beb-89f2-4353-b57a-49e2ac930d7d",
   "metadata": {},
   "outputs": [
    {
     "name": "stdout",
     "output_type": "stream",
     "text": [
      "44055\n",
      "279744\n",
      "64845\n",
      "441440\n",
      "98208\n"
     ]
    }
   ],
   "source": [
    "a=99\n",
    "b=445\n",
    "c=992\n",
    "d=282 \n",
    "e=655\n",
    "\n",
    "x=a*b\n",
    "y=c*d\n",
    "z=e*a\n",
    "u=c*b\n",
    "v=c*a\n",
    "\n",
    "print(x)\n",
    "print(y)\n",
    "print(z)\n",
    "print(u)\n",
    "print(v)\n"
   ]
  },
  {
   "cell_type": "markdown",
   "id": "cef64c79-b961-4be4-ab99-39a0f5bd4063",
   "metadata": {},
   "source": [
    "#### Division Operator:"
   ]
  },
  {
   "cell_type": "code",
   "execution_count": 36,
   "id": "580d07f7-bb6e-49b6-b38a-07a34352e8de",
   "metadata": {},
   "outputs": [
    {
     "name": "stdout",
     "output_type": "stream",
     "text": [
      "0.43859649122807015\n",
      "3.5035211267605635\n",
      "6.59\n",
      "4.364035087719298\n",
      "9.95\n"
     ]
    }
   ],
   "source": [
    "#result returns in quotient\n",
    "a=100\n",
    "b=228\n",
    "c=995\n",
    "d=284 \n",
    "e=659\n",
    "\n",
    "x=a/b\n",
    "y=c/d\n",
    "z=e/a\n",
    "u=c/b\n",
    "v=c/a\n",
    "\n",
    "print(x)\n",
    "print(y)\n",
    "print(z)\n",
    "print(u)\n",
    "print(v)\n"
   ]
  },
  {
   "cell_type": "markdown",
   "id": "60355c87-5687-4199-8dc7-6756fc3d686a",
   "metadata": {},
   "source": [
    "#### Modulus Operator:"
   ]
  },
  {
   "cell_type": "code",
   "execution_count": 41,
   "id": "bbb09878-47fd-48f6-a023-81f73419bfe1",
   "metadata": {},
   "outputs": [
    {
     "name": "stdout",
     "output_type": "stream",
     "text": [
      "100\n",
      "143\n",
      "59\n",
      "83\n",
      "95\n"
     ]
    }
   ],
   "source": [
    "#result returns in reminder\n",
    "a=100\n",
    "b=228\n",
    "c=995\n",
    "d=284 \n",
    "e=659\n",
    "\n",
    "x=a%b\n",
    "y=c%d\n",
    "z=e%a\n",
    "u=c%b\n",
    "v=c%a\n",
    "\n",
    "print(x)\n",
    "print(y)\n",
    "print(z)\n",
    "print(u)\n",
    "print(v)\n"
   ]
  },
  {
   "cell_type": "markdown",
   "id": "80290485-0a2c-40d2-9a3b-6326d9259172",
   "metadata": {},
   "source": [
    "#### Exponent Operator:"
   ]
  },
  {
   "cell_type": "code",
   "execution_count": 46,
   "id": "5bf6777c-bdf3-49ca-a643-6a7e1b7109ba",
   "metadata": {},
   "outputs": [
    {
     "name": "stdout",
     "output_type": "stream",
     "text": [
      "10000000000000000000000\n",
      "75471928720363271373330791992318635063021759244227777201\n",
      "1346274334462890625\n",
      "80163058953904597655850360719950389962307801\n",
      "90438207500880449001\n"
     ]
    }
   ],
   "source": [
    "a=10\n",
    "b=22\n",
    "c=99\n",
    "d=28\n",
    "e=65\n",
    "\n",
    "x=a**b\n",
    "y=c**d\n",
    "z=e**a\n",
    "u=c**b\n",
    "v=c**a\n",
    "\n",
    "print(x)\n",
    "print(y)\n",
    "print(z)\n",
    "print(u)\n",
    "print(v)\n"
   ]
  },
  {
   "cell_type": "markdown",
   "id": "7b4fb03f-7a16-4088-ab73-797c5d37c795",
   "metadata": {},
   "source": [
    "#### Floot Division Operator:"
   ]
  },
  {
   "cell_type": "code",
   "execution_count": 51,
   "id": "2ca71bba-274a-4c79-9e24-8e21ea69f7ea",
   "metadata": {},
   "outputs": [
    {
     "name": "stdout",
     "output_type": "stream",
     "text": [
      "0\n",
      "3\n",
      "6\n",
      "4\n",
      "9\n"
     ]
    }
   ],
   "source": [
    "#result removes the decimal \n",
    "a=100\n",
    "b=228\n",
    "c=995\n",
    "d=284 \n",
    "e=659\n",
    "\n",
    "x=a//b\n",
    "y=c//d\n",
    "z=e//a\n",
    "u=c//b\n",
    "v=c//a\n",
    "\n",
    "print(x)\n",
    "print(y)\n",
    "print(z)\n",
    "print(u)\n",
    "print(v)\n"
   ]
  },
  {
   "cell_type": "markdown",
   "id": "96709f1f-7cf9-4618-b037-d26b89084323",
   "metadata": {},
   "source": [
    "### 2.AssignmentOperators:"
   ]
  },
  {
   "cell_type": "markdown",
   "id": "1ecee8f6-b0c9-4a19-8465-8490149c6762",
   "metadata": {},
   "source": [
    "                           Are used to assign values to variables. symbol ="
   ]
  },
  {
   "cell_type": "markdown",
   "id": "878b94a4-d105-4b03-9b70-f18467cdb961",
   "metadata": {},
   "source": [
    "#### Addition Assignment Operator:"
   ]
  },
  {
   "cell_type": "code",
   "execution_count": 81,
   "id": "2c05a1f8-1a1c-497a-83a7-0f0bb856d5c6",
   "metadata": {},
   "outputs": [
    {
     "name": "stdout",
     "output_type": "stream",
     "text": [
      "32\n",
      "127\n",
      "97\n",
      "44\n",
      "155\n"
     ]
    }
   ],
   "source": [
    "a=10\n",
    "b=22\n",
    "c=99\n",
    "d=28 \n",
    "e=65\n",
    "\n",
    "a+=b\n",
    "c+=d\n",
    "e+=a\n",
    "b+=b\n",
    "d+=c\n",
    "\n",
    "print(a)\n",
    "print(c)\n",
    "print(e)\n",
    "print(b)\n",
    "print(d)\n"
   ]
  },
  {
   "cell_type": "markdown",
   "id": "ae136298-d1b0-40ea-8a50-6c86a52dae12",
   "metadata": {},
   "source": [
    "#### Subtraction Assignment Operator:"
   ]
  },
  {
   "cell_type": "code",
   "execution_count": 79,
   "id": "78256dcd-9344-4466-af33-89583e9115c4",
   "metadata": {},
   "outputs": [
    {
     "name": "stdout",
     "output_type": "stream",
     "text": [
      "-128\n",
      "710\n",
      "784\n",
      "0\n",
      "413\n"
     ]
    }
   ],
   "source": [
    "a=100\n",
    "b=228\n",
    "c=995\n",
    "d=285\n",
    "e=656\n",
    "\n",
    "a-=b\n",
    "c-=d\n",
    "e-=a\n",
    "b-=b\n",
    "d-=a\n",
    "\n",
    "print(a)\n",
    "print(c)\n",
    "print(e)\n",
    "print(b)\n",
    "print(d)\n"
   ]
  },
  {
   "cell_type": "markdown",
   "id": "2041c16d-2667-4f5d-a6f6-8f84dbf3aefe",
   "metadata": {},
   "source": [
    "#### Multiplication Assignmment Operator:"
   ]
  },
  {
   "cell_type": "code",
   "execution_count": 77,
   "id": "0b24bbaf-e468-4669-95ef-f797f3341ea8",
   "metadata": {},
   "outputs": [
    {
     "name": "stdout",
     "output_type": "stream",
     "text": [
      "22800\n",
      "283575\n",
      "14956800\n",
      "51984\n",
      "6498000\n"
     ]
    }
   ],
   "source": [
    "a=100\n",
    "b=228\n",
    "c=995\n",
    "d=285\n",
    "e=656\n",
    "\n",
    "a*=b\n",
    "c*=d\n",
    "e*=a\n",
    "b*=b\n",
    "d*=a\n",
    "\n",
    "print(a)\n",
    "print(c)\n",
    "print(e)\n",
    "print(b)\n",
    "print(d)\n"
   ]
  },
  {
   "cell_type": "markdown",
   "id": "dbbc1ba9-089d-4499-a689-a3313eb47b7a",
   "metadata": {},
   "source": [
    "#### Division Assignment Operator:"
   ]
  },
  {
   "cell_type": "code",
   "execution_count": 75,
   "id": "e6604d85-0c0f-465b-9d94-879f5ae45006",
   "metadata": {},
   "outputs": [
    {
     "name": "stdout",
     "output_type": "stream",
     "text": [
      "0.43859649122807015\n",
      "3.491228070175439\n",
      "1495.68\n",
      "1.0\n",
      "649.8000000000001\n"
     ]
    }
   ],
   "source": [
    "a=100\n",
    "b=228\n",
    "c=995\n",
    "d=285\n",
    "e=656\n",
    "\n",
    "a/=b\n",
    "c/=d\n",
    "e/=a\n",
    "b/=b\n",
    "d/=a\n",
    "\n",
    "print(a)\n",
    "print(c)\n",
    "print(e)\n",
    "print(b)\n",
    "print(d)\n"
   ]
  },
  {
   "cell_type": "markdown",
   "id": "66a62fd5-4788-4203-b4b3-652c22912c91",
   "metadata": {},
   "source": [
    "#### Remainder Assignment Operator:"
   ]
  },
  {
   "cell_type": "code",
   "execution_count": 1,
   "id": "8f59a3f5-9057-45a3-a00a-765c66d0a28c",
   "metadata": {},
   "outputs": [
    {
     "name": "stdout",
     "output_type": "stream",
     "text": [
      "100\n",
      "140\n",
      "56\n",
      "0\n",
      "85\n"
     ]
    }
   ],
   "source": [
    "a=100\n",
    "b=228\n",
    "c=995\n",
    "d=285\n",
    "e=656\n",
    "\n",
    "a%=b\n",
    "c%=d\n",
    "e%=a\n",
    "b%=b\n",
    "d%=a\n",
    "\n",
    "print(a)\n",
    "print(c)\n",
    "print(e)\n",
    "print(b)\n",
    "print(d)\n"
   ]
  },
  {
   "cell_type": "markdown",
   "id": "c2f9a29e-7643-43a0-a120-c1bd5ae7926e",
   "metadata": {},
   "source": [
    "#### Exponent Assignment Operator:"
   ]
  },
  {
   "cell_type": "code",
   "execution_count": 1,
   "id": "ac159800-1571-41ab-ab89-b3c758576972",
   "metadata": {},
   "outputs": [
    {
     "name": "stdout",
     "output_type": "stream",
     "text": [
      "10000000000000000000000\n",
      "75471928720363271373330791992318635063021759244227777201\n",
      "65\n",
      "0\n",
      "28\n"
     ]
    }
   ],
   "source": [
    "a=10\n",
    "b=22\n",
    "c=99\n",
    "d=28\n",
    "e=65\n",
    "\n",
    "a**=b\n",
    "c**=d\n",
    "b**=a\n",
    "d**=a\n",
    "\n",
    "print(a)\n",
    "print(c)\n",
    "print(e)\n",
    "print(b)\n",
    "print(d)\n"
   ]
  },
  {
   "cell_type": "markdown",
   "id": "0c1875c4-f220-4289-a314-f44102a9f174",
   "metadata": {},
   "source": [
    "### 3.Comparision operators:"
   ]
  },
  {
   "cell_type": "markdown",
   "id": "86bab237-510c-45c3-b84d-0dfc83333e29",
   "metadata": {},
   "source": [
    "                             Comparision operators compare two values or variables and return a boolean result.                             "
   ]
  },
  {
   "cell_type": "markdown",
   "id": "cabd9bfe-f2df-4d78-b593-5c8b3e151420",
   "metadata": {},
   "source": [
    "#### Equal to Operator:"
   ]
  },
  {
   "cell_type": "code",
   "execution_count": 3,
   "id": "e8ea9ddc-52bb-4208-bb8a-2cef6847d3ca",
   "metadata": {},
   "outputs": [
    {
     "name": "stdout",
     "output_type": "stream",
     "text": [
      "True\n",
      "False\n",
      "True\n",
      "False\n",
      "True\n"
     ]
    }
   ],
   "source": [
    "a=5\n",
    "b=5\n",
    "c= \"string\"\n",
    "d= \"string\"\n",
    "e=22.5\n",
    "f=22.5\n",
    "g=\"name\"\n",
    "h=\"name\"\n",
    "\n",
    "\n",
    "print(a==b)\n",
    "print(b==g)\n",
    "print(f==e)\n",
    "print(c==f)\n",
    "print(c==d)\n",
    "\n"
   ]
  },
  {
   "cell_type": "markdown",
   "id": "f5be8deb-89f9-4b16-845e-faa1e5c6f263",
   "metadata": {},
   "source": [
    "#### Not equal to Operator:"
   ]
  },
  {
   "cell_type": "code",
   "execution_count": 5,
   "id": "c2cf8d63-577e-42d4-bb43-c21e80a6c8d0",
   "metadata": {},
   "outputs": [
    {
     "name": "stdout",
     "output_type": "stream",
     "text": [
      "True\n",
      "True\n",
      "True\n",
      "False\n",
      "True\n"
     ]
    }
   ],
   "source": [
    "a=10\n",
    "b=22\n",
    "c=99\n",
    "d=28\n",
    "e=65\n",
    "f=10\n",
    "g=22\n",
    "\n",
    "print(a!=b)\n",
    "print(c!=f)\n",
    "print(e!=c)\n",
    "print(b!=g)\n",
    "print(d!=a)\n"
   ]
  },
  {
   "cell_type": "markdown",
   "id": "198d2870-5cf9-4b89-ad9c-7453af48be77",
   "metadata": {},
   "source": [
    "#### Greater than Operator:"
   ]
  },
  {
   "cell_type": "code",
   "execution_count": 9,
   "id": "46ba80e0-840a-45d3-b71f-1a0ba9bb996f",
   "metadata": {},
   "outputs": [
    {
     "name": "stdout",
     "output_type": "stream",
     "text": [
      "False\n",
      "True\n",
      "True\n",
      "False\n",
      "True\n"
     ]
    }
   ],
   "source": [
    "a=10\n",
    "b=22\n",
    "c=99\n",
    "d=28\n",
    "e=65\n",
    "\n",
    "print(a>b)\n",
    "print(c>b)\n",
    "print(e>d)\n",
    "print(b>c)\n",
    "print(d>a)\n"
   ]
  },
  {
   "cell_type": "markdown",
   "id": "74d37372-6299-4a0d-988d-33e0dd150912",
   "metadata": {},
   "source": [
    "#### Less than Operator:"
   ]
  },
  {
   "cell_type": "code",
   "execution_count": 12,
   "id": "8ae55a2c-5799-45f9-b39f-8ba10177d6e0",
   "metadata": {},
   "outputs": [
    {
     "name": "stdout",
     "output_type": "stream",
     "text": [
      "True\n",
      "False\n",
      "False\n",
      "True\n",
      "False\n"
     ]
    }
   ],
   "source": [
    "a=10\n",
    "b=22\n",
    "c=99\n",
    "d=28\n",
    "e=65\n",
    "\n",
    "print(a<b)\n",
    "print(c<d)\n",
    "print(e<d)\n",
    "print(b<c)\n",
    "print(d<a)\n"
   ]
  },
  {
   "cell_type": "markdown",
   "id": "1ef4fa02-5b87-41c4-8da3-2ac59a65b214",
   "metadata": {},
   "source": [
    "#### Greater than or equal to Operator:"
   ]
  },
  {
   "cell_type": "code",
   "execution_count": 15,
   "id": "0dfe7ba9-5b65-4e50-9ba4-a6f0e7b60ad9",
   "metadata": {},
   "outputs": [
    {
     "name": "stdout",
     "output_type": "stream",
     "text": [
      "False\n",
      "True\n",
      "False\n",
      "True\n",
      "True\n"
     ]
    }
   ],
   "source": [
    "a=10\n",
    "b=22\n",
    "c=99\n",
    "d=28\n",
    "e=65\n",
    "\n",
    "print(a>=b)\n",
    "print(c>=d)\n",
    "print(e>=c)\n",
    "print(b>=a)\n",
    "print(d>=b)\n"
   ]
  },
  {
   "cell_type": "markdown",
   "id": "49a19e90-1dd3-4fef-a9e0-a5877b0e117d",
   "metadata": {},
   "source": [
    "#### Less than or equal to Operator:"
   ]
  },
  {
   "cell_type": "code",
   "execution_count": 20,
   "id": "316b8081-f336-4f70-a9c5-fe06a382efdf",
   "metadata": {},
   "outputs": [
    {
     "name": "stdout",
     "output_type": "stream",
     "text": [
      "True\n",
      "False\n",
      "True\n",
      "False\n",
      "False\n"
     ]
    }
   ],
   "source": [
    "a=10\n",
    "b=22\n",
    "c=99\n",
    "d=28\n",
    "e=65\n",
    "\n",
    "print(a<=b)\n",
    "print(c<=d)\n",
    "print(e<=c)\n",
    "print(b<=a)\n",
    "print(d<=b)\n"
   ]
  },
  {
   "cell_type": "markdown",
   "id": "d740b5e7-204e-4c40-98ae-19f08e5d9d0f",
   "metadata": {},
   "source": [
    "### 4.Logical Operator:"
   ]
  },
  {
   "cell_type": "markdown",
   "id": "dcaf06ad-db3a-4e01-8b51-394b39c70f86",
   "metadata": {},
   "source": [
    "                    Logical operators are used to check whether an expression is True or False."
   ]
  },
  {
   "cell_type": "markdown",
   "id": "333ce9d4-914a-4ab5-ae8d-cb144b9822ed",
   "metadata": {},
   "source": [
    "#### And Operator:\n",
    "                  Returns true if both the ends are true."
   ]
  },
  {
   "cell_type": "code",
   "execution_count": 31,
   "id": "4b34d795-c87f-4ee7-a7db-9a28af134dfb",
   "metadata": {},
   "outputs": [
    {
     "name": "stdout",
     "output_type": "stream",
     "text": [
      "True\n",
      "False\n",
      "False\n",
      "True\n",
      "True\n"
     ]
    }
   ],
   "source": [
    "print(5>3 and 15>5)\n",
    "print(5>3 and 5>51)\n",
    "print(5==3 and 15!=5)\n",
    "print(10==10 and 15>5)\n",
    "print(50>35 and 15<95)\n"
   ]
  },
  {
   "cell_type": "markdown",
   "id": "e1c76901-b212-4d8d-8a7c-85941ed6c92b",
   "metadata": {},
   "source": [
    "#### Or Operator:\n",
    "                    Returns true if either of the operands is true."
   ]
  },
  {
   "cell_type": "code",
   "execution_count": 36,
   "id": "42ee49c5-d51a-4dae-ae0a-3899494f83c2",
   "metadata": {},
   "outputs": [
    {
     "name": "stdout",
     "output_type": "stream",
     "text": [
      "True\n",
      "False\n",
      "True\n",
      "True\n",
      "False\n"
     ]
    }
   ],
   "source": [
    "print(5>3 or 15>5)\n",
    "print(5==3 or 5>51)\n",
    "print(5==3 or 15!=5)\n",
    "print(10==10 or 15>5)\n",
    "print(50<35 or 15>95)\n"
   ]
  },
  {
   "cell_type": "markdown",
   "id": "8d242e0b-9526-4e57-9afc-b12142fd5493",
   "metadata": {},
   "source": [
    "#### not Operator:\n",
    "                    Returns true if the operand is false."
   ]
  },
  {
   "cell_type": "code",
   "execution_count": 53,
   "id": "5cab9b62-1eb8-4b01-8ab5-edeee301168b",
   "metadata": {},
   "outputs": [
    {
     "name": "stdout",
     "output_type": "stream",
     "text": [
      "False\n",
      "True\n",
      "True\n",
      "False\n",
      "True\n",
      "False\n"
     ]
    }
   ],
   "source": [
    "print(not(5>3 and 15>5))\n",
    "print(not(5==3 or 5>51))\n",
    "print(not(5==3 and 15!=5))\n",
    "print(not(10==10 or 15>5))\n",
    "print(not(50<35 and 15>95))\n",
    "print(not(5+3==8))"
   ]
  },
  {
   "cell_type": "markdown",
   "id": "cc0a2d09-b298-45ad-bb6e-074d6196bc15",
   "metadata": {},
   "source": [
    "### 5.Identity Operators:"
   ]
  },
  {
   "cell_type": "markdown",
   "id": "e66b8f8d-fa50-4603-b6c4-9b778bfe5e99",
   "metadata": {},
   "source": [
    "                        Identify whether the value is present or not.s"
   ]
  },
  {
   "cell_type": "markdown",
   "id": "052d6b54-d597-47d8-badb-7c4a545fb2a1",
   "metadata": {},
   "source": [
    "#### Is Operator:\n",
    "                    Returns true if the operands are identical."
   ]
  },
  {
   "cell_type": "code",
   "execution_count": 71,
   "id": "969e642b-61b7-491f-bd75-4160200413f3",
   "metadata": {},
   "outputs": [
    {
     "name": "stdout",
     "output_type": "stream",
     "text": [
      "True\n",
      "False\n",
      "False\n",
      "False\n",
      "True\n"
     ]
    }
   ],
   "source": [
    "a= 5\n",
    "b= 5\n",
    "c= \"NAME\"\n",
    "d= \"name\"\n",
    "e= 12.5\n",
    "f= \"name\"\n",
    "g= 12.5\n",
    "\n",
    "print(a is b)\n",
    "print(c is a)\n",
    "print(c is d)\n",
    "print(d is e)\n",
    "print(d is f)"
   ]
  },
  {
   "cell_type": "markdown",
   "id": "12305fd3-6349-4764-89fa-04d701e7a11b",
   "metadata": {},
   "source": [
    "#### Is not Operator:\n",
    "                        True if the operands are not identical."
   ]
  },
  {
   "cell_type": "code",
   "execution_count": 78,
   "id": "acd8a2b6-9d4e-405a-a4c9-43c27bcdf3bf",
   "metadata": {},
   "outputs": [
    {
     "name": "stdout",
     "output_type": "stream",
     "text": [
      "False\n",
      "True\n",
      "True\n",
      "True\n",
      "False\n"
     ]
    }
   ],
   "source": [
    "a= 5\n",
    "b= 5\n",
    "c= \"NAME\"\n",
    "d= \"name\"\n",
    "e= 12.5\n",
    "f= \"name\"\n",
    "g= 12.5\n",
    "\n",
    "print(a is not b)\n",
    "print(c is not a)\n",
    "print(c is not d)\n",
    "print(d is not e)\n",
    "print(d is not f)"
   ]
  },
  {
   "cell_type": "markdown",
   "id": "e9542a12-11c3-4f45-9783-fcab75e4e7a9",
   "metadata": {},
   "source": [
    "### 6.Membership Operator:"
   ]
  },
  {
   "cell_type": "markdown",
   "id": "0a1c43cc-6fa4-4914-9ebf-ff02a1a25d7b",
   "metadata": {},
   "source": [
    "                            They are used to test whether a value or variable is found in a sequence or not.#"
   ]
  },
  {
   "cell_type": "markdown",
   "id": "cbc55c9b-a55e-4f0d-bb28-437ab614ab88",
   "metadata": {},
   "source": [
    "#### In Operator:\n",
    "                True if value or variable is found in sequence."
   ]
  },
  {
   "cell_type": "code",
   "execution_count": 95,
   "id": "5c87d8c3-f017-4dbe-bcb9-0ac06d67e4d1",
   "metadata": {},
   "outputs": [
    {
     "name": "stdout",
     "output_type": "stream",
     "text": [
      "True\n",
      "True\n",
      "False\n",
      "False\n",
      "True\n"
     ]
    }
   ],
   "source": [
    "a= \"hellow world\"\n",
    "b=[1,2,3,4,5,6,7,8,9]\n",
    "\n",
    "print(\"h\" in a)\n",
    "print( 5 in b)\n",
    "print(\"w\" in b)\n",
    "print(\"3\" in a)\n",
    "print(\"r\" in a)"
   ]
  },
  {
   "cell_type": "markdown",
   "id": "8d1d9187-6ede-41b9-902f-fd6fc979316d",
   "metadata": {},
   "source": [
    "#### not in Operator:\n",
    "                    True if value or variable is not found in the sequence"
   ]
  },
  {
   "cell_type": "code",
   "execution_count": 100,
   "id": "85cf2c51-1499-4d29-bafd-b4e00faede48",
   "metadata": {},
   "outputs": [
    {
     "name": "stdout",
     "output_type": "stream",
     "text": [
      "False\n",
      "False\n",
      "True\n",
      "True\n",
      "False\n"
     ]
    }
   ],
   "source": [
    "a= \"hellow world\"\n",
    "b=[1,2,3,4,5,6,7,8,9]\n",
    "\n",
    "print(\"h\" not in a)\n",
    "print( 5 not in b)\n",
    "print(\"w\" not in b)\n",
    "print(\"3\" not in a)\n",
    "print(\"r\" not in a)"
   ]
  },
  {
   "cell_type": "markdown",
   "id": "3d083013-0191-4d11-a27d-980bb65a7ee4",
   "metadata": {},
   "source": [
    "## Precedence Operator:"
   ]
  },
  {
   "cell_type": "markdown",
   "id": "ea5b062d-4778-4a33-a544-2fd951dc01ed",
   "metadata": {},
   "source": [
    "                                operator precedence describes the order in whichoperations are performed."
   ]
  },
  {
   "cell_type": "markdown",
   "id": "c47c4c1f-c0e6-4187-a528-8351eb4cf9b7",
   "metadata": {},
   "source": [
    "### operator Description"
   ]
  },
  {
   "cell_type": "markdown",
   "id": "ff9db4de-043c-4b6e-a334-df2fa75663e7",
   "metadata": {},
   "source": [
    "()                                                        parenthesis"
   ]
  },
  {
   "cell_type": "markdown",
   "id": "ab41d87f-fdd8-4435-bd72-64fbdfeca6b5",
   "metadata": {},
   "source": [
    "**                                                        exponentiation"
   ]
  },
  {
   "cell_type": "markdown",
   "id": "55932090-7e1f-409f-b316-d4b715b3eefd",
   "metadata": {},
   "source": [
    "+X -x ~x                                                  unary plus,unaru minus,bitwise not"
   ]
  },
  {
   "cell_type": "markdown",
   "id": "86745db9-5a4f-400d-a3e5-8454d598bb4d",
   "metadata": {},
   "source": [
    "* / // %                                                  multiplication, division,float division and modulus"
   ]
  },
  {
   "cell_type": "markdown",
   "id": "d766bb8c-6a19-4ace-a48b-b9c2e7b8a146",
   "metadata": {},
   "source": [
    "+ -   Addition, subtraction"
   ]
  },
  {
   "cell_type": "markdown",
   "id": "60fbb211-c2c1-4547-a313-a2afd15a51a7",
   "metadata": {},
   "source": [
    "<< >>                                                     bitwise left and right shifts"
   ]
  },
  {
   "cell_type": "markdown",
   "id": "7f1ee6f8-8f43-47f2-a273-29ee9861f31c",
   "metadata": {},
   "source": [
    "&                                                         bitwise AND"
   ]
  },
  {
   "cell_type": "markdown",
   "id": "db6289c0-1932-48f2-a029-eab6ab00b262",
   "metadata": {},
   "source": [
    "^                                                         bitwise xor"
   ]
  },
  {
   "cell_type": "markdown",
   "id": "97d9f35a-e045-4be3-895e-2aaa7be19732",
   "metadata": {},
   "source": [
    "|                                                         bitwise or"
   ]
  },
  {
   "cell_type": "markdown",
   "id": "3a4aaec1-1858-424f-8ab0-02341c461b0d",
   "metadata": {},
   "source": [
    "== != > >= < <= is is not in in not                       comparision ,identity and membership operator"
   ]
  },
  {
   "cell_type": "markdown",
   "id": "55b85238-c38d-442f-80c7-c33ef5e7103d",
   "metadata": {},
   "source": [
    "not                                                       logical NOT"
   ]
  },
  {
   "cell_type": "markdown",
   "id": "bfccbefb-679b-44d4-91a3-5c3a74d76a58",
   "metadata": {},
   "source": [
    "and                                                      logical AND"
   ]
  },
  {
   "cell_type": "markdown",
   "id": "6f6f1f0d-7af5-435f-9fcb-bb30e596dc44",
   "metadata": {},
   "source": [
    "or                                                       logical OR"
   ]
  },
  {
   "cell_type": "code",
   "execution_count": 28,
   "id": "deda2adc-3572-4bc8-8e8e-0b95eaf38e21",
   "metadata": {},
   "outputs": [
    {
     "data": {
      "text/plain": [
       "106277.003776"
      ]
     },
     "execution_count": 28,
     "metadata": {},
     "output_type": "execute_result"
    }
   ],
   "source": [
    "2+5*39*(545)+59/25**3"
   ]
  },
  {
   "cell_type": "code",
   "execution_count": null,
   "id": "050e1ed6-ce7a-4596-92a5-b72e960c3bc2",
   "metadata": {},
   "outputs": [],
   "source": []
  }
 ],
 "metadata": {
  "kernelspec": {
   "display_name": "Python 3 (ipykernel)",
   "language": "python",
   "name": "python3"
  },
  "language_info": {
   "codemirror_mode": {
    "name": "ipython",
    "version": 3
   },
   "file_extension": ".py",
   "mimetype": "text/x-python",
   "name": "python",
   "nbconvert_exporter": "python",
   "pygments_lexer": "ipython3",
   "version": "3.12.4"
  }
 },
 "nbformat": 4,
 "nbformat_minor": 5
}
