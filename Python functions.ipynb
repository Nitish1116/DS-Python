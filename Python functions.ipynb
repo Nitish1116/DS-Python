{
 "cells": [
  {
   "cell_type": "markdown",
   "id": "cc1f13fd-9ea3-4e2b-9a82-3162735b4bdc",
   "metadata": {},
   "source": [
    "# Python functions"
   ]
  },
  {
   "cell_type": "markdown",
   "id": "5712e773-6e16-444d-81d4-37998218033d",
   "metadata": {},
   "source": [
    "- A function is a block of code that performs a specific task."
   ]
  },
  {
   "cell_type": "markdown",
   "id": "c4556274-1d08-451a-b56e-136b1fb5de67",
   "metadata": {},
   "source": [
    "- you can pass data, known as parameters, into a function."
   ]
  },
  {
   "cell_type": "markdown",
   "id": "28978d13-d5f8-45cd-a3b9-32d9a5ef2152",
   "metadata": {},
   "source": [
    "- A function can return data as a result."
   ]
  },
  {
   "cell_type": "markdown",
   "id": "c4e32be8-e65f-4bf1-bf0b-7825d01ba230",
   "metadata": {},
   "source": [
    "## Types of function"
   ]
  },
  {
   "cell_type": "markdown",
   "id": "f60244a9-71c1-4c69-a34a-d8faacac8b8f",
   "metadata": {},
   "source": [
    "- 1.Standard library functions:\n",
    "                   These are built in functions in python that are available to use ."
   ]
  },
  {
   "cell_type": "markdown",
   "id": "33bccff4-fa7d-4cda-b76b-84f00f1c4e99",
   "metadata": {},
   "source": [
    "- 2.user-defined functions:we can create our own functions based on our requirements."
   ]
  },
  {
   "cell_type": "markdown",
   "id": "6c7f9896-718b-46ed-8591-74f882b2d11d",
   "metadata": {},
   "source": [
    "The syntax to declare a function is:"
   ]
  },
  {
   "cell_type": "code",
   "execution_count": 23,
   "id": "b069b980-975b-42a3-b590-c7308592e597",
   "metadata": {},
   "outputs": [],
   "source": [
    "def function_name(arguments):\n",
    "    # funcion body\n",
    "    return"
   ]
  },
  {
   "cell_type": "markdown",
   "id": "06007051-f510-420d-b750-a03f2c6ee9b8",
   "metadata": {},
   "source": [
    "Here,"
   ]
  },
  {
   "cell_type": "markdown",
   "id": "53f1c02e-9547-49c0-96bd-2b526b6a5b75",
   "metadata": {},
   "source": [
    "def - keyword used to declare a function."
   ]
  },
  {
   "cell_type": "markdown",
   "id": "60708601-d7b2-43e2-9c34-c5b84b074cf7",
   "metadata": {},
   "source": [
    "function_name - any name given to the function."
   ]
  },
  {
   "cell_type": "markdown",
   "id": "075bc3e2-0479-4264-bbc0-a5a9205a8a1f",
   "metadata": {},
   "source": [
    "arguments - any value passed to function."
   ]
  },
  {
   "cell_type": "markdown",
   "id": "c2233e7a-ebb9-4e79-a0e5-713ca21cc0c5",
   "metadata": {},
   "source": [
    "return(optional) - returns value from a function."
   ]
  },
  {
   "cell_type": "code",
   "execution_count": 30,
   "id": "9181a7c5-7e63-4561-85c0-f2610d200f43",
   "metadata": {},
   "outputs": [],
   "source": [
    "# Simple function\n",
    "def greet():\n",
    "    print('hello world')"
   ]
  },
  {
   "cell_type": "markdown",
   "id": "77942715-9389-4dff-8c52-6d35c11675f2",
   "metadata": {},
   "source": [
    "calling a funtion in python"
   ]
  },
  {
   "cell_type": "markdown",
   "id": "5b25719c-a103-42d2-9699-68ba8e21fe22",
   "metadata": {},
   "source": [
    "Now,to use this function,we need to call it."
   ]
  },
  {
   "cell_type": "markdown",
   "id": "4e681412-b47d-463b-aca8-c0ea5e128c74",
   "metadata": {},
   "source": [
    "Here's how we can call the greet() function in python."
   ]
  },
  {
   "cell_type": "code",
   "execution_count": 39,
   "id": "e400af46-a5a7-4d9f-b848-3882d69c7365",
   "metadata": {},
   "outputs": [
    {
     "name": "stdout",
     "output_type": "stream",
     "text": [
      "My name is Nitish.\n"
     ]
    }
   ],
   "source": [
    "def greet(name):\n",
    "    print(f'My name is {name}.')\n",
    "greet('Nitish')"
   ]
  },
  {
   "cell_type": "code",
   "execution_count": 65,
   "id": "d4e9031e-a838-43eb-bae2-216dc0b41d4d",
   "metadata": {},
   "outputs": [
    {
     "name": "stdout",
     "output_type": "stream",
     "text": [
      "I am Nitish, my age is 22 and my qualification is B.Tech.\n"
     ]
    }
   ],
   "source": [
    "def myself(name,age,qualification):\n",
    "    print(f'I am {name}, my age is {age} and my qualification is {qualification}.')\n",
    "myself('Nitish',22,'B.Tech')"
   ]
  },
  {
   "cell_type": "markdown",
   "id": "b83026bb-6de1-432d-94b9-434de93bc7ad",
   "metadata": {},
   "source": [
    "## Python function arguments"
   ]
  },
  {
   "cell_type": "markdown",
   "id": "99ccb020-034b-42ef-820e-cab8a5ca839b",
   "metadata": {},
   "source": [
    "A function can also have arguments. An argument is a value that is accepted by a function."
   ]
  },
  {
   "cell_type": "markdown",
   "id": "0a04894f-235a-45d9-8ed4-99b817af1ee0",
   "metadata": {},
   "source": [
    "Information can be passed into functions as arguments."
   ]
  },
  {
   "cell_type": "markdown",
   "id": "515cc6b6-351f-47a1-8d63-3b9320fd573b",
   "metadata": {},
   "source": [
    "Arguments are specified after the function name, inside the parentheses. You can add as many arguments as you want, just separate them with a comma."
   ]
  },
  {
   "cell_type": "markdown",
   "id": "d390ae35-cd4a-4edd-af18-4cc3749d2bf8",
   "metadata": {},
   "source": [
    "In Python, arguments are values that are passed to functions when they are called. They provide the necessary data for the function to perform its task."
   ]
  },
  {
   "cell_type": "code",
   "execution_count": 4,
   "id": "3003e353-f268-4fe5-b1ec-bc535357fa75",
   "metadata": {},
   "outputs": [
    {
     "name": "stdout",
     "output_type": "stream",
     "text": [
      "sum: 70\n",
      "sum: 98.0\n",
      "sum: 150.5\n",
      "sum: [75, 65, 75.5, 80]\n",
      "sum: Nitishkumar\n"
     ]
    }
   ],
   "source": [
    "# function with two arguments\n",
    "\n",
    "def add_numbers(num1,num2):\n",
    "    sum=num1+num2\n",
    "    print('sum:',sum)\n",
    "\n",
    "add_numbers(25,45)\n",
    "add_numbers(55/5,87)\n",
    "add_numbers(75,75.5)\n",
    "add_numbers([75,65],[75.5,80])\n",
    "add_numbers('Nitish','kumar')\n"
   ]
  },
  {
   "cell_type": "code",
   "execution_count": 78,
   "id": "cc88e75f-1017-4006-892a-f70ec084bf6d",
   "metadata": {},
   "outputs": [
    {
     "name": "stdout",
     "output_type": "stream",
     "text": [
      "apple\n",
      "banana\n",
      "cherry\n"
     ]
    }
   ],
   "source": [
    "#Passing a List as an Argument\n",
    "def my_function(food):\n",
    "  for x in food:\n",
    "    print(x)\n",
    "\n",
    "fruits = [\"apple\", \"banana\", \"cherry\"]\n",
    "\n",
    "my_function(fruits)"
   ]
  },
  {
   "cell_type": "markdown",
   "id": "35eced88-700d-4d3f-8ce0-c5ae52480772",
   "metadata": {},
   "source": [
    "## Types of Arguments:"
   ]
  },
  {
   "cell_type": "markdown",
   "id": "c857aa3e-6513-4d9c-8dd7-82a7ee665f64",
   "metadata": {},
   "source": [
    "#### 1. Positional Arguments:"
   ]
  },
  {
   "cell_type": "markdown",
   "id": "8361c65f-5aa5-4a5e-81dc-151975d63f2d",
   "metadata": {},
   "source": [
    "These arguments are passed in a specific order, matching the order of parameters defined in the function's signature."
   ]
  },
  {
   "cell_type": "markdown",
   "id": "5c24fe19-9e29-4d70-912c-9f175218cf40",
   "metadata": {},
   "source": [
    "The number of positional arguments must match the number of parameters unless default values are provided."
   ]
  },
  {
   "cell_type": "code",
   "execution_count": 14,
   "id": "4919b064-c63e-4020-9f03-3e8c7dc324f9",
   "metadata": {},
   "outputs": [
    {
     "name": "stdout",
     "output_type": "stream",
     "text": [
      "Hello,Nitish! You are 22 years old.\n"
     ]
    }
   ],
   "source": [
    "def greet(name, age):\n",
    "    print(f\"Hello,{name}! You are {age} years old.\")\n",
    "\n",
    "greet(\"Nitish\", 22)"
   ]
  },
  {
   "cell_type": "markdown",
   "id": "3aee0c0f-8810-4896-a8c6-f74f4cceba78",
   "metadata": {},
   "source": [
    "#### 2. Keyword Arguments:"
   ]
  },
  {
   "cell_type": "markdown",
   "id": "df108d03-b94e-4406-bbdc-f3264d705732",
   "metadata": {},
   "source": [
    "These arguments are passed using keyword-value pairs, where the keyword specifies the parameter name and the value is the argument to be passed.\n"
   ]
  },
  {
   "cell_type": "markdown",
   "id": "c2d2f0b9-42e0-409a-8bb3-4e40b3914581",
   "metadata": {},
   "source": [
    "The order of keyword arguments doesn't matter."
   ]
  },
  {
   "cell_type": "code",
   "execution_count": 19,
   "id": "3857950e-2c0a-47fd-b43e-63ca4e1dedd1",
   "metadata": {},
   "outputs": [
    {
     "name": "stdout",
     "output_type": "stream",
     "text": [
      "Hello,Nitish! You are 22 years old.\n"
     ]
    }
   ],
   "source": [
    "def greet(name, age):\n",
    "    print(f\"Hello,{name}! You are {age} years old.\")\n",
    "\n",
    "greet(age=22,name=\"Nitish\")"
   ]
  },
  {
   "cell_type": "code",
   "execution_count": 35,
   "id": "60b2fb2f-2e22-4dd1-bead-24ca3bde9411",
   "metadata": {},
   "outputs": [
    {
     "name": "stdout",
     "output_type": "stream",
     "text": [
      "The youngest child is Emil\n"
     ]
    }
   ],
   "source": [
    "def my_function(child1, child2, child3):\n",
    "  print(\"The youngest child is \" + child1)\n",
    "\n",
    "my_function( \"Emil\", \"Tobias\",\"Linus\")"
   ]
  },
  {
   "cell_type": "markdown",
   "id": "c6cda390-1ea4-43c8-bbdd-c4463375187d",
   "metadata": {},
   "source": [
    "#### 3.Default Arguments:"
   ]
  },
  {
   "cell_type": "markdown",
   "id": "796e43f0-265a-4470-9294-e87b4c81a36c",
   "metadata": {},
   "source": [
    "You can assign default values to function parameters. If a value isn't provided for a parameter with a default value, the default value is used."
   ]
  },
  {
   "cell_type": "code",
   "execution_count": 23,
   "id": "35d1b382-c691-47bb-9468-62898a5a249b",
   "metadata": {},
   "outputs": [
    {
     "name": "stdout",
     "output_type": "stream",
     "text": [
      "Hello,Nitish! You are 22 years old.\n"
     ]
    }
   ],
   "source": [
    "def greet(name, age=22):\n",
    "    print(f\"Hello,{name}! You are {age} years old.\")\n",
    "\n",
    "greet(\"Nitish\")"
   ]
  },
  {
   "cell_type": "markdown",
   "id": "1c735d37-4de8-4ee9-86a1-11482bcbef22",
   "metadata": {},
   "source": [
    "#### 4.Arbitrary Arguments, *args"
   ]
  },
  {
   "cell_type": "markdown",
   "id": "0ce8aaa5-4198-422b-8162-dc9789fffb93",
   "metadata": {},
   "source": [
    "If you do not know how many arguments that will be passed into your function, add a * before the parameter name in the function definition."
   ]
  },
  {
   "cell_type": "markdown",
   "id": "a4d61136-4885-4fb6-b190-a6aae2cf02aa",
   "metadata": {},
   "source": [
    "This way the function will receive a tuple of arguments, and can access the items accordingly."
   ]
  },
  {
   "cell_type": "code",
   "execution_count": 32,
   "id": "7b95d6f4-ae08-4b7c-b69c-ab79c28a6be1",
   "metadata": {},
   "outputs": [
    {
     "name": "stdout",
     "output_type": "stream",
     "text": [
      "The youngest student is sandeep\n"
     ]
    }
   ],
   "source": [
    "#If the number of arguments is unknown, add a * before the parameter name:\n",
    "\n",
    "def my_function(*students):\n",
    "  print(\"The youngest student is \" + students[1]) #0=nitish,1=sandeep,2=vamsi\n",
    "\n",
    "my_function(\"nitish\", \"sandeep\", \"vamsi\")"
   ]
  },
  {
   "cell_type": "markdown",
   "id": "1feb576b-a709-4d97-97f4-1bb37c8822dd",
   "metadata": {},
   "source": [
    "#### 5.Arbitrary Keyword Arguments, **kwargs"
   ]
  },
  {
   "cell_type": "markdown",
   "id": "78eeaf8e-97b4-488a-98e9-2c8d5caec9a7",
   "metadata": {},
   "source": [
    "If you do not know how many keyword arguments that will be passed into your function, add two asterisk: ** before the parameter name in the function definition."
   ]
  },
  {
   "cell_type": "markdown",
   "id": "570e77b1-bef6-4fd9-b894-4c88b860183e",
   "metadata": {},
   "source": [
    "This way the function will receive a dictionary of arguments, and can access the items accordingly."
   ]
  },
  {
   "cell_type": "code",
   "execution_count": 44,
   "id": "a80254b5-8ca1-4ef4-bf65-b5cfc78b4ffe",
   "metadata": {},
   "outputs": [
    {
     "name": "stdout",
     "output_type": "stream",
     "text": [
      "His last name is kumar\n"
     ]
    }
   ],
   "source": [
    "#If the number of keyword arguments is unknown, add a double ** before the parameter name:\n",
    "def my_function(**kid):\n",
    "  print(\"His last name is \" + kid[\"lname\"])\n",
    "\n",
    "my_function(fname = \"Nitish\", lname = \"kumar\")"
   ]
  },
  {
   "cell_type": "markdown",
   "id": "8453a578-3510-49ba-88b7-ef59417f082b",
   "metadata": {},
   "source": [
    "### The return statement in python"
   ]
  },
  {
   "cell_type": "markdown",
   "id": "f8de1aa8-cfaa-46bb-9f92-aeed46850b26",
   "metadata": {},
   "source": [
    "A python function may or maynot return a value.if we want our function to return some value to a function call, we use the return statement. "
   ]
  },
  {
   "cell_type": "code",
   "execution_count": 100,
   "id": "3f93fe35-1ec5-4806-b341-de2c14102c91",
   "metadata": {},
   "outputs": [
    {
     "name": "stdout",
     "output_type": "stream",
     "text": [
      "49\n"
     ]
    },
    {
     "data": {
      "text/plain": [
       "49"
      ]
     },
     "execution_count": 100,
     "metadata": {},
     "output_type": "execute_result"
    }
   ],
   "source": [
    "def square(num):\n",
    "    result=num*num\n",
    "    print(result)\n",
    "    # or\n",
    "    return result\n",
    "square(7)"
   ]
  },
  {
   "cell_type": "markdown",
   "id": "eb5b69e0-94c5-45ed-914a-af2639ecd9bf",
   "metadata": {},
   "source": [
    "## Python Library Functions"
   ]
  },
  {
   "cell_type": "markdown",
   "id": "70762bc4-b01a-4ffd-bfa8-c64ee3ce8970",
   "metadata": {},
   "source": [
    "In Python, standard library functions are the built-in functions that can be used directly in our program. For example,"
   ]
  },
  {
   "cell_type": "markdown",
   "id": "bd5e9268-fc79-42a3-8d00-fa2c0ba81098",
   "metadata": {},
   "source": [
    "print() - prints the string inside the quotation marks"
   ]
  },
  {
   "cell_type": "markdown",
   "id": "35589b4d-255c-4845-84ae-3144beec17fd",
   "metadata": {},
   "source": [
    "sqrt() - returns the square root of a number"
   ]
  },
  {
   "cell_type": "markdown",
   "id": "f8934844-6b3b-475e-aab2-bf633ec5b7db",
   "metadata": {},
   "source": [
    "pow() - returns the power of a number"
   ]
  },
  {
   "cell_type": "markdown",
   "id": "e6304fbb-8bb3-422c-8c53-2e9a33d4f7f3",
   "metadata": {},
   "source": [
    "randint(): Generates a random integer within a specified range."
   ]
  },
  {
   "cell_type": "markdown",
   "id": "fabeccf4-482c-43b6-965e-679dacf8cce2",
   "metadata": {},
   "source": [
    "datetime.now(): Returns the current date and time."
   ]
  },
  {
   "cell_type": "markdown",
   "id": "f234ce5c-2cbb-45b4-9427-7fbaf57db6c5",
   "metadata": {},
   "source": [
    "These library functions are defined inside the module. And, to use them we must include the module inside our program."
   ]
  },
  {
   "cell_type": "markdown",
   "id": "9f2c2ab3-f47b-483f-8b94-a6d6e0942c49",
   "metadata": {},
   "source": [
    "For example, sqrt() is defined inside the math module."
   ]
  },
  {
   "cell_type": "code",
   "execution_count": 50,
   "id": "1c075c63-781d-4762-b5ff-c46643319c45",
   "metadata": {},
   "outputs": [
    {
     "name": "stdout",
     "output_type": "stream",
     "text": [
      "Square Root of 4 is 2.0\n",
      "2 to the power 3 is 8\n",
      "78\n",
      "2024-08-29 22:21:06.076504\n"
     ]
    }
   ],
   "source": [
    "import math\n",
    "\n",
    "# sqrt computes the square root\n",
    "square_root = math.sqrt(4)\n",
    "print(\"Square Root of 4 is\",square_root)\n",
    "\n",
    "# pow() computes the power\n",
    "power = pow(2, 3)\n",
    "print(\"2 to the power 3 is\",power)\n",
    "\n",
    "import random\n",
    "\n",
    "print(random.randint(20,100))\n",
    "\n",
    "import datetime\n",
    "\n",
    "print(datetime.datetime.now())\n",
    "\n"
   ]
  },
  {
   "cell_type": "markdown",
   "id": "6fefce4d-5de6-4b88-b643-de3f6d5970c9",
   "metadata": {},
   "source": [
    "### Python Lambda"
   ]
  },
  {
   "cell_type": "markdown",
   "id": "f0c3883e-60c9-4d58-9944-153408578055",
   "metadata": {},
   "source": [
    "A lambda function is a small anonymous function."
   ]
  },
  {
   "cell_type": "markdown",
   "id": "fb096d54-25b0-408f-9ead-bbaed7e00625",
   "metadata": {},
   "source": [
    "A lambda function can take any number of arguments, but can only have one expression."
   ]
  },
  {
   "cell_type": "markdown",
   "id": "096bbce5-c3b4-480a-ba69-1bd7281edd77",
   "metadata": {},
   "source": [
    "Syntax"
   ]
  },
  {
   "cell_type": "markdown",
   "id": "8d1f2e21-35af-4ca7-8f38-7758dca1731b",
   "metadata": {},
   "source": [
    "lambda arguments : expression"
   ]
  },
  {
   "cell_type": "code",
   "execution_count": 118,
   "id": "d2f5a9a6-c14d-455b-9039-3351e29f0533",
   "metadata": {},
   "outputs": [
    {
     "name": "stdout",
     "output_type": "stream",
     "text": [
      "155\n"
     ]
    }
   ],
   "source": [
    "x = lambda a : a + 100\n",
    "print(x(55)) # print(x(a))"
   ]
  },
  {
   "cell_type": "code",
   "execution_count": 120,
   "id": "7cfc112f-fb5e-41dd-84ac-66b4ddf1c948",
   "metadata": {},
   "outputs": [
    {
     "name": "stdout",
     "output_type": "stream",
     "text": [
      "88\n"
     ]
    }
   ],
   "source": [
    "# A lambda function that adds two numbers\n",
    "add = lambda x, y: x + y\n",
    "result = add(3, 85)\n",
    "print(result)  # Output: 8"
   ]
  },
  {
   "cell_type": "code",
   "execution_count": 122,
   "id": "44cd3dfe-76ef-401d-a378-491b278a7846",
   "metadata": {},
   "outputs": [
    {
     "name": "stdout",
     "output_type": "stream",
     "text": [
      "55\n"
     ]
    }
   ],
   "source": [
    "def myfunc(n):\n",
    "    return lambda a : a * n\n",
    "\n",
    "mult = myfunc(5)\n",
    "\n",
    "print(mult(11)) #a = 11"
   ]
  },
  {
   "cell_type": "code",
   "execution_count": 54,
   "id": "a8029e5e-89ce-4356-adc6-57f7d296bf31",
   "metadata": {},
   "outputs": [
    {
     "name": "stdout",
     "output_type": "stream",
     "text": [
      "55\n",
      "135\n"
     ]
    }
   ],
   "source": [
    "def myfunc(n):\n",
    "    return lambda a : a * n\n",
    "\n",
    "mult = myfunc(5)\n",
    "mult1 = myfunc(9)\n",
    "\n",
    "print(mult(11))\n",
    "print(mult1(15))"
   ]
  },
  {
   "cell_type": "markdown",
   "id": "8597831b-5768-4020-a8a1-08a6b9cb2477",
   "metadata": {},
   "source": [
    "#### mapfunction map()"
   ]
  },
  {
   "cell_type": "markdown",
   "id": "22a1939e-623f-489c-b580-32196111aa52",
   "metadata": {},
   "source": [
    "The map function applies a function to every item in an iterable (like a list, tuple, or set)."
   ]
  },
  {
   "cell_type": "markdown",
   "id": "60c15d62-91f8-4183-b181-c0a4bb2972e7",
   "metadata": {},
   "source": [
    "It returns a new iterable containing the results."
   ]
  },
  {
   "cell_type": "code",
   "execution_count": 66,
   "id": "12901a04-f323-40d2-a47b-e919b2fadfc7",
   "metadata": {},
   "outputs": [
    {
     "name": "stdout",
     "output_type": "stream",
     "text": [
      "[1, 4, 9, 16, 25]\n",
      "[1, 4, 9, 16, 25]\n"
     ]
    }
   ],
   "source": [
    "numbers = [1, 2, 3, 4, 5]\n",
    "\n",
    "# Using a regular function\n",
    "def square(x):\n",
    "    return x * x\n",
    "\n",
    "squared_numbers = list(map(square, numbers))\n",
    "print(squared_numbers)  # Output: [1, 4, 9, 16, 25]\n",
    "\n",
    "# Using a lambda function   \n",
    "\n",
    "squared_numbers = list(map(lambda x: x * x, numbers))\n",
    "print(squared_numbers)  # Output: [1, 4, 9, 16, 25]"
   ]
  },
  {
   "cell_type": "code",
   "execution_count": 70,
   "id": "974d7da5-f2d3-438f-94ef-4d54b4836bbe",
   "metadata": {},
   "outputs": [
    {
     "name": "stdout",
     "output_type": "stream",
     "text": [
      "['HELLO', 'WORLD', 'PYTHON']\n"
     ]
    }
   ],
   "source": [
    "# Converting strings to uppercase\n",
    "strings = [\"hello\", \"world\", \"python\"]\n",
    "uppercase_strings = list(map(lambda strings: strings.upper(), strings))\n",
    "print(uppercase_strings)"
   ]
  },
  {
   "cell_type": "code",
   "execution_count": 72,
   "id": "e819d908-2205-452b-9f41-2988c15d1a41",
   "metadata": {},
   "outputs": [
    {
     "name": "stdout",
     "output_type": "stream",
     "text": [
      "[5, 8, 6, 12, 15]\n"
     ]
    }
   ],
   "source": [
    "# adding two lists\n",
    "\n",
    "list1=[2,4,1,5,7]\n",
    "list2=[3,4,5,7,8]\n",
    "\n",
    "add_list=list(map(lambda x,y: x+y, list1,list2))\n",
    "print(add_list)"
   ]
  },
  {
   "cell_type": "markdown",
   "id": "32e8622b-1565-4e5e-a7ff-1b0a4c9dc14b",
   "metadata": {},
   "source": [
    "#### filterfunction filter()"
   ]
  },
  {
   "cell_type": "markdown",
   "id": "94f68779-241c-4cf3-8115-ee46a9a12003",
   "metadata": {},
   "source": [
    "The filter function takes two arguments: a function and an iterable (like a list, tuple, or set)."
   ]
  },
  {
   "cell_type": "markdown",
   "id": "f1906687-3487-4915-8ebf-f79473ed5db0",
   "metadata": {},
   "source": [
    "It applies the function to each element of the iterable."
   ]
  },
  {
   "cell_type": "markdown",
   "id": "e88c84e3-013a-434d-9626-70e368ffe657",
   "metadata": {},
   "source": [
    "It returns a new iterable containing only the elements for which the function returned True."
   ]
  },
  {
   "cell_type": "code",
   "execution_count": 74,
   "id": "e989e0ba-d255-429e-a99d-be466b210a16",
   "metadata": {},
   "outputs": [
    {
     "name": "stdout",
     "output_type": "stream",
     "text": [
      "[2, 4, 6, 8, 10]\n",
      "[2, 4, 6, 8, 10]\n"
     ]
    }
   ],
   "source": [
    "numbers = [1,2,3,4,5,6,7,8,9,10]\n",
    "\n",
    "# Using a regular function\n",
    "def is_even(x):\n",
    "    return x % 2 == 0\n",
    "\n",
    "even_numbers = list(filter(is_even, numbers))\n",
    "print(even_numbers) \n",
    "\n",
    "# Using a lambda function\n",
    "even_numbers = list(filter(lambda x: x % 2 == 0, numbers))\n",
    "print(even_numbers)  "
   ]
  },
  {
   "cell_type": "code",
   "execution_count": 83,
   "id": "e7ae664f-c8c0-41e3-999c-94678a8d30a7",
   "metadata": {},
   "outputs": [
    {
     "name": "stdout",
     "output_type": "stream",
     "text": [
      "['apple']\n",
      "[4, 5]\n"
     ]
    }
   ],
   "source": [
    "# Filtering strings that start with \"a\"\n",
    "strings = [\"apple\", \"banana\", \"cherry\", \"date\"]\n",
    "filtered_strings = list(filter(lambda s: s.startswith(\"a\"), strings))\n",
    "print(filtered_strings)\n",
    "\n",
    "# Filtering numbers greater than 3\n",
    "numbers = [1, 2, 3, 4, 5]\n",
    "filtered_numbers = list(filter(lambda x: x > 3, numbers))\n",
    "print(filtered_numbers)"
   ]
  },
  {
   "cell_type": "markdown",
   "id": "86423d52-358c-4e80-a99f-14d2a80b889b",
   "metadata": {},
   "source": [
    "#### sorted Function sorted():"
   ]
  },
  {
   "cell_type": "markdown",
   "id": "41abacc3-cc82-4197-a8ec-428ed8a349b3",
   "metadata": {},
   "source": [
    "The sorted function takes an iterable (like a list, tuple, or set) and returns a new iterable containing the elements in sorted order."
   ]
  },
  {
   "cell_type": "markdown",
   "id": "bbeff4de-91ed-4e6a-a275-cd86698fabb1",
   "metadata": {},
   "source": [
    "By default, it sorts in ascending order based on the elements' natural ordering."
   ]
  },
  {
   "cell_type": "code",
   "execution_count": 89,
   "id": "c824b42d-a5f2-42f7-893a-0b549cc54c88",
   "metadata": {},
   "outputs": [
    {
     "name": "stdout",
     "output_type": "stream",
     "text": [
      "[1, 1, 2, 3, 4, 5, 5, 6, 9]\n",
      "[9, 6, 5, 5, 4, 3, 2, 1, 1]\n",
      "[1, 1, 2, 3, 4, 5, 5, 6, 9]\n",
      "['date', 'apple', 'banana', 'cherry']\n"
     ]
    }
   ],
   "source": [
    "numbers = [3, 1, 4, 1, 5, 9, 2, 6, 5]\n",
    "\n",
    "# Sorting in ascending order (default)\n",
    "sorted_numbers = sorted(numbers)\n",
    "print(sorted_numbers)  # Output: [1, 1, 2, 3, 4, 5, 5, 6, 9]\n",
    "\n",
    "# Sorting in descending order\n",
    "sorted_numbers = sorted(numbers, reverse=True)\n",
    "print(sorted_numbers)  # Output: [9, 6, 5, 5, 4, 3, 2, 1, 1]\n",
    "\n",
    "# Sorting based on the absolute value\n",
    "sorted_numbers = sorted(numbers, key=lambda x: abs(x))\n",
    "print(sorted_numbers)  # Output: [1, 1, 2, 3, 4, 5, 5, 6, 9]\n",
    "\n",
    "# Sorting strings by their length\n",
    "strings = [\"apple\", \"banana\", \"cherry\", \"date\"]\n",
    "sorted_strings = sorted(strings, key=lambda s: len(s))\n",
    "print(sorted_strings)  # Output: ['date', 'apple', 'banana', 'cherry']"
   ]
  },
  {
   "cell_type": "markdown",
   "id": "6159f5ba-a1ab-411f-9243-cbc98a63011e",
   "metadata": {},
   "source": [
    "## Global and Local variable in python"
   ]
  },
  {
   "cell_type": "markdown",
   "id": "41f9dbe0-35b2-45af-af71-05c30a482f0d",
   "metadata": {},
   "source": [
    "Python Global variable are those which are not defined inside my function and have aglobal scope.where,as python local variables are those which are defined inside a function and their scope is limted to that function only."
   ]
  },
  {
   "cell_type": "markdown",
   "id": "71c7cfb2-bb82-4453-bfde-eec36d70e142",
   "metadata": {},
   "source": [
    "In other words, we can say that local variables are accessible only inside the function in which it was intialized where,as the global variables are accessible throughout the program and inside every function"
   ]
  },
  {
   "cell_type": "markdown",
   "id": "e15f6f29-57c7-4407-92d5-9c6524d94564",
   "metadata": {},
   "source": [
    "### python local variables"
   ]
  },
  {
   "cell_type": "markdown",
   "id": "d3ff805b-e3b5-4758-833e-c86a1e30e02a",
   "metadata": {},
   "source": [
    "Local variables are variables defined within a specific function or method."
   ]
  },
  {
   "cell_type": "markdown",
   "id": "959720ad-15b1-4198-8c4d-91848ef991a8",
   "metadata": {},
   "source": [
    "They have a limited scope, meaning they are only accessible within the function or method where they are defined."
   ]
  },
  {
   "cell_type": "markdown",
   "id": "95b15802-09fe-478a-983c-26a1d14d41ab",
   "metadata": {},
   "source": [
    "Once the function or method finishes executing, the local variables are destroyed."
   ]
  },
  {
   "cell_type": "code",
   "execution_count": 98,
   "id": "21e82766-99cd-48f7-ae70-1752bc24dd0b",
   "metadata": {},
   "outputs": [
    {
     "name": "stdout",
     "output_type": "stream",
     "text": [
      "I love Python\n"
     ]
    }
   ],
   "source": [
    "def f():\n",
    "    s=\"I love Python\"\n",
    "    print(s)\n",
    "f()    "
   ]
  },
  {
   "cell_type": "code",
   "execution_count": 100,
   "id": "12890240-1fb4-4d8d-aab8-00f86d958610",
   "metadata": {},
   "outputs": [
    {
     "name": "stdout",
     "output_type": "stream",
     "text": [
      "Inside function: I love Python\n"
     ]
    }
   ],
   "source": [
    "def f():\n",
    "    s=\"I love Python\"\n",
    "    print(\"Inside function:\",s)\n",
    "f() "
   ]
  },
  {
   "cell_type": "markdown",
   "id": "80d4f084-8f99-4dea-8845-20426af8362a",
   "metadata": {},
   "source": [
    "### python global variables"
   ]
  },
  {
   "cell_type": "markdown",
   "id": "8109d2bd-9282-4106-bd96-f10e9ce2d126",
   "metadata": {},
   "source": [
    "Global variables are variables defined outside of any function or class. They can be accessed from anywhere within the Python program, including functions and classes."
   ]
  },
  {
   "cell_type": "code",
   "execution_count": 104,
   "id": "01da2ccd-2dd4-4cd3-bae7-4c032060d270",
   "metadata": {},
   "outputs": [
    {
     "name": "stdout",
     "output_type": "stream",
     "text": [
      "Inside function: I love Python\n",
      "Outside function: I love Python\n"
     ]
    }
   ],
   "source": [
    "def f():\n",
    "    print(\"Inside function:\",s)\n",
    "s=\"I love Python\"\n",
    "f()\n",
    "print(\"Outside function:\",s)"
   ]
  },
  {
   "cell_type": "code",
   "execution_count": null,
   "id": "ba114c33-62ed-4f97-861a-6646e3557deb",
   "metadata": {},
   "outputs": [],
   "source": []
  }
 ],
 "metadata": {
  "kernelspec": {
   "display_name": "Python 3 (ipykernel)",
   "language": "python",
   "name": "python3"
  },
  "language_info": {
   "codemirror_mode": {
    "name": "ipython",
    "version": 3
   },
   "file_extension": ".py",
   "mimetype": "text/x-python",
   "name": "python",
   "nbconvert_exporter": "python",
   "pygments_lexer": "ipython3",
   "version": "3.12.4"
  }
 },
 "nbformat": 4,
 "nbformat_minor": 5
}
