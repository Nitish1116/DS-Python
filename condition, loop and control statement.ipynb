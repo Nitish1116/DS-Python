{
 "cells": [
  {
   "cell_type": "markdown",
   "id": "d1e40606-1981-4875-b670-f5bc8c758936",
   "metadata": {},
   "source": [
    "# Condition statement"
   ]
  },
  {
   "cell_type": "markdown",
   "id": "cf7352de-e681-4885-b41e-a5b42cc1f98b",
   "metadata": {},
   "source": [
    "In Python, conditional statements are used to control the flow of a program based on certain conditions."
   ]
  },
  {
   "cell_type": "markdown",
   "id": "f9120428-5a6a-4e31-bea9-385ae24d9104",
   "metadata": {},
   "source": [
    "The if, else, and elif (short for \"else if\") keywords are used for creating conditional structures."
   ]
  },
  {
   "cell_type": "markdown",
   "id": "2b7cb296-4590-400e-9563-f813e6e44ee8",
   "metadata": {},
   "source": [
    "## 1.Python if Statement\n",
    "                   An if statement executes a block of code only if the specified condition is met."
   ]
  },
  {
   "cell_type": "markdown",
   "id": "cb9a3476-a57c-494d-b282-80a3f274ead9",
   "metadata": {},
   "source": [
    "## Syntax"
   ]
  },
  {
   "cell_type": "markdown",
   "id": "41413db3-ffbe-4bbf-9594-6e6bf48a902c",
   "metadata": {},
   "source": [
    "if condition:\n",
    "             # body of if statement"
   ]
  },
  {
   "cell_type": "markdown",
   "id": "b409a74d-c1a4-49e0-9f41-3619545c9f2b",
   "metadata": {},
   "source": [
    "Here, if the condition of the if statement is:"
   ]
  },
  {
   "cell_type": "markdown",
   "id": "2b4c40c8-eb66-4fab-a42d-7d6123512a5e",
   "metadata": {},
   "source": [
    "True - the body of the if statement executes."
   ]
  },
  {
   "cell_type": "markdown",
   "id": "1e460e8d-0969-4a0d-a966-cab5db826946",
   "metadata": {},
   "source": [
    "False - the body of the if statement is skipped from execution."
   ]
  },
  {
   "cell_type": "code",
   "execution_count": 10,
   "id": "b0277192-6ca7-4fb1-9a5b-d62970b31074",
   "metadata": {},
   "outputs": [
    {
     "name": "stdin",
     "output_type": "stream",
     "text": [
      "enter your age 22\n"
     ]
    }
   ],
   "source": [
    "# if we want input as integer\n",
    "a = int(input(\"enter your age\"))"
   ]
  },
  {
   "cell_type": "code",
   "execution_count": 12,
   "id": "998a257a-38e7-4499-9946-40313fea1478",
   "metadata": {},
   "outputs": [
    {
     "name": "stdin",
     "output_type": "stream",
     "text": [
      "enter your name:  nitish\n"
     ]
    }
   ],
   "source": [
    "# input in other format\n",
    "name = input(\"enter your name: \")"
   ]
  },
  {
   "cell_type": "code",
   "execution_count": 16,
   "id": "d5f752d0-b646-49ac-b589-2c9e82552797",
   "metadata": {},
   "outputs": [
    {
     "name": "stdout",
     "output_type": "stream",
     "text": [
      "78 number is positive\n"
     ]
    }
   ],
   "source": [
    "number = 78\n",
    "if number > 0:  \n",
    "    print(f\"{number} number is positive\")"
   ]
  },
  {
   "cell_type": "markdown",
   "id": "7e94658a-3c58-41a6-8a33-6c54c45c4e03",
   "metadata": {},
   "source": [
    "## 2.Python else Statement"
   ]
  },
  {
   "cell_type": "markdown",
   "id": "97f14293-5888-4693-92bc-a7a99327374d",
   "metadata": {},
   "source": [
    "An if statement can have an optional else clause."
   ]
  },
  {
   "cell_type": "markdown",
   "id": "044b9e68-e999-4ead-b1eb-9692472ba1af",
   "metadata": {},
   "source": [
    "The else statement executes if the condition in the if statement evaluates to False."
   ]
  },
  {
   "cell_type": "markdown",
   "id": "14d73cc2-b51c-4ad1-b1a6-a92a1debc660",
   "metadata": {},
   "source": [
    "## Syntax"
   ]
  },
  {
   "cell_type": "markdown",
   "id": "d7ba10f0-8e9e-4a40-9720-48390e906509",
   "metadata": {},
   "source": [
    "if condition: # body of if statement"
   ]
  },
  {
   "cell_type": "markdown",
   "id": "9688058d-4154-466f-afc5-340ed3581a3b",
   "metadata": {},
   "source": [
    "else: # body of else statement"
   ]
  },
  {
   "cell_type": "markdown",
   "id": "b58318d4-ef24-4da9-a05a-bc6eecdfb965",
   "metadata": {},
   "source": [
    "Here, if the condition inside the if statement evaluates to"
   ]
  },
  {
   "cell_type": "markdown",
   "id": "257fa314-7e11-4b66-ae2d-d05caaba163c",
   "metadata": {},
   "source": [
    "True - the body of if executes, and the body of else is skipped."
   ]
  },
  {
   "cell_type": "markdown",
   "id": "2693ac96-c032-41f8-92b7-0edfbc96fd66",
   "metadata": {},
   "source": [
    "False - the body of else executes, and the body of if is skipped."
   ]
  },
  {
   "cell_type": "code",
   "execution_count": 30,
   "id": "8edee02e-f523-48a0-8dae-b0be1d7a8449",
   "metadata": {},
   "outputs": [
    {
     "name": "stdout",
     "output_type": "stream",
     "text": [
      "Negative number\n"
     ]
    }
   ],
   "source": [
    "number = 0\n",
    "\n",
    "if number > 0:\n",
    "    print('Positive number')\n",
    "\n",
    "else:\n",
    "    print('Negative number')"
   ]
  },
  {
   "cell_type": "markdown",
   "id": "1e7bb8f7-bc36-42d1-9110-892310449b4e",
   "metadata": {},
   "source": [
    "## 3.python elif condition"
   ]
  },
  {
   "cell_type": "markdown",
   "id": "4c14ed35-7215-495c-a495-887778324894",
   "metadata": {},
   "source": [
    "syntax: if condition: #body statement elif condition: #body statements else: #body statements"
   ]
  },
  {
   "cell_type": "code",
   "execution_count": 34,
   "id": "2456cc1b-d3b0-43f3-8da8-41b6f4e0d731",
   "metadata": {},
   "outputs": [
    {
     "name": "stdout",
     "output_type": "stream",
     "text": [
      "Positive number\n"
     ]
    }
   ],
   "source": [
    "number = 5\n",
    "\n",
    "if number > 0:\n",
    "    print(\"Positive number\")\n",
    "\n",
    "elif number <0:\n",
    "    print('Negative number')\n",
    "\n",
    "else:\n",
    "    print('Zero')\n"
   ]
  },
  {
   "cell_type": "markdown",
   "id": "2091cfb4-f22b-42d0-ba1c-48aa52f9c453",
   "metadata": {},
   "source": [
    "## types of input"
   ]
  },
  {
   "cell_type": "code",
   "execution_count": null,
   "id": "f413f5cb-81d1-43a9-9dd8-f53d942f87c1",
   "metadata": {},
   "outputs": [],
   "source": [
    "static type input: intital assgin by developer or code writer."
   ]
  },
  {
   "cell_type": "code",
   "execution_count": null,
   "id": "0c4d4776-1de8-4c86-9a67-9198d5defb66",
   "metadata": {},
   "outputs": [],
   "source": [
    "dymanic type input: inputs enter by user."
   ]
  },
  {
   "cell_type": "code",
   "execution_count": 38,
   "id": "6adb20f5-22de-44da-9949-0d10ebc70d37",
   "metadata": {},
   "outputs": [
    {
     "name": "stdin",
     "output_type": "stream",
     "text": [
      "Enter your lucky number:  45\n"
     ]
    },
    {
     "name": "stdout",
     "output_type": "stream",
     "text": [
      "your lucky number is Positive\n"
     ]
    }
   ],
   "source": [
    "# example condition statement\n",
    "\n",
    "number = int(input(\"Enter your lucky number: \"))\n",
    "\n",
    "if number > 0:\n",
    "    print(\"your lucky number is Positive\")\n",
    "elif number < 0:\n",
    "    print(\"your lucky is negative\")\n",
    "else:\n",
    "    print(\"your lucky number is Zero\")"
   ]
  },
  {
   "cell_type": "markdown",
   "id": "86277a2a-3e7c-46a6-8442-bc7bf0465d77",
   "metadata": {},
   "source": [
    "## 4. Python Nested If Statement"
   ]
  },
  {
   "cell_type": "markdown",
   "id": "9a5bb65e-a486-457b-a0ae-ebdf05e5852e",
   "metadata": {},
   "source": [
    "A nested if is an if statement that is the target of another if statement. Nested if statements mean an if statement inside another if statement."
   ]
  },
  {
   "cell_type": "markdown",
   "id": "eff66843-d268-4e44-9d24-b74234369ffc",
   "metadata": {},
   "source": [
    "Yes, Python allows us to nest if statements within if statements. i.e., we can place an if statement inside another if statement."
   ]
  },
  {
   "cell_type": "markdown",
   "id": "828c6cf4-ed9a-4f34-9cb1-0c9777d60135",
   "metadata": {},
   "source": [
    "### Syntax of Nested If:"
   ]
  },
  {
   "cell_type": "code",
   "execution_count": null,
   "id": "4c151342-cbe6-463b-a27b-269e7a1d9548",
   "metadata": {},
   "outputs": [],
   "source": [
    "if (condition1):\n",
    "   # Executes when condition1 is true\n",
    "   if (condition2): \n",
    "      # Executes when condition2 is true\n",
    "   # if Block is end here\n",
    "# if Block is end here"
   ]
  },
  {
   "cell_type": "code",
   "execution_count": 7,
   "id": "e2dd59e2-cf2f-47bd-8e9e-38cc2f9ca4cf",
   "metadata": {},
   "outputs": [
    {
     "name": "stdout",
     "output_type": "stream",
     "text": [
      "You meet the criteria.\n"
     ]
    }
   ],
   "source": [
    "age = 16\n",
    "height = 160\n",
    "\n",
    "if age >= 15:\n",
    "    if height >= 150:\n",
    "        print(\"You meet the criteria.\")\n",
    "    else:\n",
    "        print(\"You are not tall enough.\")\n",
    "else:\n",
    "    print(\"You are not old enough.\")"
   ]
  },
  {
   "cell_type": "code",
   "execution_count": null,
   "id": "af660574-e84a-436d-80e5-6369615b9ac8",
   "metadata": {},
   "outputs": [],
   "source": []
  },
  {
   "cell_type": "markdown",
   "id": "fd147f17-346f-461b-ace6-6bc75792f036",
   "metadata": {},
   "source": [
    "# loop statements"
   ]
  },
  {
   "cell_type": "markdown",
   "id": "89b46789-a3aa-4264-b612-5737211aa159",
   "metadata": {},
   "source": [
    "## Python while Loop"
   ]
  },
  {
   "cell_type": "markdown",
   "id": "e4bdf30b-5269-4982-90dc-641839cbf62a",
   "metadata": {},
   "source": [
    "Python while loop is used to run a block code until a certain condition is met."
   ]
  },
  {
   "cell_type": "markdown",
   "id": "55cb0b62-3093-4184-a55f-7dc0d3a81836",
   "metadata": {},
   "source": [
    "The syntax of while loop is:"
   ]
  },
  {
   "cell_type": "markdown",
   "id": "d272389a-654d-4521-90fc-127f7a6bdb12",
   "metadata": {},
   "source": [
    "while condition: # body of while loop"
   ]
  },
  {
   "cell_type": "markdown",
   "id": "0c351d35-3f9b-41bf-adb4-25b920694ea5",
   "metadata": {},
   "source": [
    "Here,"
   ]
  },
  {
   "cell_type": "markdown",
   "id": "2e069cfe-f83a-4793-a084-d8926e4d874a",
   "metadata": {},
   "source": [
    "A while loop evaluates the condition."
   ]
  },
  {
   "cell_type": "markdown",
   "id": "a5a5a063-976c-499c-9b9d-7d169b64cf7c",
   "metadata": {},
   "source": [
    "If the condition evaluates to True, the code inside the while loop is executed."
   ]
  },
  {
   "cell_type": "markdown",
   "id": "fc8617fd-94e7-4783-8cbe-7524a91c5b80",
   "metadata": {},
   "source": [
    "condition is evaluated again."
   ]
  },
  {
   "cell_type": "markdown",
   "id": "d776c8fd-27dc-4a7b-86ad-963abadcd91e",
   "metadata": {},
   "source": [
    "This process continues until the condition is False."
   ]
  },
  {
   "cell_type": "markdown",
   "id": "0e0adac6-4b15-4752-a6c6-51d6d7acde73",
   "metadata": {},
   "source": [
    "When condition evaluates to False, the loop stops."
   ]
  },
  {
   "cell_type": "code",
   "execution_count": 35,
   "id": "64747799-f1c4-4e8d-87da-687e6c0ae520",
   "metadata": {},
   "outputs": [
    {
     "name": "stdout",
     "output_type": "stream",
     "text": [
      "1\n",
      "2\n",
      "3\n",
      "4\n",
      "5\n",
      "6\n"
     ]
    }
   ],
   "source": [
    "# program to display numbers from 1 to 5\n",
    "\n",
    "# initialize the variable\n",
    "i = 0\n",
    "\n",
    "# while loop from i = 1 to 5\n",
    "while i <= 5:\n",
    "    \n",
    "    i = i + 1 #increment\n",
    "    print(i)"
   ]
  },
  {
   "cell_type": "code",
   "execution_count": 9,
   "id": "a675a3f7-d887-46f1-be08-34f68312078b",
   "metadata": {},
   "outputs": [
    {
     "name": "stdout",
     "output_type": "stream",
     "text": [
      "H\n",
      "e\n",
      "l\n",
      "l\n",
      "o\n",
      " \n",
      "N\n",
      "i\n",
      "t\n",
      "i\n",
      "s\n",
      "h\n"
     ]
    }
   ],
   "source": [
    "text = \"Hello Nitish\"\n",
    "index = 0\n",
    "\n",
    "while index < len(text):\n",
    "    print(text[index])\n",
    "    index += 1"
   ]
  },
  {
   "cell_type": "code",
   "execution_count": 13,
   "id": "fbb2a302-8e94-4721-96f5-4702d7aaebb8",
   "metadata": {},
   "outputs": [
    {
     "name": "stdout",
     "output_type": "stream",
     "text": [
      "Nitish\n",
      "Nitish\n",
      "Nitish\n",
      "Nitish\n",
      "Nitish\n",
      "Nitish\n"
     ]
    }
   ],
   "source": [
    "word = \"Nitish\"\n",
    "num = 0\n",
    "\n",
    "i = 0\n",
    "while i < len(word):\n",
    "    print(word)\n",
    "    num += 1\n",
    "    i += 1"
   ]
  },
  {
   "cell_type": "code",
   "execution_count": 15,
   "id": "093eb57c-2b20-4d43-8c5e-0d85bc646350",
   "metadata": {},
   "outputs": [
    {
     "name": "stdout",
     "output_type": "stream",
     "text": [
      "Number of vowels: 3\n"
     ]
    }
   ],
   "source": [
    "string = \"Hello, world!\"\n",
    "vowels = \"aeiouAEIOU\"\n",
    "count = 0\n",
    "i = 0\n",
    "\n",
    "while i < len(string):\n",
    "    if string[i] in vowels:\n",
    "        count += 1\n",
    "    i += 1\n",
    "\n",
    "print(\"Number of vowels:\", count)"
   ]
  },
  {
   "cell_type": "markdown",
   "id": "cb414c9a-803c-4882-ba0e-26966de71dc0",
   "metadata": {},
   "source": [
    "## Python for Loop"
   ]
  },
  {
   "cell_type": "markdown",
   "id": "018e1e26-3308-416b-bb3b-2d7852a880bf",
   "metadata": {},
   "source": [
    "The for loop is used for iterating over a sequence (that is either a list, tuple, dictionary, string, or range)."
   ]
  },
  {
   "cell_type": "markdown",
   "id": "deb76ebb-bf05-4f4d-bae0-cf80cb6f8309",
   "metadata": {},
   "source": [
    "The syntax of a for loop is:"
   ]
  },
  {
   "cell_type": "markdown",
   "id": "9843ffd7-ccd8-4e90-97ac-cbdec3558c3e",
   "metadata": {},
   "source": [
    "for val in sequence: # statement(s)"
   ]
  },
  {
   "cell_type": "markdown",
   "id": "72d9caec-409b-4d10-8b2f-18aece7ad51d",
   "metadata": {},
   "source": [
    "Here, val accesses each item of the sequence on each iteration."
   ]
  },
  {
   "cell_type": "markdown",
   "id": "a37f9357-ed74-4336-8cda-8ef68571d764",
   "metadata": {},
   "source": [
    "The loop continues until we reach the last item in the sequence."
   ]
  },
  {
   "cell_type": "code",
   "execution_count": 43,
   "id": "b0b134d9-4860-4c4a-a75e-d703166487d2",
   "metadata": {},
   "outputs": [
    {
     "name": "stdout",
     "output_type": "stream",
     "text": [
      "P\n",
      "y\n",
      "t\n",
      "h\n",
      "o\n",
      "n\n"
     ]
    }
   ],
   "source": [
    "language = 'Python'\n",
    "\n",
    "# iterate over each character in language\n",
    "for x in language:\n",
    "    print(x)"
   ]
  },
  {
   "cell_type": "code",
   "execution_count": 45,
   "id": "7ade766c-800a-461b-9649-2ee70eb8f82c",
   "metadata": {},
   "outputs": [
    {
     "name": "stdout",
     "output_type": "stream",
     "text": [
      "apple\n",
      "banana\n",
      "orange\n"
     ]
    }
   ],
   "source": [
    "#Example 1: Iterate Over a List\n",
    "\n",
    "fruits = ['apple', 'banana', 'orange']\n",
    "\n",
    "for fruit in fruits:\n",
    "    print(fruit)"
   ]
  },
  {
   "cell_type": "code",
   "execution_count": 47,
   "id": "9cfc8a80-6b73-4eee-bf3f-5b348b68aca0",
   "metadata": {},
   "outputs": [
    {
     "name": "stdout",
     "output_type": "stream",
     "text": [
      "1\n",
      "2\n",
      "3\n",
      "4\n",
      "5\n",
      "6\n",
      "7\n",
      "8\n",
      "9\n"
     ]
    }
   ],
   "source": [
    "#Example 2: Iterate Over a Range\n",
    "for number in range(1, 10):\n",
    "    print(number)"
   ]
  },
  {
   "cell_type": "code",
   "execution_count": 49,
   "id": "99f2635b-2222-4be2-a46d-60148bcbdcee",
   "metadata": {},
   "outputs": [
    {
     "name": "stdout",
     "output_type": "stream",
     "text": [
      "E\n",
      "t\n",
      "e\n",
      "r\n",
      "n\n",
      "a\n",
      "l\n",
      "t\n",
      "e\n",
      "k\n"
     ]
    }
   ],
   "source": [
    "#Example 3: Iterate Over a String\n",
    "word = \"Eternaltek\"\n",
    "\n",
    "for char in word:\n",
    "    print(char)"
   ]
  },
  {
   "cell_type": "code",
   "execution_count": 51,
   "id": "763d7560-5d40-42dd-b963-9cd09f1082e8",
   "metadata": {},
   "outputs": [
    {
     "name": "stdout",
     "output_type": "stream",
     "text": [
      "Nitish's grade is 90\n",
      "Sandeep's grade is 85\n",
      "Kumar's grade is 92\n",
      "shiva's grade is 98\n"
     ]
    }
   ],
   "source": [
    "#Example 4: Iterate Over a Dictionary\n",
    "student_grades = {'Nitish': 90, 'Sandeep': 85, 'Kumar': 92, 'shiva': 98}\n",
    "\n",
    "for name, grade in student_grades.items():\n",
    "    print(f\"{name}'s grade is {grade}\")"
   ]
  },
  {
   "cell_type": "code",
   "execution_count": 17,
   "id": "e9bb28ff-4da6-477a-94fc-734a1224a45c",
   "metadata": {},
   "outputs": [
    {
     "name": "stdout",
     "output_type": "stream",
     "text": [
      "Nitish 22\n",
      "Sandeep 21\n",
      "Deva 21\n"
     ]
    }
   ],
   "source": [
    "names = [\"Nitish\", \"Sandeep\", \"Deva\"]\n",
    "ages = [22, 21, 21]\n",
    "for name, age in zip(names, ages):\n",
    "    print(name , age)"
   ]
  },
  {
   "cell_type": "markdown",
   "id": "b4e1705c-60a4-42e0-a7c6-ec6028bba6cf",
   "metadata": {},
   "source": [
    "# Control Statements"
   ]
  },
  {
   "cell_type": "markdown",
   "id": "2a910325-8097-485e-9d83-2e32dc59ecc9",
   "metadata": {},
   "source": [
    "In Python, pass, break, and continue are control flow statements used within loops."
   ]
  },
  {
   "cell_type": "markdown",
   "id": "7bc5126a-58aa-4b7f-9843-9f7ff514546e",
   "metadata": {},
   "source": [
    "They provide ways to control the execution of a loop or to handle certain situations."
   ]
  },
  {
   "cell_type": "markdown",
   "id": "44232d9b-cfec-4dc4-a6e8-8c39fcecb108",
   "metadata": {},
   "source": [
    "Here's an explanation of each, along with examples:"
   ]
  },
  {
   "cell_type": "markdown",
   "id": "a99c1301-7045-456c-bc36-945b77888771",
   "metadata": {},
   "source": [
    "## 1. pass:"
   ]
  },
  {
   "cell_type": "markdown",
   "id": "c95ea0ec-f0b4-4061-acfa-f49eb2be9fb3",
   "metadata": {},
   "source": [
    "The pass statement is a no-operation statement."
   ]
  },
  {
   "cell_type": "markdown",
   "id": "0d517613-71e8-44f7-b043-b08e56df326f",
   "metadata": {},
   "source": [
    "It is a placeholder where syntactically some code is required, but no action needs to be taken."
   ]
  },
  {
   "cell_type": "code",
   "execution_count": 64,
   "id": "39cf03e3-fcd5-4cbd-a64c-73b221c3e937",
   "metadata": {},
   "outputs": [
    {
     "name": "stdout",
     "output_type": "stream",
     "text": [
      "0\n",
      "1\n",
      "2\n",
      "3\n",
      "4\n",
      "5\n",
      "7\n",
      "8\n",
      "9\n"
     ]
    }
   ],
   "source": [
    "for i in range(10):\n",
    "    if i == 6:\n",
    "        pass  # do nothing for i = 2\n",
    "    else:\n",
    "        print(i)"
   ]
  },
  {
   "cell_type": "code",
   "execution_count": 23,
   "id": "84db4bf1-fd53-4b94-80d6-811d51ee14a5",
   "metadata": {},
   "outputs": [
    {
     "name": "stdout",
     "output_type": "stream",
     "text": [
      "n\n",
      "i\n",
      "t\n",
      "i\n",
      "s\n",
      "h\n"
     ]
    }
   ],
   "source": [
    "for letter in 'nitish':\n",
    "    if letter == 't':\n",
    "        pass\n",
    "    print(letter)"
   ]
  },
  {
   "cell_type": "markdown",
   "id": "947d8d27-e6ba-4c21-b725-0b574c318afb",
   "metadata": {},
   "source": [
    "In this example, when i is equal to 6, the pass statement is executed, and the loop continues without doing anything."
   ]
  },
  {
   "cell_type": "markdown",
   "id": "6213cf4d-a4e2-419e-958a-b1ff842368c4",
   "metadata": {},
   "source": [
    "It is often used when a statement is syntactically required, but you want to skip its execution."
   ]
  },
  {
   "cell_type": "markdown",
   "id": "9b438b95-17ac-4650-9ca7-e68ce9d50e89",
   "metadata": {},
   "source": [
    "## 2.break:"
   ]
  },
  {
   "cell_type": "markdown",
   "id": "1860f985-3de8-4b0b-847b-25849408bcc2",
   "metadata": {},
   "source": [
    "The break statement is used to exit a loop prematurely."
   ]
  },
  {
   "cell_type": "markdown",
   "id": "89088258-f9fe-4056-bcc1-56ba4898edc6",
   "metadata": {},
   "source": [
    "When a break statement is encountered, the loop terminates immediately, and the control is transferred to the statement immediately following the loop."
   ]
  },
  {
   "cell_type": "code",
   "execution_count": 73,
   "id": "6609efaa-427e-42d1-81dc-c14e0e142e05",
   "metadata": {},
   "outputs": [
    {
     "name": "stdout",
     "output_type": "stream",
     "text": [
      "0\n",
      "1\n",
      "2\n",
      "3\n",
      "4\n",
      "5\n",
      "6\n"
     ]
    }
   ],
   "source": [
    "a = []\n",
    "for i in range(10):\n",
    "    if i == 7:\n",
    "        break  # exit the loop when i reaches 7\n",
    "    print(i)"
   ]
  },
  {
   "cell_type": "code",
   "execution_count": 62,
   "id": "d8a94724-c6ba-4367-883d-b68eb9b4e4ff",
   "metadata": {},
   "outputs": [
    {
     "name": "stdout",
     "output_type": "stream",
     "text": [
      "0\n",
      "1\n",
      "2\n",
      "3\n"
     ]
    }
   ],
   "source": [
    "a=[]\n",
    "for i in range(20):\n",
    "    if i == 4 or i == 16:\n",
    "        break\n",
    "    print(i)"
   ]
  },
  {
   "cell_type": "code",
   "execution_count": 43,
   "id": "39779093-2b06-48ad-964f-e9660c80a8ff",
   "metadata": {},
   "outputs": [
    {
     "name": "stdout",
     "output_type": "stream",
     "text": [
      "n\n",
      "i\n",
      "t\n",
      "i\n"
     ]
    }
   ],
   "source": [
    "for letter in 'nitish':\n",
    "    if letter == 's':\n",
    "        break\n",
    "    print(letter)"
   ]
  },
  {
   "cell_type": "markdown",
   "id": "5d274411-2491-4d1f-a2bb-63b42cf3e44e",
   "metadata": {},
   "source": [
    "In this example, the loop will print values from 0 to 4. When i becomes 5, the break statement is encountered, and the loop is terminated."
   ]
  },
  {
   "cell_type": "markdown",
   "id": "e8badc5c-76f9-4db9-a5c2-731490475a91",
   "metadata": {},
   "source": [
    "## 3. continue:"
   ]
  },
  {
   "cell_type": "markdown",
   "id": "225bbc50-7c0f-4746-bef1-8eb7124bd053",
   "metadata": {},
   "source": [
    "The continue statement is used to skip the rest of the code inside a loop for the current iteration and move to the next iteration."
   ]
  },
  {
   "cell_type": "code",
   "execution_count": 80,
   "id": "4e35c012-b08b-48de-af9a-bd6fc7944b94",
   "metadata": {},
   "outputs": [
    {
     "name": "stdout",
     "output_type": "stream",
     "text": [
      "0\n",
      "1\n",
      "2\n",
      "3\n",
      "4\n",
      "5\n",
      "6\n",
      "8\n",
      "9\n"
     ]
    }
   ],
   "source": [
    "for i in range(10):\n",
    "    if i == 7:\n",
    "        continue  # skip the rest of the code for i = 7\n",
    "    else:\n",
    "        print(i)"
   ]
  },
  {
   "cell_type": "markdown",
   "id": "0088f468-d04d-48db-aab3-c9037213afcb",
   "metadata": {},
   "source": [
    "In this example, the loop will print values from 0 to 4, skipping the printing step when i is equal to 2 due to the continue statement."
   ]
  },
  {
   "cell_type": "code",
   "execution_count": 19,
   "id": "a4f5c7fe-1d0c-4e49-977a-1a6ad6b6fdb1",
   "metadata": {},
   "outputs": [
    {
     "name": "stdout",
     "output_type": "stream",
     "text": [
      "n\n",
      "i\n",
      "i\n",
      "s\n",
      "h\n",
      "u\n",
      "m\n",
      "a\n",
      "r\n"
     ]
    }
   ],
   "source": [
    "for letter in 'nitishkumar':\n",
    "    if letter == 't' or letter == 'k':\n",
    "        continue\n",
    "    print(letter)"
   ]
  },
  {
   "cell_type": "code",
   "execution_count": null,
   "id": "3b6ce327-881a-4b09-acb2-c5ec6834c755",
   "metadata": {},
   "outputs": [],
   "source": []
  }
 ],
 "metadata": {
  "kernelspec": {
   "display_name": "Python 3 (ipykernel)",
   "language": "python",
   "name": "python3"
  },
  "language_info": {
   "codemirror_mode": {
    "name": "ipython",
    "version": 3
   },
   "file_extension": ".py",
   "mimetype": "text/x-python",
   "name": "python",
   "nbconvert_exporter": "python",
   "pygments_lexer": "ipython3",
   "version": "3.12.4"
  }
 },
 "nbformat": 4,
 "nbformat_minor": 5
}
