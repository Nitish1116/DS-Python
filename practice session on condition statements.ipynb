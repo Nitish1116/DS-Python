{
 "cells": [
  {
   "cell_type": "code",
   "execution_count": 19,
   "id": "7324d764-9931-4311-8b70-8b2b9cec373f",
   "metadata": {},
   "outputs": [
    {
     "name": "stdin",
     "output_type": "stream",
     "text": [
      "enter your item: paneer curry\n"
     ]
    },
    {
     "name": "stdout",
     "output_type": "stream",
     "text": [
      "your order is ready can you wait 5 mins\n"
     ]
    }
   ],
   "source": [
    "# long code\n",
    "veg_menu=['paneer butter masala','paneer curry','paneer biriyani','mushroom biriyani','veg biriyani']\n",
    "nonveg_menu=['chicken curry','mutton curry','lobster','chicken fry biriyani','mutton fry biriyani','prawns biriyani']\n",
    "\n",
    "item=input('enter your item:')\n",
    "\n",
    "if item == 'chicken curry':\n",
    "     print('your order is ready can you wait 5 mins')\n",
    "elif item == 'mutton curry':\n",
    "     print('your order is ready can you wait 5 mins')\n",
    "elif item == 'lobster':\n",
    "     print('your order is ready can you wait 5 mins')\n",
    "elif item == 'chicken fry biriyani':\n",
    "     print('your order is ready can you wait 5 mins')\n",
    "elif item == 'mutton fry biriyani':\n",
    "     print('your order is ready can you wait 5 mins')\n",
    "elif item == 'prawns biriyani':\n",
    "     print('your order is ready can you wait 5 mins')\n",
    "elif item == 'veg biriyani':\n",
    "     print('your order is ready can you wait 5 mins')\n",
    "elif item == 'mushroom biriyani':\n",
    "     print('your order is ready can you wait 5 mins')\n",
    "elif item == 'paneer biriyani':\n",
    "     print('your order is ready can you wait 5 mins')\n",
    "elif item == 'paneer curry':\n",
    "     print('your order is ready can you wait 5 mins')\n",
    "elif item == 'paneer butter masala':\n",
    "     print('your order is ready can you wait 5 mins')\n",
    "else:\n",
    "    print('sorry we are not providing')\n"
   ]
  },
  {
   "cell_type": "code",
   "execution_count": 17,
   "id": "c4ce5182-fc80-4aaa-ba61-b1c43d47b3e2",
   "metadata": {},
   "outputs": [
    {
     "name": "stdin",
     "output_type": "stream",
     "text": [
      "enter your item: lobster\n"
     ]
    },
    {
     "name": "stdout",
     "output_type": "stream",
     "text": [
      "your order is ready can you wait 5 mins\n"
     ]
    }
   ],
   "source": [
    "#short code\n",
    "veg_menu=['paneer butter masala','paneer curry','paneer biriyani','mushroom biriyani','veg biriyani']\n",
    "nonveg_menu=['chicken curry','mutton curry','lobster','chicken fry biriyani','mutton fry biriyani','prawns biriyani']\n",
    "\n",
    "item=input('enter your item:')\n",
    "\n",
    "if item in veg_menu:\n",
    "    print('your order is ready can you wait 5 mins')\n",
    "elif item in nonveg_menu:\n",
    "    print('your order is ready can you wait 5 mins')\n",
    "else:\n",
    "    print('sorry we are not providing')"
   ]
  },
  {
   "cell_type": "code",
   "execution_count": 15,
   "id": "a87201fe-ca80-42b8-8724-acbc629c4c6c",
   "metadata": {},
   "outputs": [
    {
     "name": "stdin",
     "output_type": "stream",
     "text": [
      "enter your angle: 5\n"
     ]
    },
    {
     "name": "stdout",
     "output_type": "stream",
     "text": [
      "pentagon has five sides\n"
     ]
    }
   ],
   "source": [
    "numbers=int(input('enter your angle:'))\n",
    "\n",
    "if numbers == 1:\n",
    "     print('line has one sides')\n",
    "elif numbers == 2:\n",
    "     print('circle has no sides')\n",
    "elif numbers == 3:\n",
    "     print('triangle has three sides')\n",
    "elif numbers == 4:\n",
    "     print('square has four sides')\n",
    "elif numbers == 5:\n",
    "     print('pentagon has five sides')\n",
    "elif numbers == 6:\n",
    "     print('hexagon has six sides')\n",
    "elif numbers == 7:\n",
    "     print('septagon has seven sides')\n",
    "elif numbers == 8:\n",
    "     print('octagon has eight sides')\n",
    "elif numbers == 9:\n",
    "     print('nanogon has nine sides')\n",
    "elif numbers == 10:\n",
    "     print('decacon has ten sides')\n",
    "\n",
    "else:\n",
    "    print('sorry we are not providing')\n"
   ]
  },
  {
   "cell_type": "code",
   "execution_count": 13,
   "id": "c1720a35-150e-46da-ac82-8e07d70e50c4",
   "metadata": {},
   "outputs": [
    {
     "name": "stdin",
     "output_type": "stream",
     "text": [
      "enter your month: may\n"
     ]
    },
    {
     "name": "stdout",
     "output_type": "stream",
     "text": [
      "may has 31 days\n"
     ]
    }
   ],
   "source": [
    "month=input('enter your month:')\n",
    "\n",
    "_31days=['jan','march','may','july','august','oct','dec']\n",
    "_30days=['april','june','sep','nov']\n",
    "_28days=['feb']\n",
    "\n",
    "if month in _31days:\n",
    "    print(f'{month} has 31 days')\n",
    "elif month in _30days:\n",
    "    print(f'{month} has 30 days')\n",
    "else:\n",
    "    print(f'{month} has 28 days')"
   ]
  },
  {
   "cell_type": "code",
   "execution_count": 47,
   "id": "860a48c6-6e7a-4b15-9c36-6ad7fc981cba",
   "metadata": {},
   "outputs": [
    {
     "name": "stdin",
     "output_type": "stream",
     "text": [
      "enter year 2016\n"
     ]
    },
    {
     "name": "stdout",
     "output_type": "stream",
     "text": [
      "2016 its a leap year\n"
     ]
    }
   ],
   "source": [
    "# leap year program\n",
    "year=int(input('enter year'))\n",
    "\n",
    "if year % 4 == 0 and year % 100!= 0:\n",
    "      print(f'{year} its a leap year')\n",
    "elif year % 400 == 0 and year % 100 == 0:\n",
    "      print(f'{year} its a leap year')\n",
    "else:\n",
    "      print(f'{year} its not a leap year')"
   ]
  },
  {
   "cell_type": "code",
   "execution_count": 37,
   "id": "41347204-1c6c-431f-b950-881350c055ed",
   "metadata": {},
   "outputs": [
    {
     "name": "stdin",
     "output_type": "stream",
     "text": [
      " 45\n",
      " 56\n",
      " 32\n"
     ]
    },
    {
     "name": "stdout",
     "output_type": "stream",
     "text": [
      "56 is maximum among these 3 nubers\n"
     ]
    }
   ],
   "source": [
    "# maximum amoung 3 numbers program\n",
    "\n",
    "num_1=input()\n",
    "num_2=input()\n",
    "num_3=input()\n",
    "\n",
    "if num_1 >= num_2 and num_1 >= num_3:\n",
    "     print(f'{num_1}is maximum among these 3 nubers')\n",
    "elif num_2 >= num_1 and num_2 >= num_3:\n",
    "     print(f'{num_2} is maximum among these 3 nubers')\n",
    "else:\n",
    "    print(f'{num_3} is maximum among these 3 nubers')"
   ]
  },
  {
   "cell_type": "code",
   "execution_count": 23,
   "id": "068db9b4-3be0-45dc-99de-f2edf4382ac3",
   "metadata": {},
   "outputs": [
    {
     "name": "stdin",
     "output_type": "stream",
     "text": [
      "enter the traffic signal colours yellow\n"
     ]
    },
    {
     "name": "stdout",
     "output_type": "stream",
     "text": [
      "yellow indicates to wait\n"
     ]
    }
   ],
   "source": [
    "# traffic signals\n",
    "\n",
    "traffic_signal=input('enter the traffic signal colours')\n",
    "\n",
    "if traffic_signal=='red':\n",
    "    print('red indicates to stop')\n",
    "elif traffic_signal=='yellow':\n",
    "    print('yellow indicates to wait')\n",
    "else:\n",
    "    print('green indicates to go')"
   ]
  },
  {
   "cell_type": "code",
   "execution_count": 17,
   "id": "d80d145d-72f9-47c8-9532-345a0e432565",
   "metadata": {},
   "outputs": [
    {
     "name": "stdin",
     "output_type": "stream",
     "text": [
      "enter the character a\n"
     ]
    },
    {
     "name": "stdout",
     "output_type": "stream",
     "text": [
      "a is an vowel\n"
     ]
    }
   ],
   "source": [
    "# vowels and constants\n",
    "vowels=['a','e','i','o','u']\n",
    "consonants=['q','w','r','t','y','p','s','d','f','g','h','j','k','l','z','x','c','v','b','n','m']\n",
    "\n",
    "character=input('enter the character')\n",
    "\n",
    "if character in vowels:\n",
    "    print(f'{character} is an vowel')\n",
    "else:\n",
    "    print(f'{character} is an consonant')\n",
    "    \n"
   ]
  },
  {
   "cell_type": "code",
   "execution_count": 21,
   "id": "49711cba-187e-4f16-9290-7ca5e306ccca",
   "metadata": {},
   "outputs": [
    {
     "name": "stdout",
     "output_type": "stream",
     "text": [
      "['java', 'python', 'swift', 'c++', 'java', 'python']\n"
     ]
    }
   ],
   "source": [
    "# reverse a string\n",
    "languages=['python','java','c++','swift','python','java']\n",
    "languages.reverse()\n",
    "print(languages)"
   ]
  },
  {
   "cell_type": "code",
   "execution_count": 49,
   "id": "9781a282-a4ea-447d-9811-d438e92e044f",
   "metadata": {},
   "outputs": [
    {
     "name": "stdin",
     "output_type": "stream",
     "text": [
      "enter your string nitish\n"
     ]
    },
    {
     "name": "stdout",
     "output_type": "stream",
     "text": [
      "hsitin\n"
     ]
    }
   ],
   "source": [
    "# reverse a string\n",
    "string=input('enter your string')[::-1]\n",
    "print(string)"
   ]
  },
  {
   "cell_type": "code",
   "execution_count": 68,
   "id": "03fe273c-185b-4adf-b885-5ebf652e7446",
   "metadata": {},
   "outputs": [
    {
     "name": "stdout",
     "output_type": "stream",
     "text": [
      "{'c++', 'swift', 'python', 'java'}\n"
     ]
    }
   ],
   "source": [
    "# remove a duplicate from a list\n",
    "languages=['python','java','c++','swift','python','java']\n",
    "languages=set(['python','java','c++','swift','python','java'])\n",
    "print(languages)"
   ]
  },
  {
   "cell_type": "code",
   "execution_count": 25,
   "id": "6edaa6ea-1ffb-4798-97a8-580cd30dff35",
   "metadata": {},
   "outputs": [
    {
     "name": "stdin",
     "output_type": "stream",
     "text": [
      " nitish\n"
     ]
    },
    {
     "name": "stdout",
     "output_type": "stream",
     "text": [
      "['n', 'i', 't', 's', 'h']\n"
     ]
    }
   ],
   "source": [
    "## remove a duplicate from a list\n",
    "a=input()\n",
    "b=list(dict.fromkeys(a))\n",
    "print(b)\n"
   ]
  },
  {
   "cell_type": "code",
   "execution_count": 23,
   "id": "94f6c128-4181-4030-a882-3b0cdb604a69",
   "metadata": {},
   "outputs": [
    {
     "name": "stdin",
     "output_type": "stream",
     "text": [
      " 75\n",
      " 67\n"
     ]
    },
    {
     "name": "stdout",
     "output_type": "stream",
     "text": [
      "67\n",
      "75\n"
     ]
    }
   ],
   "source": [
    "#swapping of 2 numbers without using another variable\n",
    "\n",
    "a=int(input())\n",
    "b=int(input())\n",
    "\n",
    "a,b=b,a\n",
    "print\n",
    "print(a)\n",
    "print(b)"
   ]
  },
  {
   "cell_type": "code",
   "execution_count": null,
   "id": "05850f30-9434-414d-8a55-fe23f7e3432b",
   "metadata": {},
   "outputs": [],
   "source": []
  }
 ],
 "metadata": {
  "kernelspec": {
   "display_name": "Python 3 (ipykernel)",
   "language": "python",
   "name": "python3"
  },
  "language_info": {
   "codemirror_mode": {
    "name": "ipython",
    "version": 3
   },
   "file_extension": ".py",
   "mimetype": "text/x-python",
   "name": "python",
   "nbconvert_exporter": "python",
   "pygments_lexer": "ipython3",
   "version": "3.12.4"
  }
 },
 "nbformat": 4,
 "nbformat_minor": 5
}
