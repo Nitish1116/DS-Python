{
 "cells": [
  {
   "cell_type": "code",
   "execution_count": 23,
   "id": "2ef72483-4108-42a0-8565-d96b61b6beb0",
   "metadata": {},
   "outputs": [
    {
     "name": "stdin",
     "output_type": "stream",
     "text": [
      "enter month: june\n"
     ]
    },
    {
     "name": "stdout",
     "output_type": "stream",
     "text": [
      "june has 30 days\n"
     ]
    }
   ],
   "source": [
    "# month\n",
    "month=input('enter month:')\n",
    "\n",
    "_31days=['jan','march','may','july','aug','oct','dec']\n",
    "_30days=['april','june','sep','nov']\n",
    "_28days=['feb']\n",
    "\n",
    "found = False\n",
    "\n",
    "for word in _31days:\n",
    "    if month==word:\n",
    "        print(f'{month} has 31 days')\n",
    "        found= True\n",
    "        break\n",
    "\n",
    "for word in _30days:\n",
    "    if month==word:\n",
    "        print(f'{month} has 30 days')\n",
    "        found= True\n",
    "        break\n",
    "\n",
    "for word in _28days:\n",
    "    if month==word:\n",
    "        print(f'{month} has 28 days')\n",
    "        found= True\n",
    "        break\n",
    "\n",
    "if not found:\n",
    "    print('Enter valid month')  "
   ]
  },
  {
   "cell_type": "code",
   "execution_count": 49,
   "id": "060fde6c-b08e-45a2-9056-7c0d53e17b61",
   "metadata": {},
   "outputs": [
    {
     "name": "stdin",
     "output_type": "stream",
     "text": [
      "enter year: 2020\n"
     ]
    },
    {
     "name": "stdout",
     "output_type": "stream",
     "text": [
      "2020 is a leap year\n"
     ]
    }
   ],
   "source": [
    "# leap year\n",
    "year=int(input('enter year:'))\n",
    "\n",
    "for i in range(1):\n",
    "    if (year % 4 ==0 and year % 100 != 0) or (year % 400 ==0):\n",
    "        print(f'{year} is a leap year')\n",
    "    else:\n",
    "        print('This is not a leapyear')\n",
    "    "
   ]
  },
  {
   "cell_type": "code",
   "execution_count": 61,
   "id": "4a07a189-0f73-4021-bcca-09eed988d46b",
   "metadata": {},
   "outputs": [
    {
     "name": "stdin",
     "output_type": "stream",
     "text": [
      "Enter your number:  4\n"
     ]
    },
    {
     "name": "stdout",
     "output_type": "stream",
     "text": [
      "Square has 4 sides\n"
     ]
    }
   ],
   "source": [
    "# sides program\n",
    "shapes = {\n",
    "    1:\"Line has 1 side\",\n",
    "    2:\"Circle has 2 sides\",\n",
    "    3:\"Triangle has 3 sides\",\n",
    "    4:\"Square has 4 sides\",\n",
    "    5:\"Pantagon has 5 sides\",\n",
    "    6:\"Hexagon has 6 sides\",\n",
    "    7:\"Septagon has 7 sides\",\n",
    "    8:\"Octogon has 8 sides\",\n",
    "    9:\"Nanogon has 9 sides\",\n",
    "    10:\"Decogon has 10 sides\"\n",
    "}\n",
    "\n",
    "number = int(input(\"Enter your number: \"))\n",
    "\n",
    "for keys in shapes:\n",
    "    if number == keys:\n",
    "        print(shapes[keys])\n",
    "        break\n",
    "else:\n",
    "    print(\"Please enter correct number\")"
   ]
  },
  {
   "cell_type": "code",
   "execution_count": 63,
   "id": "fb28828f-cb58-438a-9fcd-cbea41a5eb7d",
   "metadata": {},
   "outputs": [
    {
     "name": "stdin",
     "output_type": "stream",
     "text": [
      "Please Enter Your Colour:  Green\n"
     ]
    },
    {
     "name": "stdout",
     "output_type": "stream",
     "text": [
      "Please Go\n"
     ]
    }
   ],
   "source": [
    "# traffic signals program\n",
    "a = input(\"Please Enter Your Colour: \")\n",
    "\n",
    "colors = [ (\"Red\", \"Please STOP\"),\n",
    "    (\"Yellow\", \"Please Ready to Go\"),\n",
    "    (\"Green\", \"Please Go\")]\n",
    "\n",
    "found = False\n",
    "\n",
    "for color, message in colors:\n",
    "    if a == color:\n",
    "        print(message)\n",
    "        found = True\n",
    "        break\n",
    "\n",
    "if not found:\n",
    "    print(\"This colour is not in signal colours\")\n"
   ]
  },
  {
   "cell_type": "code",
   "execution_count": 67,
   "id": "9e48ef95-b27d-4bc8-ac03-e051b292bce7",
   "metadata": {},
   "outputs": [
    {
     "name": "stdin",
     "output_type": "stream",
     "text": [
      "Enter your String:  nitish\n"
     ]
    },
    {
     "name": "stdout",
     "output_type": "stream",
     "text": [
      "Total Number of Vowels in this String =  2\n",
      "Total Number of Consonants in this String =  4\n"
     ]
    }
   ],
   "source": [
    "# vowels and constant\n",
    "str1 = input(\"Enter your String: \")\n",
    "\n",
    "vowels = 0\n",
    "consonants = 0\n",
    "\n",
    "for i in str1:\n",
    "    if(i == 'a' or i == 'e' or i == 'i' or i == 'o' or i == 'u'\n",
    "      or i == 'A' or i == 'E' or i == 'I' or i == 'O' or i == 'U'):\n",
    "        vowels = vowels + 1\n",
    "    else:\n",
    "        consonants = consonants + 1\n",
    "\n",
    "print(\"Total Number of Vowels in this String = \", vowels)\n",
    "print(\"Total Number of Consonants in this String = \", consonants)"
   ]
  },
  {
   "cell_type": "code",
   "execution_count": 7,
   "id": "c21cfdea-9972-4806-8229-5c9da78994b6",
   "metadata": {},
   "outputs": [
    {
     "name": "stdout",
     "output_type": "stream",
     "text": [
      "Even numbers: [2, 4, 6, 8, 10]\n",
      "Odd numbers: [1, 3, 5, 7, 9]\n"
     ]
    }
   ],
   "source": [
    "# even or odd numbers\n",
    "numbers = [1,2,3,4,5,6,7,8,9,10]\n",
    "\n",
    "even_numbers = []\n",
    "odd_numbers = []\n",
    "\n",
    "for number in numbers:\n",
    "    if number % 2 == 0:\n",
    "        even_numbers.append(number)\n",
    "    else:\n",
    "        odd_numbers.append(number)\n",
    "\n",
    "print(\"Even numbers:\", even_numbers)\n",
    "print(\"Odd numbers:\", odd_numbers)"
   ]
  },
  {
   "cell_type": "code",
   "execution_count": 5,
   "id": "cab57330-3209-430e-ad20-9ae58e861536",
   "metadata": {},
   "outputs": [
    {
     "name": "stdin",
     "output_type": "stream",
     "text": [
      "Enter your number:  4\n"
     ]
    },
    {
     "name": "stdout",
     "output_type": "stream",
     "text": [
      "The factorial of 4 is 24\n"
     ]
    }
   ],
   "source": [
    "# factorial number\n",
    "import math\n",
    "\n",
    "number = int(input(\"Enter your number: \"))\n",
    "print(f\"The factorial of {number} is {math.factorial(number)}\")"
   ]
  },
  {
   "cell_type": "code",
   "execution_count": null,
   "id": "80cceece-0aaa-493e-9cc7-5fbd0711e943",
   "metadata": {},
   "outputs": [],
   "source": []
  }
 ],
 "metadata": {
  "kernelspec": {
   "display_name": "Python 3 (ipykernel)",
   "language": "python",
   "name": "python3"
  },
  "language_info": {
   "codemirror_mode": {
    "name": "ipython",
    "version": 3
   },
   "file_extension": ".py",
   "mimetype": "text/x-python",
   "name": "python",
   "nbconvert_exporter": "python",
   "pygments_lexer": "ipython3",
   "version": "3.12.4"
  }
 },
 "nbformat": 4,
 "nbformat_minor": 5
}
