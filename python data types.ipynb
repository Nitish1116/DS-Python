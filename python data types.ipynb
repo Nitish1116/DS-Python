{
 "cells": [
  {
   "cell_type": "markdown",
   "id": "429fd251-a6c0-4baf-bc63-e803009edec4",
   "metadata": {},
   "source": [
    "# Python Data Types\n"
   ]
  },
  {
   "cell_type": "markdown",
   "id": "f42283fb-6846-48b7-8c52-1178c5b31b70",
   "metadata": {},
   "source": [
    "## 1.Numeric data type"
   ]
  },
  {
   "cell_type": "markdown",
   "id": "2fa8a213-9cd1-416f-beab-14f6211208d1",
   "metadata": {},
   "source": [
    "### Integer data type:"
   ]
  },
  {
   "cell_type": "markdown",
   "id": "942b45f0-5c61-4bef-896b-f44bd7a2e8fc",
   "metadata": {},
   "source": [
    "                    This value is represented by int class. It contains positive or negative whole numbers (without fractions or decimals). In Python, there is no limit to how long an integer value can be."
   ]
  },
  {
   "cell_type": "markdown",
   "id": "309870b1-641e-4586-829c-451e2d43c3ef",
   "metadata": {},
   "source": [
    "#### Example"
   ]
  },
  {
   "cell_type": "code",
   "execution_count": 11,
   "id": "659cbafb-8e80-4b73-a6d2-802f4ef6d3b0",
   "metadata": {},
   "outputs": [
    {
     "name": "stdout",
     "output_type": "stream",
     "text": [
      "25 <class 'int'>\n"
     ]
    }
   ],
   "source": [
    "x = 25\n",
    "print(x, type(x))"
   ]
  },
  {
   "cell_type": "code",
   "execution_count": 13,
   "id": "dfa88091-691d-49bc-853a-80e68a2d8d2a",
   "metadata": {},
   "outputs": [
    {
     "name": "stdout",
     "output_type": "stream",
     "text": [
      "-78 <class 'int'>\n"
     ]
    }
   ],
   "source": [
    "z = -78\n",
    "print(z, type(z))"
   ]
  },
  {
   "cell_type": "code",
   "execution_count": 17,
   "id": "b5ff172b-cd38-4726-8881-04dd7ed92ca6",
   "metadata": {},
   "outputs": [
    {
     "name": "stdout",
     "output_type": "stream",
     "text": [
      "100 <class 'int'>\n"
     ]
    }
   ],
   "source": [
    "y =100\n",
    "print(y, type(y))"
   ]
  },
  {
   "cell_type": "code",
   "execution_count": 19,
   "id": "2754e75b-e386-4b64-92bc-0b177433a5e5",
   "metadata": {},
   "outputs": [
    {
     "name": "stdout",
     "output_type": "stream",
     "text": [
      "50 <class 'int'>\n"
     ]
    }
   ],
   "source": [
    "a = 50\n",
    "print(a, type(a))"
   ]
  },
  {
   "cell_type": "code",
   "execution_count": 21,
   "id": "ebbafabe-b99f-4fcc-9010-fe9bb1885f5d",
   "metadata": {},
   "outputs": [
    {
     "name": "stdout",
     "output_type": "stream",
     "text": [
      "0 <class 'int'>\n"
     ]
    }
   ],
   "source": [
    "b = 0\n",
    "print(b, type(b))"
   ]
  },
  {
   "cell_type": "markdown",
   "id": "af0d7065-166d-4aef-ac31-e1b3bdcede89",
   "metadata": {},
   "source": [
    "### Float data type:"
   ]
  },
  {
   "cell_type": "markdown",
   "id": "dc039258-0a18-4570-bc86-805c71d9ca8f",
   "metadata": {},
   "source": [
    "                    This value is represented by the float class. It is a real number with a floating-point representation. It is specified by a decimal point. Optionally, the character e or E followed by a positive or negative integer may be appended to specify scientific notation."
   ]
  },
  {
   "cell_type": "markdown",
   "id": "93c92f78-1cdf-4d4d-940d-d56609b64cb6",
   "metadata": {},
   "source": [
    "#### Example"
   ]
  },
  {
   "cell_type": "code",
   "execution_count": 29,
   "id": "37899dc2-12d6-4b1e-b768-05215815fecf",
   "metadata": {},
   "outputs": [
    {
     "name": "stdout",
     "output_type": "stream",
     "text": [
      "7.8 <class 'float'>\n"
     ]
    }
   ],
   "source": [
    "x = 7.8\n",
    "print(x, type(x))"
   ]
  },
  {
   "cell_type": "code",
   "execution_count": 31,
   "id": "bb0693ab-5891-4f98-a617-f1e189451dcb",
   "metadata": {},
   "outputs": [
    {
     "name": "stdout",
     "output_type": "stream",
     "text": [
      "-33.3 <class 'float'>\n"
     ]
    }
   ],
   "source": [
    "y = -33.3\n",
    "print(y, type(y))"
   ]
  },
  {
   "cell_type": "code",
   "execution_count": 33,
   "id": "bac61731-2d25-4eac-8d62-4661fff966fd",
   "metadata": {},
   "outputs": [
    {
     "name": "stdout",
     "output_type": "stream",
     "text": [
      "0.0 <class 'float'>\n"
     ]
    }
   ],
   "source": [
    "z = 0.0\n",
    "print(z, type(z))"
   ]
  },
  {
   "cell_type": "code",
   "execution_count": 29,
   "id": "e9c779c4-32ab-4d95-ba15-01903aea9da4",
   "metadata": {},
   "outputs": [
    {
     "name": "stdout",
     "output_type": "stream",
     "text": [
      "-135.5 <class 'float'>\n"
     ]
    }
   ],
   "source": [
    "a = -100-35.5\n",
    "print(a, type(a))"
   ]
  },
  {
   "cell_type": "code",
   "execution_count": 31,
   "id": "025c7e39-0018-40bd-9bdc-6d878f400ba8",
   "metadata": {},
   "outputs": [
    {
     "name": "stdout",
     "output_type": "stream",
     "text": [
      "408.09999999999997 <class 'float'>\n"
     ]
    }
   ],
   "source": [
    "b = 77*5.3\n",
    "print(b, type(b))"
   ]
  },
  {
   "cell_type": "markdown",
   "id": "fb41bc69-229a-4d82-b88b-11ebe00ae883",
   "metadata": {},
   "source": [
    "### complex data type:"
   ]
  },
  {
   "cell_type": "markdown",
   "id": "e93b08aa-bf91-4306-b30d-30b2203a8c3b",
   "metadata": {},
   "source": [
    "#### Example          "
   ]
  },
  {
   "cell_type": "code",
   "execution_count": 56,
   "id": "bd4b7364-42ae-4bea-a8fc-5e66b6dc48d5",
   "metadata": {},
   "outputs": [
    {
     "name": "stdout",
     "output_type": "stream",
     "text": [
      "7j <class 'complex'>\n"
     ]
    }
   ],
   "source": [
    "a = 2j+5j\n",
    "print(a, type(a))"
   ]
  },
  {
   "cell_type": "code",
   "execution_count": 58,
   "id": "72f3f3a6-d920-4ace-b356-c2795bfa1020",
   "metadata": {},
   "outputs": [
    {
     "name": "stdout",
     "output_type": "stream",
     "text": [
      "73j <class 'complex'>\n"
     ]
    }
   ],
   "source": [
    "b = 21j+52j\n",
    "print(b, type(b))"
   ]
  },
  {
   "cell_type": "code",
   "execution_count": 62,
   "id": "da6f0ab1-4f45-47df-8240-d7357eb56841",
   "metadata": {},
   "outputs": [
    {
     "name": "stdout",
     "output_type": "stream",
     "text": [
      "8.1j <class 'complex'>\n"
     ]
    }
   ],
   "source": [
    "x = 3j+5.1j\n",
    "print(x, type(x))"
   ]
  },
  {
   "cell_type": "code",
   "execution_count": 64,
   "id": "0722ddf5-eaac-439d-a2e7-2fdf5d428874",
   "metadata": {},
   "outputs": [
    {
     "name": "stdout",
     "output_type": "stream",
     "text": [
      "-7j <class 'complex'>\n"
     ]
    }
   ],
   "source": [
    "y = 25j-32j\n",
    "print(y, type(y))"
   ]
  },
  {
   "cell_type": "code",
   "execution_count": 66,
   "id": "6d13706f-ef0d-4b6f-b0ad-1b9e4f80e69c",
   "metadata": {},
   "outputs": [
    {
     "name": "stdout",
     "output_type": "stream",
     "text": [
      "-21.540000000000006j <class 'complex'>\n"
     ]
    }
   ],
   "source": [
    "z = 99j-120.54j\n",
    "print(z, type(z))"
   ]
  },
  {
   "cell_type": "markdown",
   "id": "09672d2d-dde8-4255-a758-ba055e55686a",
   "metadata": {},
   "source": [
    "### Boolean data type:"
   ]
  },
  {
   "cell_type": "markdown",
   "id": "48ffa00f-6a41-4c3c-89f6-e766924f0325",
   "metadata": {},
   "source": [
    "                      Booleans represent one of two values: True or False."
   ]
  },
  {
   "cell_type": "markdown",
   "id": "857d4875-33ff-4ce3-a49b-e0ec49b17377",
   "metadata": {},
   "source": [
    "#### Example"
   ]
  },
  {
   "cell_type": "code",
   "execution_count": 33,
   "id": "b3690876-d86c-408f-b208-d806aa4e648a",
   "metadata": {},
   "outputs": [
    {
     "name": "stdout",
     "output_type": "stream",
     "text": [
      "True <class 'bool'>\n",
      "False <class 'bool'>\n",
      "True <class 'bool'>\n",
      "True <class 'bool'>\n",
      "True <class 'bool'>\n",
      "False <class 'bool'>\n",
      "True <class 'bool'>\n"
     ]
    }
   ],
   "source": [
    "a = (3!=2)\n",
    "print(a, type(a))\n",
    "b = (35<25)\n",
    "print(b, type(b))\n",
    "c= (99>72)\n",
    "print(c, type(c))\n",
    "d = (99==99)\n",
    "print(d, type(d))\n",
    "e = (35<72)\n",
    "print(e, type(e))\n",
    "f = (65<35)\n",
    "print(f, type(f))\n",
    "g = (7.5+3.5==11)\n",
    "print(g, type(g))"
   ]
  },
  {
   "cell_type": "markdown",
   "id": "4d9a84f7-bcfe-418f-aaf5-16eb603f298f",
   "metadata": {},
   "source": [
    "### Conversion Type:"
   ]
  },
  {
   "cell_type": "markdown",
   "id": "76a7facb-0750-4528-8844-2d94d24ab44b",
   "metadata": {},
   "source": [
    "                   Python defines type conversion functions to directly convert one data type to another which is useful in day-to-day and competitive programming."
   ]
  },
  {
   "cell_type": "code",
   "execution_count": 46,
   "id": "de5a4bd5-c8af-48e5-be5e-e65e7991856a",
   "metadata": {},
   "outputs": [
    {
     "name": "stdout",
     "output_type": "stream",
     "text": [
      "25.0\n",
      "1.0\n",
      "54.0\n",
      "22.0\n",
      "10.0\n"
     ]
    }
   ],
   "source": [
    "# covert from int to float\n",
    "\n",
    "\n",
    "a = 25\n",
    "print(float(a))\n",
    "rank = 1\n",
    "print(float(rank))\n",
    "weight = 54\n",
    "print(float(weight))\n",
    "age = 22\n",
    "print(float(age))\n",
    "marks = 10\n",
    "print(float(marks))"
   ]
  },
  {
   "cell_type": "code",
   "execution_count": 48,
   "id": "4a9cb874-f8fb-4d3a-865a-d5fce309c28a",
   "metadata": {},
   "outputs": [
    {
     "name": "stdout",
     "output_type": "stream",
     "text": [
      "25\n",
      "1\n",
      "54\n",
      "22\n",
      "10\n"
     ]
    }
   ],
   "source": [
    "# covert from float to int\n",
    "\n",
    "\n",
    "a = 25.5\n",
    "print(int(a))\n",
    "rank = 1.2\n",
    "print(int(rank))\n",
    "weight = 54.5\n",
    "print(int(weight))\n",
    "age = 22.8\n",
    "print(int(age))\n",
    "marks = 10.5\n",
    "print(int(marks))"
   ]
  },
  {
   "cell_type": "code",
   "execution_count": 50,
   "id": "f349925c-60ed-49a0-bcc6-b82253e58fa4",
   "metadata": {},
   "outputs": [
    {
     "name": "stdout",
     "output_type": "stream",
     "text": [
      "(25+0j)\n",
      "(1+0j)\n",
      "(54+0j)\n",
      "(22+0j)\n",
      "(10+0j)\n"
     ]
    }
   ],
   "source": [
    "# covert from int to complex\n",
    "\n",
    "\n",
    "a = 25\n",
    "print(complex(a))\n",
    "rank = 1\n",
    "print(complex(rank))\n",
    "weight = 54\n",
    "print(complex(weight))\n",
    "age = 22\n",
    "print(complex(age))\n",
    "marks = 10\n",
    "print(complex(marks))"
   ]
  },
  {
   "cell_type": "code",
   "execution_count": 52,
   "id": "494e3376-acf7-4665-af38-9cfe85c6f068",
   "metadata": {},
   "outputs": [
    {
     "name": "stdout",
     "output_type": "stream",
     "text": [
      "(25.5+0j)\n",
      "(1.2+0j)\n",
      "(54.5+0j)\n",
      "(22.8+0j)\n",
      "(10.5+0j)\n"
     ]
    }
   ],
   "source": [
    "# covert from float to complex\n",
    "\n",
    "\n",
    "a = 25.5\n",
    "print(complex(a))\n",
    "rank = 1.2\n",
    "print(complex(rank))\n",
    "weight = 54.5\n",
    "print(complex(weight))\n",
    "age = 22.8\n",
    "print(complex(age))\n",
    "marks = 10.5\n",
    "print(complex(marks))"
   ]
  },
  {
   "cell_type": "code",
   "execution_count": 54,
   "id": "7b1e4acc-4c86-4f27-a503-c32cc9a7339e",
   "metadata": {},
   "outputs": [
    {
     "ename": "TypeError",
     "evalue": "int() argument must be a string, a bytes-like object or a real number, not 'complex'",
     "output_type": "error",
     "traceback": [
      "\u001b[0;31m---------------------------------------------------------------------------\u001b[0m",
      "\u001b[0;31mTypeError\u001b[0m                                 Traceback (most recent call last)",
      "Cell \u001b[0;32mIn[54], line 5\u001b[0m\n\u001b[1;32m      1\u001b[0m \u001b[38;5;66;03m# convert from complex to int or float\u001b[39;00m\n\u001b[1;32m      4\u001b[0m a \u001b[38;5;241m=\u001b[39m \u001b[38;5;241m25\u001b[39m\u001b[38;5;241m+\u001b[39m\u001b[38;5;241m2\u001b[39mj\n\u001b[0;32m----> 5\u001b[0m \u001b[38;5;28mprint\u001b[39m(\u001b[38;5;28mint\u001b[39m(a))\n\u001b[1;32m      6\u001b[0m rank \u001b[38;5;241m=\u001b[39m \u001b[38;5;241m1.2\u001b[39m\u001b[38;5;241m+\u001b[39m\u001b[38;5;241m5\u001b[39mj\n\u001b[1;32m      7\u001b[0m \u001b[38;5;28mprint\u001b[39m(\u001b[38;5;28mfloat\u001b[39m(rank))\n",
      "\u001b[0;31mTypeError\u001b[0m: int() argument must be a string, a bytes-like object or a real number, not 'complex'"
     ]
    }
   ],
   "source": [
    "# convert from complex to int or float\n",
    "\n",
    "\n",
    "a = 25+2j\n",
    "print(int(a))\n",
    "rank = 1.2+5j\n",
    "print(float(rank))\n",
    "weight = 54.5+8j\n",
    "print(int(weight))\n",
    "age = 22.8-5j\n",
    "print(float(age))\n",
    "marks = 10.5*3j\n",
    "print(int(marks))"
   ]
  },
  {
   "cell_type": "code",
   "execution_count": null,
   "id": "e5deb22e-1f98-45c8-a5a4-fdfd8c910e52",
   "metadata": {},
   "outputs": [],
   "source": []
  }
 ],
 "metadata": {
  "kernelspec": {
   "display_name": "Python 3 (ipykernel)",
   "language": "python",
   "name": "python3"
  },
  "language_info": {
   "codemirror_mode": {
    "name": "ipython",
    "version": 3
   },
   "file_extension": ".py",
   "mimetype": "text/x-python",
   "name": "python",
   "nbconvert_exporter": "python",
   "pygments_lexer": "ipython3",
   "version": "3.12.4"
  }
 },
 "nbformat": 4,
 "nbformat_minor": 5
}
