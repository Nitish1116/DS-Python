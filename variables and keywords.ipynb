{
 "cells": [
  {
   "cell_type": "markdown",
   "id": "798b1aa0-b208-4c9b-a38e-b466a37d629d",
   "metadata": {},
   "source": [
    "variables:\n",
    "          Python Variable is containers that store values. Python is not “statically typed”. We do not need to declare variables before using them or declare their type. A variable is created the moment we first assign a value to it. A Python variable is a name given to a memory location. It is the basic unit of storage in a program.\n",
    "          \n",
    "Rules:\n",
    "\n",
    "->   A variable name must start with a letter or the underscore character\n",
    "->   A variable name cannot start with a number\n",
    "->   A variable name can only contain alpha-numeric characters and underscores (A-z, 0-9, and _ )\n",
    "->   Variable names are case-sensitive (age, Age and AGE are three different variables)\n",
    "->   A variable name cannot be any of the Python keywords.\n"
   ]
  },
  {
   "cell_type": "markdown",
   "id": "58b345eb-8889-4a4d-92d1-43b2d004aac0",
   "metadata": {},
   "source": [
    "20 valid variables:"
   ]
  },
  {
   "cell_type": "code",
   "execution_count": 8,
   "id": "02365922-d620-411a-916f-db7d2d36e948",
   "metadata": {},
   "outputs": [
    {
     "name": "stdout",
     "output_type": "stream",
     "text": [
      "nitish1116\n",
      "54\n",
      "7075072790\n",
      "22\n",
      "2023\n",
      "earth\n",
      "vizag\n",
      "(1, 3, 5)\n",
      "(2, 4, 6)\n",
      "+,-\n",
      "chicken\n",
      "kumar\n",
      "data science\n",
      "teksacademy\n",
      "shyam\n",
      "+5\n",
      "python\n",
      "nitish\n",
      "A Grade\n",
      "[1, 5, 7, 9]\n"
     ]
    }
   ],
   "source": [
    "# Valid-variables\n",
    "user_name = \"nitish1116\"\n",
    "weight_ = \"54\"\n",
    "_contact_no = \"7075072790\"\n",
    "age_1 = \"22\"\n",
    "passyear_ = \"2023\"\n",
    "global_name = \"earth\"\n",
    "_nativeplace = \"vizag\"\n",
    "odd_numbers3 = (1,3,5)\n",
    "_evennumbers3 = (2,4,6)\n",
    "_symbols = \"+,-\"\n",
    "fav_food = \"chicken\"\n",
    "name = \"kumar\"\n",
    "coursename_123= \"data science\"\n",
    "institutename_1 = \"teksacademy\"\n",
    "bestfriend = \"shyam\"\n",
    "positivevalue_ = \"+5\"\n",
    "_subject = \"python\"\n",
    "variable_123 = \"nitish\"\n",
    "classgrade =  \"A Grade\"\n",
    "numberslist_ = [1,5,7,9]\n",
    "\n",
    "print(user_name)\n",
    "print(weight_)\n",
    "print(_contact_no)\n",
    "print(age_1)\n",
    "print(passyear_)\n",
    "print(global_name)\n",
    "print(_nativeplace)\n",
    "print(odd_numbers3)\n",
    "print(_evennumbers3)\n",
    "print(_symbols)\n",
    "print(fav_food)\n",
    "print(name)\n",
    "print(coursename_123)\n",
    "print(institutename_1)\n",
    "print(bestfriend)\n",
    "print(positivevalue_)\n",
    "print(_subject)\n",
    "print(variable_123)\n",
    "print(classgrade)\n",
    "print(numberslist_)"
   ]
  },
  {
   "cell_type": "markdown",
   "id": "f0ad9e2f-0110-4b14-92b4-247ca9d0cfd8",
   "metadata": {},
   "source": [
    "Invalid variables:\n",
    "                  Invalid variable names include those that start with a number, have a space in the name, or contain special characters.\n",
    "\n",
    "20 invalid variables:"
   ]
  },
  {
   "cell_type": "code",
   "execution_count": 2,
   "id": "ba565b18-7cf7-41e1-bbcf-051366ecde2a",
   "metadata": {},
   "outputs": [
    {
     "ename": "SyntaxError",
     "evalue": "invalid decimal literal (1974379288.py, line 2)",
     "output_type": "error",
     "traceback": [
      "\u001b[0;36m  Cell \u001b[0;32mIn[2], line 2\u001b[0;36m\u001b[0m\n\u001b[0;31m    123variable = \"nitish\"\u001b[0m\n\u001b[0m      ^\u001b[0m\n\u001b[0;31mSyntaxError\u001b[0m\u001b[0;31m:\u001b[0m invalid decimal literal\n"
     ]
    }
   ],
   "source": [
    "# In-Valid variables\n",
    "123variable = \"nitish\"\n",
    "class@ =  \"A Grade\"\n",
    "numbers-list = [1,5,7,9]\n",
    "user@name = \"nitish1116\"\n",
    "weight? = \"54\"\n",
    "contact-no = \"7075072790\"\n",
    "age 1 = \"22\"\n",
    "passyear! = \"2023\"\n",
    "global-name = \"earth\"\n",
    "native:place = \"vizag\"\n",
    "3odd#numbers = (1,3,5)\n",
    "3even^numbers = (2,4,6)\n",
    "symbols- = \"+,-\"\n",
    "fav*food = \"chicken\"\n",
    "name^ = \"kumar\"\n",
    "course%name = \"data science\"\n",
    "1institute-name = \"teksacademy\"\n",
    "@friendname = \"shyam\"\n",
    "positivevalue+ = \"+5\"\n",
    "#subject = \"python\"\n",
    "\n",
    "\n",
    "print(123variable)\n",
    "print(class@)\n",
    "print(numbers-list)\n",
    "print(print(user@name)\n",
    "print(weight?)\n",
    "print(contact-no)\n",
    "print(age 1)\n",
    "print(print(passyear!)\n",
    "print(global-name)\n",
    "print(native:place)\n",
    "print(3odd#numbers)\n",
    "print(3even^numbers)\n",
    "print(symbols-)\n",
    "print(fav*food)\n",
    "print(name^)\n",
    "print(course%name)\n",
    "print(1institute-name)\n",
    "print(@friendname)\n",
    "print(positivevalue+)\n",
    "print(#subject)"
   ]
  },
  {
   "cell_type": "markdown",
   "id": "b4b6b372-deec-4181-b122-976fc77289df",
   "metadata": {},
   "source": [
    "Multiple variables:\n",
    "-> Assigning different operation results to multiple variable."
   ]
  },
  {
   "cell_type": "code",
   "execution_count": 10,
   "id": "8058135d-2aa3-4f62-8fe2-ba6941454177",
   "metadata": {},
   "outputs": [
    {
     "name": "stdout",
     "output_type": "stream",
     "text": [
      "11\n",
      "24\n"
     ]
    }
   ],
   "source": [
    "a, b = 8, 3\n",
    "add, pro = (a+b), (a*b)\n",
    "print(add)\n",
    "print(pro)"
   ]
  },
  {
   "cell_type": "markdown",
   "id": "921bae3e-1a89-4197-a4b3-d8527ea16ac9",
   "metadata": {},
   "source": [
    "-> Assigning values of different datatypes"
   ]
  },
  {
   "cell_type": "code",
   "execution_count": 18,
   "id": "ab0fb6a3-2146-4c61-b43c-fffe6b256a72",
   "metadata": {},
   "outputs": [
    {
     "name": "stdout",
     "output_type": "stream",
     "text": [
      "4\n",
      "8\n",
      "12\n",
      "16\n"
     ]
    }
   ],
   "source": [
    "a, b, c, d = 4, 8, 12, 16\n",
    "print(a)\n",
    "print(b)\n",
    "print(c)\n",
    "print(d)"
   ]
  },
  {
   "cell_type": "markdown",
   "id": "d1d4c54c-446e-4403-8473-1d8e0505f7b0",
   "metadata": {},
   "source": [
    "keyword:\n",
    "        Python Keywords are some predefined and reserved words in Python that have special meanings. Keywords are used to define the syntax of the coding. The keyword cannot be used as an identifier, function, or variable name. All the keywords in Python are written in lowercase except True and False. There are 35 keywords in Python."
   ]
  },
  {
   "cell_type": "code",
   "execution_count": 16,
   "id": "ff528eb4-ff16-40b7-80cc-9c86298ac33a",
   "metadata": {},
   "outputs": [
    {
     "name": "stdout",
     "output_type": "stream",
     "text": [
      "['False', 'None', 'True', 'and', 'as', 'assert', 'async', 'await', 'break', 'class', 'continue', 'def', 'del', 'elif', 'else', 'except', 'finally', 'for', 'from', 'global', 'if', 'import', 'in', 'is', 'lambda', 'nonlocal', 'not', 'or', 'pass', 'raise', 'return', 'try', 'while', 'with', 'yield']\n"
     ]
    },
    {
     "data": {
      "text/plain": [
       "35"
      ]
     },
     "execution_count": 16,
     "metadata": {},
     "output_type": "execute_result"
    }
   ],
   "source": [
    "import keyword\n",
    "\n",
    "# Get the list of Python keywords\n",
    "python_keywords = keyword.kwlist\n",
    "\n",
    "# Display the list of keywords\n",
    "print(python_keywords)\n",
    "\n",
    "len(python_keywords)"
   ]
  },
  {
   "cell_type": "code",
   "execution_count": null,
   "id": "dbe73673-b07c-4d65-a4a1-f575872c1360",
   "metadata": {},
   "outputs": [],
   "source": []
  },
  {
   "cell_type": "code",
   "execution_count": null,
   "id": "4495f17a-2f2c-461c-99ba-6fdfbdfb84ba",
   "metadata": {},
   "outputs": [],
   "source": []
  }
 ],
 "metadata": {
  "kernelspec": {
   "display_name": "Python 3 (ipykernel)",
   "language": "python",
   "name": "python3"
  },
  "language_info": {
   "codemirror_mode": {
    "name": "ipython",
    "version": 3
   },
   "file_extension": ".py",
   "mimetype": "text/x-python",
   "name": "python",
   "nbconvert_exporter": "python",
   "pygments_lexer": "ipython3",
   "version": "3.12.4"
  }
 },
 "nbformat": 4,
 "nbformat_minor": 5
}
